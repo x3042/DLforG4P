{
  "nbformat": 4,
  "nbformat_minor": 0,
  "metadata": {
    "colab": {
      "provenance": []
    },
    "kernelspec": {
      "name": "python3",
      "display_name": "Python 3"
    },
    "language_info": {
      "name": "python"
    }
  },
  "cells": [
    {
      "cell_type": "code",
      "execution_count": null,
      "metadata": {
        "colab": {
          "base_uri": "https://localhost:8080/"
        },
        "id": "Xzi13lcsUZjD",
        "outputId": "fa392af2-af16-48d3-e1a9-03f2ab307836"
      },
      "outputs": [
        {
          "output_type": "stream",
          "name": "stdout",
          "text": [
            "--2023-05-08 15:12:33--  https://webs.iiitd.edu.in/raghava/dbpred/dbpred.zip\n",
            "Resolving webs.iiitd.edu.in (webs.iiitd.edu.in)... 103.25.231.42\n",
            "Connecting to webs.iiitd.edu.in (webs.iiitd.edu.in)|103.25.231.42|:443... connected.\n",
            "HTTP request sent, awaiting response... 200 OK\n",
            "Length: 9379197 (8.9M) [application/zip]\n",
            "Saving to: ‘dbpred.zip’\n",
            "\n",
            "dbpred.zip          100%[===================>]   8.94M  3.38MB/s    in 2.6s    \n",
            "\n",
            "2023-05-08 15:12:37 (3.38 MB/s) - ‘dbpred.zip’ saved [9379197/9379197]\n",
            "\n",
            "Archive:  dbpred.zip\n",
            "   creating: dbpred/\n",
            "  inflating: dbpred/example_output.txt  \n",
            "  inflating: dbpred/envfile          \n",
            "  inflating: dbpred/LICENSE          \n",
            "  inflating: dbpred/dbpred.py        \n",
            "  inflating: dbpred/INSTALLATION     \n",
            "  inflating: dbpred/README.md        \n",
            "   creating: dbpred/prog/\n",
            "  inflating: dbpred/prog/model_PCB.h5  \n",
            "  inflating: dbpred/prog/model.h5    \n",
            "  inflating: dbpred/prog/model_PSSM.h5  \n",
            "  inflating: dbpred/prog/model_AAB.h5  \n",
            "  inflating: dbpred/example_seq.fa   \n",
            "/content/dbpred\n"
          ]
        }
      ],
      "source": [
        "! wget https://webs.iiitd.edu.in/raghava/dbpred/dbpred.zip\n",
        "!unzip dbpred.zip\n",
        "%cd /content/dbpred"
      ]
    },
    {
      "cell_type": "code",
      "source": [
        "!apt-get install ncbi-blast+-legacy"
      ],
      "metadata": {
        "colab": {
          "base_uri": "https://localhost:8080/"
        },
        "id": "m6odW6bPBKeZ",
        "outputId": "ab3051da-c179-4ffe-e33b-40b1686cbc40"
      },
      "execution_count": null,
      "outputs": [
        {
          "output_type": "stream",
          "name": "stdout",
          "text": [
            "Reading package lists... Done\n",
            "Building dependency tree       \n",
            "Reading state information... Done\n",
            "The following additional packages will be installed:\n",
            "  ncbi-blast+ ncbi-data\n",
            "The following NEW packages will be installed:\n",
            "  ncbi-blast+ ncbi-blast+-legacy ncbi-data\n",
            "0 upgraded, 3 newly installed, 0 to remove and 24 not upgraded.\n",
            "Need to get 14.6 MB of archives.\n",
            "After this operation, 74.2 MB of additional disk space will be used.\n",
            "Get:1 http://archive.ubuntu.com/ubuntu focal/universe amd64 ncbi-data all 6.1.20170106+dfsg1-8 [3,518 kB]\n",
            "Get:2 http://archive.ubuntu.com/ubuntu focal/universe amd64 ncbi-blast+ amd64 2.9.0-2 [11.1 MB]\n",
            "Get:3 http://archive.ubuntu.com/ubuntu focal/universe amd64 ncbi-blast+-legacy all 2.9.0-2 [5,064 B]\n",
            "Fetched 14.6 MB in 0s (60.7 MB/s)\n",
            "Selecting previously unselected package ncbi-data.\n",
            "(Reading database ... 122518 files and directories currently installed.)\n",
            "Preparing to unpack .../ncbi-data_6.1.20170106+dfsg1-8_all.deb ...\n",
            "Unpacking ncbi-data (6.1.20170106+dfsg1-8) ...\n",
            "Selecting previously unselected package ncbi-blast+.\n",
            "Preparing to unpack .../ncbi-blast+_2.9.0-2_amd64.deb ...\n",
            "Unpacking ncbi-blast+ (2.9.0-2) ...\n",
            "Selecting previously unselected package ncbi-blast+-legacy.\n",
            "Preparing to unpack .../ncbi-blast+-legacy_2.9.0-2_all.deb ...\n",
            "Unpacking ncbi-blast+-legacy (2.9.0-2) ...\n",
            "Setting up ncbi-data (6.1.20170106+dfsg1-8) ...\n",
            "Setting up ncbi-blast+ (2.9.0-2) ...\n",
            "Setting up ncbi-blast+-legacy (2.9.0-2) ...\n",
            "Processing triggers for man-db (2.9.1-1) ...\n",
            "Processing triggers for hicolor-icon-theme (0.17-2) ...\n"
          ]
        }
      ]
    },
    {
      "cell_type": "code",
      "source": [
        "!cat envfile"
      ],
      "metadata": {
        "colab": {
          "base_uri": "https://localhost:8080/"
        },
        "id": "2ldh3qhXBBG7",
        "outputId": "d95fb767-adf7-4f20-ddd7-d7fee66c7cdd"
      },
      "execution_count": null,
      "outputs": [
        {
          "output_type": "stream",
          "name": "stdout",
          "text": [
            "#Path information for the generation of PSSM profile\n",
            "#User can change the paths according to their machines\n",
            "BLASTPGP:/home/gpsr/software/blastpr/blastpgp\n",
            "BLAST database:/usr1/software/blastpr/data/swissprot\n",
            "MAKEMAT:/home/gpsr/software/blastpr/makemat\n"
          ]
        }
      ]
    },
    {
      "cell_type": "code",
      "source": [
        "!readlink -e gpsr"
      ],
      "metadata": {
        "id": "sK2S4FjjCEEr"
      },
      "execution_count": null,
      "outputs": []
    },
    {
      "cell_type": "code",
      "source": [
        "!which blastpqp"
      ],
      "metadata": {
        "id": "eXfv3_mFC6wP"
      },
      "execution_count": null,
      "outputs": []
    },
    {
      "cell_type": "code",
      "source": [
        "!wget https://ftp.ncbi.nlm.nih.gov/blast/executables/LATEST/ncbi-blast-2.14.0+-x64-linux.tar.gz\n",
        "!gunzip ncbi-blast-2.14.0+-x64-linux.tar.gz\n",
        "!tar xvpf ncbi-blast-2.14.0+-x64-linux.tar"
      ],
      "metadata": {
        "colab": {
          "base_uri": "https://localhost:8080/"
        },
        "id": "e7YYM1NLDr0v",
        "outputId": "d8d82e5e-0571-48f8-f004-67d991cdb9b1"
      },
      "execution_count": null,
      "outputs": [
        {
          "output_type": "stream",
          "name": "stdout",
          "text": [
            "--2023-05-01 11:26:01--  https://ftp.ncbi.nlm.nih.gov/blast/executables/LATEST/ncbi-blast-2.14.0+-x64-linux.tar.gz\n",
            "Resolving ftp.ncbi.nlm.nih.gov (ftp.ncbi.nlm.nih.gov)... 165.112.9.229, 130.14.250.7, 2607:f220:41e:250::12, ...\n",
            "Connecting to ftp.ncbi.nlm.nih.gov (ftp.ncbi.nlm.nih.gov)|165.112.9.229|:443... connected.\n",
            "HTTP request sent, awaiting response... 200 OK\n",
            "Length: 242603869 (231M) [application/x-gzip]\n",
            "Saving to: ‘ncbi-blast-2.14.0+-x64-linux.tar.gz’\n",
            "\n",
            "ncbi-blast-2.14.0+- 100%[===================>] 231.36M  33.9MB/s    in 7.4s    \n",
            "\n",
            "2023-05-01 11:26:09 (31.2 MB/s) - ‘ncbi-blast-2.14.0+-x64-linux.tar.gz’ saved [242603869/242603869]\n",
            "\n",
            "ncbi-blast-2.14.0+/\n",
            "ncbi-blast-2.14.0+/ChangeLog\n",
            "ncbi-blast-2.14.0+/bin/\n",
            "ncbi-blast-2.14.0+/bin/get_species_taxids.sh\n",
            "ncbi-blast-2.14.0+/bin/cleanup-blastdb-volumes.py\n",
            "ncbi-blast-2.14.0+/bin/blastx\n",
            "ncbi-blast-2.14.0+/bin/makeblastdb\n",
            "ncbi-blast-2.14.0+/bin/tblastx\n",
            "ncbi-blast-2.14.0+/bin/psiblast\n",
            "ncbi-blast-2.14.0+/bin/blastp\n",
            "ncbi-blast-2.14.0+/bin/makeprofiledb\n",
            "ncbi-blast-2.14.0+/bin/segmasker\n",
            "ncbi-blast-2.14.0+/bin/blast_formatter\n",
            "ncbi-blast-2.14.0+/bin/blastn\n",
            "ncbi-blast-2.14.0+/bin/blastn_vdb\n",
            "ncbi-blast-2.14.0+/bin/update_blastdb.pl\n",
            "ncbi-blast-2.14.0+/bin/blastdbcmd\n",
            "ncbi-blast-2.14.0+/bin/legacy_blast.pl\n",
            "ncbi-blast-2.14.0+/bin/dustmasker\n",
            "ncbi-blast-2.14.0+/bin/blast_vdb_cmd\n",
            "ncbi-blast-2.14.0+/bin/makembindex\n",
            "ncbi-blast-2.14.0+/bin/blastdb_aliastool\n",
            "ncbi-blast-2.14.0+/bin/deltablast\n",
            "ncbi-blast-2.14.0+/bin/rpsblast\n",
            "ncbi-blast-2.14.0+/bin/tblastn_vdb\n",
            "ncbi-blast-2.14.0+/bin/rpstblastn\n",
            "ncbi-blast-2.14.0+/bin/tblastn\n",
            "ncbi-blast-2.14.0+/bin/blastdbcheck\n",
            "ncbi-blast-2.14.0+/bin/blast_formatter_vdb\n",
            "ncbi-blast-2.14.0+/bin/convert2blastmask\n",
            "ncbi-blast-2.14.0+/bin/windowmasker\n",
            "ncbi-blast-2.14.0+/doc/\n",
            "ncbi-blast-2.14.0+/doc/README.txt\n",
            "ncbi-blast-2.14.0+/ncbi_package_info\n",
            "ncbi-blast-2.14.0+/LICENSE\n",
            "ncbi-blast-2.14.0+/BLAST_PRIVACY\n",
            "ncbi-blast-2.14.0+/README\n"
          ]
        }
      ]
    },
    {
      "cell_type": "code",
      "source": [
        "!which makemat"
      ],
      "metadata": {
        "id": "triVnE9oES7Q"
      },
      "execution_count": null,
      "outputs": []
    },
    {
      "cell_type": "code",
      "source": [
        "!cat envfile"
      ],
      "metadata": {
        "colab": {
          "base_uri": "https://localhost:8080/"
        },
        "id": "R8sSX72hFNpP",
        "outputId": "1ea44e3f-f591-41f7-e89a-da1975619a30"
      },
      "execution_count": null,
      "outputs": [
        {
          "output_type": "stream",
          "name": "stdout",
          "text": [
            "#Path information for the generation of PSSM profile\n",
            "#User can change the paths according to their machines\n",
            "BLASTPGP:/home/gpsr/software/blastpr/blastpgp\n",
            "BLAST database:/usr1/software/blastpr/data/swissprot\n",
            "MAKEMAT:/home/gpsr/software/blastpr/makemat\n"
          ]
        }
      ]
    },
    {
      "cell_type": "code",
      "source": [
        "!wget https://github.com/hfuulgb/PDBP-Fusion/raw/main/DataSet/PDB14189_N.txt"
      ],
      "metadata": {
        "colab": {
          "base_uri": "https://localhost:8080/"
        },
        "id": "01qZTa4iytK_",
        "outputId": "521b8629-5004-4903-8eaf-90bf8c269dfa"
      },
      "execution_count": null,
      "outputs": [
        {
          "output_type": "stream",
          "name": "stdout",
          "text": [
            "--2023-05-01 14:01:16--  https://github.com/hfuulgb/PDBP-Fusion/raw/main/DataSet/PDB14189_N.txt\n",
            "Resolving github.com (github.com)... 140.82.121.3\n",
            "Connecting to github.com (github.com)|140.82.121.3|:443... connected.\n",
            "HTTP request sent, awaiting response... 302 Found\n",
            "Location: https://raw.githubusercontent.com/hfuulgb/PDBP-Fusion/main/DataSet/PDB14189_N.txt [following]\n",
            "--2023-05-01 14:01:17--  https://raw.githubusercontent.com/hfuulgb/PDBP-Fusion/main/DataSet/PDB14189_N.txt\n",
            "Resolving raw.githubusercontent.com (raw.githubusercontent.com)... 185.199.108.133, 185.199.110.133, 185.199.109.133, ...\n",
            "Connecting to raw.githubusercontent.com (raw.githubusercontent.com)|185.199.108.133|:443... connected.\n",
            "HTTP request sent, awaiting response... 200 OK\n",
            "Length: 2542066 (2.4M) [text/plain]\n",
            "Saving to: ‘PDB14189_N.txt’\n",
            "\n",
            "PDB14189_N.txt      100%[===================>]   2.42M  --.-KB/s    in 0.02s   \n",
            "\n",
            "2023-05-01 14:01:17 (108 MB/s) - ‘PDB14189_N.txt’ saved [2542066/2542066]\n",
            "\n"
          ]
        }
      ]
    },
    {
      "cell_type": "code",
      "source": [
        "!head PDB14189_N.txt "
      ],
      "metadata": {
        "colab": {
          "base_uri": "https://localhost:8080/"
        },
        "id": "KT_YjWf-z05N",
        "outputId": "15195bc0-8082-4a96-cc33-8e65a4ed09bf"
      },
      "execution_count": null,
      "outputs": [
        {
          "output_type": "stream",
          "name": "stdout",
          "text": [
            ">Q9X4M1\n",
            "MEKILAINAGSSTLKWQLFEMPSETVIAKGMIDRLGLSDSVFTAKYGDNQKFKEVQDVTTHEMAATLLLTRLKELGIVSHLDEITGVGHRVVGGGEAFSDSMVINPVALDEINRLAEYAPLHNPTQAYYIKIFTALLPGVPQVAVFDTSFYSTLAPENYLYSIPQEYYQTFGARKYGAHGTSHRYVAHRAAEILGTPLESQKMITLHLGSGASITAVQDGHAVDTSMGFTPLAGITMGTRSGDIDVSLVAFLAKKLEITMPEMIDILNHKSGLLGISELSPDMRDLEETAATRPQSALALSIFVNRVVKYVGSYVALMNGIDTLVFTAGSGENGSELRADICKQLACFGVKLDEEKNNVRSQERIISADDSKVKVLIVPTNEELMIARDVMRLK\n",
            ">Q5L8C0\n",
            "MSKLHIKKGDTVYVNAGEDKGKTGRVLKVLVKEGRAIVEGINMVSKSTKPNAKNPQGGIVKQEAPIHISNLNPVDPKTGKATRVGRKVSSEGTLVRYSKKSGEEIK\n",
            ">Q6G461\n",
            "MIVGLGSDLTDIRRIERMLARYGDRFVQRIFTDIERNRSESLQKKSSSYAKRFAAKEACAKALGTGIACGINWKDMGVINLPSGKPIMKLTNRAQMQLQKLLPSHHDAIIHLSMTDDFPWAQAFIIIEAFPRG\n",
            ">Q12233\n",
            "MLSRIQNYTSGLVSKANLLSSKALYYGKVGAEISKQIYLKEGLQPPTVAQFKSVYSNLYKQSLNFALKPTEVLSCLKNIQKNELLKYGAYGIQLIGFYSVGEIIGRRKLVGYKHH\n",
            ">Q14692\n",
            "MEAKDQKKHRKKNSGPKAAKKKKRLLQDLQLGDEEDARKRNPKAFAVQSAVRMARSFHRTQDLKTKKHHIPVVDRTPLEPPPIVVVVMGPPKVGKSTLIQCLIRNFTRQKLTEIRGPVTIVSGKKRRLTIIECGCDINMMIDLAKVADLVLMLIDASFGFEMETFEFLNICQVHGFPKIMGVLTHLDSFKHNKQLKKTKKRLKHRFWTEVYPGAKLFYLSGMVHGEYQNQEIHNLGRFITVMKFRPLTWQTSHPYILADRMEDLTNPEDIRTNIKCDRKVSLYGYLRGAHLKNKSQIHMPGVGDFAVSDISFLPDPCALPEQQKKRCLNEKEKLVYAPLSGVGGVLYDKDAVYVDLGGSHVFQDEVGPTHELVQSLISTHSTIDAKMASSRVTLFSDSKPLGSEDIDNQGLMMPKEEKQMDLNTGRMRRKAIFGDEDESGDSDDEEDDEMSEDDGLENGSSDEEAEEEENAEMTDQYMAVKGIKRRKLELEEDSEMDLPAFADSDDDLERSSAEEGEAEEADESSEEEDCTAGEKGISGSKAAGEGSKAGLSPANCQSDRVNLEKSLLMKKAALPTFDSGHCTAEEVFASEDESEESSSLSAEEEDSENEEAIRKKLSKPSQVSSGQKLGPQNFIDETSDIENLLKEEEDYKEENNDSKETSGALKWKEDLSRKAAEAFLRQQQAAPNLRKLIYGTVTEDNEEEDDDTLEELGGLFRVNQPDRECKHKADSLDCSRFLVEAPHDWDLEEVMNSIRDCFVTGKWEDDKDAAKVLAEDEELYGDFEDLETGDVHKGKSGPNTQNEDIEKEVKEEIDPDEEESAKKKHLDKKRKLKEMFDAEYDEGESTYFDDLKGEMQKQAQLNRAEFEDQDDEARVQYEGFRPGMYVRIEIENVPCEFVQNFDPHYPIILGGLGNSEGNVGYVQMRLKKHRWYKKILKSRDPIIFSVGWRRFQTIPLYYIEDHNGRQRLLKYTPQHMHCGAAFWGPITPQGTGFLAIQSVSGIMPDFRIAATGVVLDLDKSIKIVKKLKLTGFPYKIFKNTSFIKGMFNSALEVAKFEGAVIRTVSGIRGQIKKALRAPEGAFRASFEDKLLMSDIVFMRTWYPVSIPAFYNPVTSLLKPVGEKDTWSGMRTTGQLRLAHGVRLKANKDSLYKPILRQKKHFNSLHIPKALQKALPFKNKPKTQAKAGKVPKDRRRPAVIREPHERKILALLDALSTVHSQKMKKAKEQRHLHNKEHFRAKQKEEEEKLKRQKDLRKKLFRIQGQKERRNQKSSLKGAEGQLQ\n"
          ]
        }
      ]
    },
    {
      "cell_type": "code",
      "source": [
        "!mv /content/dbpred.py /content/dbpred/dbpred.py"
      ],
      "metadata": {
        "id": "VNUpV8bRz28k"
      },
      "execution_count": null,
      "outputs": []
    },
    {
      "cell_type": "code",
      "source": [
        "!cat dbpred.py"
      ],
      "metadata": {
        "colab": {
          "base_uri": "https://localhost:8080/"
        },
        "id": "Hctnl1ls7HZ2",
        "outputId": "4d4f246e-c13c-49ab-d782-98604577be9c"
      },
      "execution_count": null,
      "outputs": [
        {
          "output_type": "stream",
          "name": "stdout",
          "text": [
            "##############################################################################\n",
            "# DBPred is developed for predicting the DNA-interacting residues in protein  #\n",
            "# using primary structure. It is developed by Prof G. P. S. Raghava's group.  #\n",
            "# Please cite: DBPred\t\t\t\t\t\t      #\n",
            "# ############################################################################\n",
            "import os\n",
            "import pickle\n",
            "import numpy as np\n",
            "import pandas as pd\n",
            "import sys\n",
            "import csv\n",
            "import re\n",
            "import glob\n",
            "import time\n",
            "from time import sleep\n",
            "#from tqdm import tqdm\n",
            "import argparse\n",
            "import warnings\n",
            "from argparse import RawTextHelpFormatter\n",
            "import tensorflow as tf\n",
            "from keras.models import load_model\n",
            "import uuid\n",
            "warnings.filterwarnings('ignore')\n",
            "\n",
            "\n",
            "parser = argparse.ArgumentParser(description='Please provide following arguments',formatter_class=RawTextHelpFormatter)\n",
            "## Read Arguments from command\n",
            "parser.add_argument(\"-i\", \"--input\", type=str, required=True, help=\"Input: Protein sequences in FASTA format\")\n",
            "parser.add_argument(\"-o\", \"--output\",type=str, help=\"Output: File for saving results by default outfile.csv\")\n",
            "parser.add_argument(\"-j\", \"--job\",type=int, choices = [1,2,3,4], help=\"Feature Type:\\n1: Amino Acid Binary (AAB) profile\\n2: Physico-chemical based binary (PCB) profile\\n3: Position-Specific Scoring Matrix (PSSM) profile\\n4: Hybrid (AAB+PCB+PSSM), by default 1 (AAB)\")\n",
            "parser.add_argument(\"-t\",\"--threshold\", type=float, help=\"Threshold: Value between 0 to 1 by default 0.05\")\n",
            "parser.add_argument(\"-p\", \"--path\",type=str, help=\"Path: Please provide the path of python which has all libraries installed\")\n",
            "args = parser.parse_args()\n",
            "\n",
            "def readseq(file):\n",
            "    with open(file) as f:\n",
            "        records = f.read()\n",
            "    records = records.split('>')[1:]\n",
            "    seqid = []\n",
            "    seq = []\n",
            "    for fasta in records:\n",
            "        array = fasta.split('\\n')\n",
            "        name, sequence = array[0].split()[0], re.sub('[^ARNDCQEGHILKMFPSTWYV-]', '', ''.join(array[1:]).upper())\n",
            "        seqid.append(name)\n",
            "        seq.append(sequence)\n",
            "    if len(seqid) == 0:\n",
            "        f=open(file,\"r\")\n",
            "        data1 = f.readlines()\n",
            "        for each in data1:\n",
            "            seq.append(each.replace('\\n',''))\n",
            "        for i in range (1,len(seq)+1):\n",
            "            seqid.append(\"Seq_\"+str(i))\n",
            "    for i in seq:\n",
            "        if 'B' in i:\n",
            "            print('\\nError: The input sequences contain non-natural amino acids. Kindly check the sequence.\\n')\n",
            "            sys.exit()\n",
            "        if 'J' in i:\n",
            "            print('\\nError: The input sequences contain non-natural amino acids. Kindly check the sequence.\\n')\n",
            "            sys.exit()\n",
            "        if 'O' in i:\n",
            "            print('\\nError: The input sequences contain non-natural amino acids. Kindly check the sequence.\\n')\n",
            "            sys.exit()\n",
            "        if 'U' in i:\n",
            "            print('\\nError: The input sequences contain non-natural amino acids. Kindly check the sequence.\\n')\n",
            "            sys.exit()\n",
            "        if 'Z' in i:\n",
            "            print('\\nError: The input sequences contain non-natural amino acids. Kindly check the sequence.\\n')\n",
            "            sys.exit()\n",
            "        if 'X' in i:\n",
            "            print('\\nError: The input sequences contain non-natural amino acids. Kindly check the sequence.\\n')\n",
            "            sys.exit()\n",
            "    df4 = pd.DataFrame(seq)\n",
            "    df5 = pd.DataFrame(seqid)\n",
            "    return df4,df5\n",
            "def aab(file,out):\n",
            "    std = list('ACDEFGHIKLMNPQRSTVWYX')\n",
            "    df = pd.read_csv(file, header = None)\n",
            "    uu = []\n",
            "    for ss in df[0]:\n",
            "         uu.append(len(ss))\n",
            "    zz = df.iloc[:,0]\n",
            "    f = open(out, mode='w')\n",
            "    sys.stdout = f\n",
            "    A=('1,0,0,0,0,0,0,0,0,0,0,0,0,0,0,0,0,0,0,0,0')\n",
            "    C=('0,1,0,0,0,0,0,0,0,0,0,0,0,0,0,0,0,0,0,0,0')\n",
            "    D=('0,0,1,0,0,0,0,0,0,0,0,0,0,0,0,0,0,0,0,0,0')\n",
            "    E=('0,0,0,1,0,0,0,0,0,0,0,0,0,0,0,0,0,0,0,0,0')\n",
            "    F=('0,0,0,0,1,0,0,0,0,0,0,0,0,0,0,0,0,0,0,0,0')\n",
            "    G=('0,0,0,0,0,1,0,0,0,0,0,0,0,0,0,0,0,0,0,0,0')\n",
            "    H=('0,0,0,0,0,0,1,0,0,0,0,0,0,0,0,0,0,0,0,0,0')\n",
            "    I=('0,0,0,0,0,0,0,1,0,0,0,0,0,0,0,0,0,0,0,0,0')\n",
            "    K=('0,0,0,0,0,0,0,0,1,0,0,0,0,0,0,0,0,0,0,0,0')\n",
            "    L=('0,0,0,0,0,0,0,0,0,1,0,0,0,0,0,0,0,0,0,0,0')\n",
            "    M=('0,0,0,0,0,0,0,0,0,0,1,0,0,0,0,0,0,0,0,0,0')\n",
            "    N=('0,0,0,0,0,0,0,0,0,0,0,1,0,0,0,0,0,0,0,0,0')\n",
            "    P=('0,0,0,0,0,0,0,0,0,0,0,0,1,0,0,0,0,0,0,0,0')\n",
            "    Q=('0,0,0,0,0,0,0,0,0,0,0,0,0,1,0,0,0,0,0,0,0')\n",
            "    R=('0,0,0,0,0,0,0,0,0,0,0,0,0,0,1,0,0,0,0,0,0')\n",
            "    S=('0,0,0,0,0,0,0,0,0,0,0,0,0,0,0,1,0,0,0,0,0')\n",
            "    T=('0,0,0,0,0,0,0,0,0,0,0,0,0,0,0,0,1,0,0,0,0')\n",
            "    V=('0,0,0,0,0,0,0,0,0,0,0,0,0,0,0,0,0,1,0,0,0')\n",
            "    W=('0,0,0,0,0,0,0,0,0,0,0,0,0,0,0,0,0,0,1,0,0')\n",
            "    Y=('0,0,0,0,0,0,0,0,0,0,0,0,0,0,0,0,0,0,0,1,0')\n",
            "    X=('0,0,0,0,0,0,0,0,0,0,0,0,0,0,0,0,0,0,0,0,1')\n",
            "    for mm in range (1,max(uu)+1):\n",
            "        for ee in std:\n",
            "            print(ee+str(mm),end=',')\n",
            "    print(\"\")\n",
            "    for i in range(0,len(zz)):\n",
            "        for j in zz[i]:\n",
            "            if j == \"A\":\n",
            "                print(''.join(A), end = ',')\n",
            "            if j == \"C\":\n",
            "                print(''.join(C), end = ',')\n",
            "            if j == \"D\":\n",
            "                print(''.join(D), end = ',')\n",
            "            if j == \"E\":\n",
            "                print(''.join(E), end = ',')\n",
            "            if j == \"F\":\n",
            "                print(''.join(F), end = ',')\n",
            "            if j == \"G\":\n",
            "                print(''.join(G), end = ',')\n",
            "            if j == \"H\":\n",
            "                print(''.join(H), end = ',')\n",
            "            if j == \"I\":\n",
            "                print(''.join(I), end = ',')\n",
            "            if j == \"K\":\n",
            "                print(''.join(K), end = ',')\n",
            "            if j == \"L\":\n",
            "                print(''.join(L), end = ',')\n",
            "            if j == \"M\":\n",
            "                print(''.join(M), end = ',')\n",
            "            if j == \"N\":\n",
            "                print(''.join(N), end = ',')\n",
            "            if j == \"P\":\n",
            "                print(''.join(P), end = ',')\n",
            "            if j == \"Q\":\n",
            "                print(''.join(Q), end = ',')\n",
            "            if j == \"R\":\n",
            "                print(''.join(R), end = ',')\n",
            "            if j == \"S\":\n",
            "                print(''.join(S), end = ',')\n",
            "            if j == \"T\":\n",
            "                print(''.join(T), end = ',')\n",
            "            if j == \"V\":\n",
            "                print(''.join(V), end = ',')\n",
            "            if j == \"W\":\n",
            "                print(''.join(W), end = ',')\n",
            "            if j == \"Y\":\n",
            "                print(''.join(Y), end = ',')\n",
            "            if j == \"X\":\n",
            "                print(''.join(X), end = ',')\n",
            "        print(\"\")\n",
            "    f.truncate()\n",
            "def pcp_bin(file,out):\n",
            "    std = list('ACDEFGHIKLMNPQRSTVWYX')\n",
            "    df = pd.read_csv(file, header = None)\n",
            "    uu = []\n",
            "    for ss in df[0]:\n",
            "         uu.append(len(ss))\n",
            "    zz = df.iloc[:,0]\n",
            "    f = open(out, mode='w')\n",
            "    sys.stdout = f\n",
            "    A=('0,0,1,0,1,1,0,0,0,0,1,1,0,0,0,0,1,0,0,1,0,0,1,1,0')\n",
            "    C=('0,0,1,1,0,0,0,0,0,0,1,1,0,0,0,1,0,1,0,1,0,0,1,1,0')\n",
            "    D=('0,1,0,0,0,0,0,0,1,0,0,0,0,1,0,0,0,0,1,0,1,0,0,1,0')\n",
            "    E=('0,1,0,0,0,0,0,0,1,0,0,0,0,1,0,0,1,0,0,0,1,0,0,0,1')\n",
            "    F=('0,0,1,0,1,0,0,1,0,0,1,1,0,0,0,0,0,1,0,1,0,0,0,0,1')\n",
            "    G=('0,0,1,0,1,1,0,0,0,0,1,0,0,1,0,0,0,0,1,1,0,0,1,1,0')\n",
            "    H=('1,0,0,0,0,0,0,0,0,1,0,0,1,0,0,0,1,0,0,0,0,1,0,0,1')\n",
            "    I=('0,0,1,0,1,1,0,0,0,0,1,1,0,0,0,0,0,1,0,1,0,0,0,0,1')\n",
            "    K=('1,0,0,0,0,0,0,0,0,1,0,0,1,0,0,0,1,0,0,0,1,0,0,0,1')\n",
            "    L=('0,0,1,0,1,1,0,0,0,0,1,1,0,0,0,0,1,0,0,1,0,0,0,0,1')\n",
            "    M=('0,0,1,0,1,0,0,0,0,0,1,1,0,0,0,1,1,0,0,0,0,1,0,0,1')\n",
            "    N=('0,0,1,0,0,0,0,0,0,0,1,0,1,0,0,0,0,0,1,0,1,0,0,1,0')\n",
            "    P=('0,0,1,0,1,1,1,0,0,0,1,1,1,0,0,0,0,0,1,0,1,1,0,1,0')\n",
            "    Q=('0,0,1,1,0,0,0,0,0,0,1,0,0,1,0,0,1,0,0,0,1,0,0,0,1')\n",
            "    R=('1,0,0,0,0,0,0,0,0,1,0,0,1,0,0,0,1,0,0,0,0,0,0,0,1')\n",
            "    S=('0,0,1,1,0,0,0,0,0,0,1,0,0,1,1,0,0,0,1,0,0,1,1,1,0')\n",
            "    T=('0,0,1,1,0,0,0,0,0,0,1,1,0,1,1,0,0,1,0,0,0,1,0,1,0')\n",
            "    V=('0,0,1,0,1,1,0,0,0,0,1,1,0,0,0,0,0,1,0,1,0,0,0,1,0')\n",
            "    W=('0,0,1,0,1,0,0,1,0,0,1,1,0,0,0,0,0,1,0,1,0,0,0,0,1')\n",
            "    Y=('0,0,1,1,0,0,0,1,0,0,1,0,0,0,0,0,0,1,0,0,0,1,0,0,1')\n",
            "    X=('0,0,0,0,0,0,0,0,0,0,0,0,0,0,0,0,0,0,0,0,0,0,0,0,0')\n",
            "    for mm in range (1,max(uu)+1):\n",
            "        for ee in ('PC','NC','NE','PO','NP','AL','CY','AR','AC','BS','NE_pH','HB','HL','NT','HX','SC','SS_HE','SS_ST','SS_CO','SA_BU','SA_EX','SA_IN','TN','SM','LR'):\n",
            "            print(ee+str(mm),end=',')\n",
            "    print(\"\")\n",
            "    for i in range(0,len(zz)):\n",
            "        for j in zz[i]:\n",
            "            if j == \"A\":\n",
            "                print(''.join(A), end = ',')\n",
            "            if j == \"C\":\n",
            "                print(''.join(C), end = ',')\n",
            "            if j == \"D\":\n",
            "                print(''.join(D), end = ',')\n",
            "            if j == \"E\":\n",
            "                print(''.join(E), end = ',')\n",
            "            if j == \"F\":\n",
            "                print(''.join(F), end = ',')\n",
            "            if j == \"G\":\n",
            "                print(''.join(G), end = ',')\n",
            "            if j == \"H\":\n",
            "                print(''.join(H), end = ',')\n",
            "            if j == \"I\":\n",
            "                print(''.join(I), end = ',')\n",
            "            if j == \"K\":\n",
            "                print(''.join(K), end = ',')\n",
            "            if j == \"L\":\n",
            "                print(''.join(L), end = ',')\n",
            "            if j == \"M\":\n",
            "                print(''.join(M), end = ',')\n",
            "            if j == \"N\":\n",
            "                print(''.join(N), end = ',')\n",
            "            if j == \"P\":\n",
            "                print(''.join(P), end = ',')\n",
            "            if j == \"Q\":\n",
            "                print(''.join(Q), end = ',')\n",
            "            if j == \"R\":\n",
            "                print(''.join(R), end = ',')\n",
            "            if j == \"S\":\n",
            "                print(''.join(S), end = ',')\n",
            "            if j == \"T\":\n",
            "                print(''.join(T), end = ',')\n",
            "            if j == \"V\":\n",
            "                print(''.join(V), end = ',')\n",
            "            if j == \"W\":\n",
            "                print(''.join(W), end = ',')\n",
            "            if j == \"Y\":\n",
            "                print(''.join(Y), end = ',')\n",
            "            if j == \"X\":\n",
            "                print(''.join(X), end = ',')\n",
            "        print(\"\")\n",
            "    f.truncate()\n",
            "def pssm_1(x):\n",
            "        if type(x) is str:\n",
            "            return x\n",
            "        elif x <= -32768:\n",
            "             return 0\n",
            "        elif x:\n",
            "            return (1/(1+(2.7182)**(-x)))\n",
            "        else:\n",
            "            return\n",
            "def pssm_2(file):\n",
            "    pd.options.display.float_format = '{:.2e}'.format\n",
            "    df=file\n",
            "    df1 = df\n",
            "    df2 = df1.applymap(pssm_1)\n",
            "    return df2\n",
            "def pssm(inputfile,outputfile):\n",
            "    if os.path.exists('envfile'):\n",
            "        with open('envfile', 'r') as file:\n",
            "            data = file.readlines()\n",
            "        output = []\n",
            "        for line in data:\n",
            "            if not \"#\" in line:\n",
            "                output.append(line)\n",
            "        if len(output)==3:\n",
            "            paths = []\n",
            "            for i in range (0,len(output)):\n",
            "                paths.append(output[i].split(':')[1].replace('\\n',''))\n",
            "            blastpgp = paths[0]\n",
            "            blastdb = paths[1]\n",
            "            makemat = paths[2]\n",
            "        if os.path.isfile(blastpgp) and os.access(blastpgp, os.R_OK):\n",
            "            print('The provided directory for blastpgp is correct and readable.')\n",
            "        else:\n",
            "            print(\"########################################################################################################################\")\n",
            "            print(\"Error: Either 'blastbgp' file is missing from the provided directory in the 'envfile', or not readable. Kindly check.\", file=sys.stderr)\n",
            "            print(\"########################################################################################################################\")\n",
            "            sys.exit()\n",
            "        if os.path.isfile(makemat) and os.access(makemat, os.R_OK):\n",
            "            print('The provided directory for makemat is correct and readable.')\n",
            "        else:\n",
            "            print(\"########################################################################################################################\")\n",
            "            print(\"Error: Either 'makemat' file is missing from the provided directory in the 'envfile', or not readable. Kindly check.\", file=sys.stderr)\n",
            "            print(\"########################################################################################################################\")\n",
            "            sys.exit()\n",
            "        if (glob.glob(blastdb+\".pin\")) and (glob.glob(blastdb+\".psq\")) and (glob.glob(blastdb+\".phr\")):\n",
            "            print('The provided directory for blast database is correct and readable.')\n",
            "        else:\n",
            "            dbfiles = blastdb.split('/')[-1]\n",
            "            print(\"##############################################################################################################################################################################################\")\n",
            "            print(\"Error: Either the files for BLAST database are missing from the provided directory in the 'envfile', or not readable. Please provide the files with extension of\", dbfiles+\".pin,\", dbfiles+\".phr,\", dbfiles+\".psq in the provided directory.\", \"Kindly check.\", file=sys.stderr)\n",
            "            print(\"##############################################################################################################################################################################################\")\n",
            "            sys.exit()\n",
            "\n",
            "    else:\n",
            "        print(\"####################################################################################\")\n",
            "        print(\"Error: Please provide the '{}', which comprises paths for BLASTPGP and MAKEMAT\".format('envfile'), file=sys.stderr)\n",
            "        print(\"####################################################################################\")\n",
            "        sys.exit()\n",
            "    ss = []\n",
            "    file_list = []\n",
            "    df1,dff12 = readseq(inputfile)\n",
            "    aa = []\n",
            "    for i in df1[0]:\n",
            "        aa.append(len(i))\n",
            "    for i in range(0,len(df1)):\n",
            "        ss.append('>seq_'+str(i+1))\n",
            "    df1['seq'] = ss\n",
            "    df1 = df1[['seq',0]]\n",
            "    for ii in range(0,len(df1)):\n",
            "        name_file = df1['seq'][ii].replace('>','')+'.fasta'\n",
            "        file_out = df1['seq'][ii].replace('>','')+'.pssmout'\n",
            "        file_list.append(df1['seq'][ii].replace('>','')+'.mtx')\n",
            "        df1.iloc[ii].to_csv(name_file, index=None, header=False, sep='\\n')\n",
            "        filename, file_extension = os.path.splitext(name_file)\n",
            "        filename_o, file_extension_o = os.path.splitext(file_out)\n",
            "        S =  blastpgp + ' -d ' +  blastdb + ' -i ' + name_file + ' -j 3 -C ' + file_out\n",
            "        os.system(S)\n",
            "        os.rename(file_out, filename_o + '.chk')\n",
            "        outputfile1 = filename_o + \".chk\"\n",
            "        temp1 =filename_o + \".sn\"\n",
            "        C2 = 'echo {} > {}'.format(name_file,temp1)\n",
            "        os.system(C2)\n",
            "        temp2 = filename_o + \".pn\"\n",
            "        C1 = 'echo {} > {}'.format(outputfile1,temp2)\n",
            "        os.system(C1)\n",
            "        P = makemat + ' -P ' + filename_o\n",
            "        os.system(P)\n",
            "    dir = '.'\n",
            "    tt = []\n",
            "    for i in file_list:\n",
            "        ss = []\n",
            "        fp = open(i)\n",
            "        all_line = fp.readlines()\n",
            "        ss.append(all_line[14:])\n",
            "        uu = []\n",
            "        for j in all_line[14:]:\n",
            "            uu.append(j.replace('\\n','').replace('  ',','))\n",
            "        np.savetxt(i+'_temp',uu, fmt=\"%s\")\n",
            "        df11 = pd.read_csv(i+'_temp', header=None, sep=\",\")\n",
            "        col = [1,3,4,5,6,7,8,9,10,11,12,13,14,15,16,17,18,19,20,22,23]\n",
            "        df13 = df11.iloc[:,col].reset_index(drop=True)\n",
            "        df12 = pssm_2(df13)\n",
            "        for i in range(0,len(df12)):\n",
            "            tt.extend(df12.loc[i])\n",
            "    bb = []\n",
            "    cc = 0\n",
            "    for i in range(0,len(aa)):\n",
            "        bb.append(tt[cc:cc+21*(aa[i])])\n",
            "        cc = cc+21*(aa[i])\n",
            "    df123 = pd.DataFrame(bb)\n",
            "    df456 = df123.fillna('NA')\n",
            "    df456.to_csv(outputfile,index=None,header=False,float_format='%.2e')\n",
            "    allfiles = os.listdir(dir)\n",
            "    for item in allfiles :\n",
            "        if item.endswith(\".aux\") or item.endswith(\".sn\") or item.endswith(\".pn\") or item.endswith(\".mn\") or item.endswith(\".mtx_temp\") or item.endswith(\".mtx\") or item.endswith(\".chk\") or item.endswith(\".fasta\") or item.endswith(\".readseq\"):\n",
            "            os.remove(os.path.join(dir, item))\n",
            "def pssm2pat(seqfile,infile,nom):\n",
            "    std = list('ACDEFGHIKLMNPQRSTVWYX')\n",
            "    df = seqfile\n",
            "    a = df[0].values\n",
            "    pp = []\n",
            "    tt = []\n",
            "    yy = []\n",
            "    df1 = infile\n",
            "    for i in range(0,len(df1)):\n",
            "        ss = df1.values.tolist()[i][:(len(a[i])*21)]\n",
            "        uu = [0]*21*(int((nom-1)/2))\n",
            "        mm = [0]*21*(int((nom-1)/2))\n",
            "        uu.extend(ss)\n",
            "        uu.extend(mm)\n",
            "        pp.append(uu)\n",
            "    for i in range(0,len(df1)):\n",
            "        for j in range(0,(len(pp[i])-(int(nom)*21))+1,21):\n",
            "            tt.append(pp[i][j:j+(21*int(nom))])\n",
            "    for i in range(1,nom+1):\n",
            "        for j in std:\n",
            "            yy.append(j+str(i))\n",
            "    df2 = pd.DataFrame(tt)\n",
            "    df2.columns = yy\n",
            "    return df2\n",
            "def seq2motif(data_1):\n",
            "    df = data_1\n",
            "    cc = []\n",
            "    for i in range(0,len(df)):\n",
            "        ss = 'XXXXXXXX'+df[0][i]+'XXXXXXXX'\n",
            "        for j in range(0,len(ss)):\n",
            "            if len(ss[j:j+17])==17:\n",
            "                cc.append(ss[j:j+17])\n",
            "    df6 = pd.DataFrame(cc)\n",
            "    return df6\n",
            "def matrix_gen(data_train):\n",
            "    matrix_input=np.array(data_train)\n",
            "    matrix_input.shape\n",
            "    matrix_3d_form_input= np.zeros([len(data_train),1,len(data_train.columns)], dtype=float)\n",
            "    matrix_3d_form_input.shape\n",
            "    for i in range(matrix_input.shape[0]):\n",
            "        row=matrix_input[i]\n",
            "        matrix_3d_form_input[i]=np.array(row)\n",
            "    return matrix_3d_form_input\n",
            "def pred(data_1,model_1):\n",
            "    X1 = matrix_gen(data_1)\n",
            "    model = load_model(model_1)\n",
            "    train_predictions_weighted = model.predict(X1,batch_size=2048)\n",
            "    df5 = pd.DataFrame(train_predictions_weighted)\n",
            "    return df5\n",
            "def pred_hy(data_1,data_2,data_3,model_1):\n",
            "    X1 = matrix_gen(data_1)\n",
            "    X2 = matrix_gen(data_2)\n",
            "    X3 = matrix_gen(data_3)\n",
            "    model = load_model(model_1)\n",
            "    train_predictions_weighted = model.predict([X1,X2,X3],batch_size=2048)\n",
            "    df5 = pd.DataFrame(train_predictions_weighted)\n",
            "    return df5\n",
            "def result_maker(data_1,data_2,data_3,data_4,num):\n",
            "    df = data_1\n",
            "    df1 = data_2\n",
            "    df2 = data_3\n",
            "    cc = []\n",
            "    dd = []\n",
            "    uu = []\n",
            "    mm = []\n",
            "    count = 0\n",
            "    for i in range(0,len(df1)):\n",
            "        if df1[0][i] >= num:\n",
            "            cc.append('+')\n",
            "        else:\n",
            "            cc.append('-')\n",
            "    df1['pre'] = cc\n",
            "    for i in range(0,len(df)):\n",
            "        dd.append(len(df[0][i]))\n",
            "    for i in dd:\n",
            "        ss = df1['pre'][count:count+i].values\n",
            "        uu.append(''.join(ss))\n",
            "    for i in range(0,len(df2)):\n",
            "        mm.append('>'+df2[0][i])\n",
            "    df3 = pd.DataFrame()\n",
            "    df3['ID'] = mm\n",
            "    df3['Seq'] = df[0]\n",
            "    df3['Pred'] = uu\n",
            "    df3.to_csv(data_4,index=None, header=False, sep=\"\\n\")\n",
            "('##############################################################################')\n",
            "print('# This program DB0Pred is developed for predicting DNA-interacting resdiues  #')\n",
            "print('# in protein sequence, developed by Prof G. P. S. Raghava group. #')\n",
            "print('# ############################################################################')\n",
            "\n",
            "\n",
            "#variables to hold input and output files\n",
            "inFile= args.input\n",
            "\n",
            "# Output file\n",
            "\n",
            "if args.output == None:\n",
            "     outFile= \"outfile.csv\"\n",
            "else:\n",
            "     outFile = args.output\n",
            "\n",
            "if args.threshold == None:\n",
            "        threshold = 0.05\n",
            "else:\n",
            "        threshold= float(args.threshold)\n",
            "\n",
            "# Job Type\n",
            "if args.job == None:\n",
            "        Job = int(1)\n",
            "else:\n",
            "        Job = int(args.job)\n",
            "\n",
            "# Python Path\n",
            "if args.path == None:\n",
            "        ppath = 'python3'\n",
            "else:\n",
            "        ppath = args.path\n",
            "\n",
            "\n",
            "print('Summary of Parameters:')\n",
            "print('Input File: ',inFile,'; Threshold: ', threshold,'; Job Type: ',Job)\n",
            "print('Output File: ',outFile,)\n",
            "\n",
            "path_test=inFile\n",
            "path_output=outFile\n",
            "\n",
            "\"\"\"Calling composition py files\"\"\"\n",
            "#======================= Prediction Module start from here =====================\n",
            "file_gen = str(uuid.uuid4())\n",
            "s70,s71 = readseq(path_test)\n",
            "s71.to_csv('seqids.csv',index=None,header=None)\n",
            "if Job == 1:\n",
            "    print('==== Initiating the process of Prediction using amino acid binaray profiles as input features: please wait ...')\n",
            "    dff = seq2motif(s70)\n",
            "    dff.to_csv(file_gen, index=None, header=False)\n",
            "    aab(file_gen,'temp.bin')\n",
            "    df_aab = pd.read_csv('temp.bin')\n",
            "    df_aab_1 = df_aab.iloc[:,:-1]\n",
            "    res = pred(df_aab_1,'prog/model_AAB.h5')\n",
            "    result_maker(s70,res,s71,path_output,threshold)\n",
            "    os.remove('temp.bin')\n",
            "    os.remove('seqids.csv')\n",
            "    os.remove(file_gen)\n",
            "if Job ==2:\n",
            "    print('==== Initiating the process of Prediction using physico-chemical properties based  binaray profiles as input features: please wait ...')\n",
            "    dff = seq2motif(s70)\n",
            "    dff.to_csv(file_gen, index=None, header=False)\n",
            "    pcp_bin(file_gen,'temp.pcb')\n",
            "    df_pcb = pd.read_csv('temp.pcb')\n",
            "    df_pcb_1 = df_pcb.iloc[:,:-1]\n",
            "    res = pred(df_pcb_1,'prog/model_PCB.h5')\n",
            "    result_maker(s70,res,s71,path_output,threshold)\n",
            "    os.remove('temp.pcb')\n",
            "    os.remove('seqids.csv')\n",
            "    os.remove(file_gen)\n",
            "if Job ==3:\n",
            "    print('==== Initiating the process of Prediction using position specific scoring matrix profiles as input features: please wait ...')\n",
            "    pssm(path_test,'temp.pssm')\n",
            "    df_pssm = pd.read_csv('temp.pssm', header=None)\n",
            "    df_pssm_1 = pssm2pat(s70,df_pssm,17)\n",
            "    res = pred(df_pssm_1,'prog/model_PSSM.h5')\n",
            "    result_maker(s70,res,s71,path_output,threshold)\n",
            "    os.remove('temp.pssm')\n",
            "    os.remove('seqids.csv')\n",
            "    os.remove(file_gen)\n",
            "if Job==4:\n",
            "    print('==== Initiating the process of Prediction using hybrid of all features (AAB+PCB+PSSM)s as input features: please wait ...')\n",
            "    dff = seq2motif(s70)\n",
            "    dff.to_csv(file_gen, index=None, header=False)\n",
            "    aab(file_gen,'temp.bin')\n",
            "    pcp_bin(file_gen,'temp.pcb')\n",
            "    pssm(path_test,'temp.pssm')\n",
            "    df_aab = pd.read_csv('temp.bin')\n",
            "    df_pcb = pd.read_csv('temp.pcb')\n",
            "    df_pssm = pd.read_csv('temp.pssm', header=None)\n",
            "    df_aab_1 = df_aab.iloc[:,:-1]\n",
            "    df_pcb_1 = df_pcb.iloc[:,:-1]\n",
            "    df_pssm_1 = pssm2pat(s70,df_pssm,17)\n",
            "    res = pred_hy(df_aab_1,df_pcb_1,df_pssm_1,'prog/model.h5')\n",
            "    result_maker(s70,res,s71,path_output,threshold)\n",
            "    os.remove('temp.bin')\n",
            "    os.remove('temp.pcb')\n",
            "    os.remove('temp.pssm')\n",
            "    os.remove('seqids.csv')\n",
            "    os.remove(file_gen)\n",
            "\n",
            "print('\\n======= Thanks for using DBPred. Your results are stored in file :',outFile,' =====\\n\\n')\n",
            "print('Please cite: DBPred\\n')\n",
            "print(\"Congratulations, The process is done!!!!!\")\n"
          ]
        }
      ]
    },
    {
      "cell_type": "code",
      "source": [
        "!head -n 4500 PDB14189_N.txt >> 4500.txt"
      ],
      "metadata": {
        "id": "T45KmAJVsj-Q"
      },
      "execution_count": null,
      "outputs": []
    },
    {
      "cell_type": "code",
      "source": [
        "!python dbpred.py -i 4500.txt"
      ],
      "metadata": {
        "colab": {
          "base_uri": "https://localhost:8080/"
        },
        "id": "UgZ7kRdH0qyi",
        "outputId": "8d0f231f-4056-412c-804f-e0cdb8ecfbed"
      },
      "execution_count": null,
      "outputs": [
        {
          "output_type": "stream",
          "name": "stdout",
          "text": [
            "2023-05-01 15:07:20.434607: I tensorflow/core/platform/cpu_feature_guard.cc:182] This TensorFlow binary is optimized to use available CPU instructions in performance-critical operations.\n",
            "To enable the following instructions: AVX2 FMA, in other operations, rebuild TensorFlow with the appropriate compiler flags.\n",
            "2023-05-01 15:07:22.249706: W tensorflow/compiler/tf2tensorrt/utils/py_utils.cc:38] TF-TRT Warning: Could not find TensorRT\n",
            "# This program DB0Pred is developed for predicting DNA-interacting resdiues  #\n",
            "# in protein sequence, developed by Prof G. P. S. Raghava group. #\n",
            "# ############################################################################\n",
            "Summary of Parameters:\n",
            "Input File:  4500.txt ; Threshold:  0.05 ; Job Type:  1\n",
            "Output File:  outfile.csv\n",
            "==== Initiating the process of Prediction using amino acid binaray profiles as input features: please wait ...\n",
            "seq2motif\n",
            "dff.to_csv\n",
            "aab1\n",
            "aab2\n",
            "aab3\n",
            "aab4\n",
            "aab5\n",
            "aab6\n",
            "2023-05-01 15:08:25.445133: W tensorflow/tsl/framework/cpu_allocator_impl.cc:83] Allocation of 1124324376 exceeds 10% of free system memory.\n"
          ]
        }
      ]
    },
    {
      "cell_type": "code",
      "source": [
        "!wc -l PDB14189_N.txt"
      ],
      "metadata": {
        "colab": {
          "base_uri": "https://localhost:8080/"
        },
        "id": "MqZFfkUopT-F",
        "outputId": "4da30c77-3c81-4b61-e407-8bb5da8d9380"
      },
      "execution_count": null,
      "outputs": [
        {
          "output_type": "stream",
          "name": "stdout",
          "text": [
            "14120 PDB14189_N.txt\n"
          ]
        }
      ]
    },
    {
      "cell_type": "code",
      "source": [
        "!tail outfile.csv"
      ],
      "metadata": {
        "colab": {
          "base_uri": "https://localhost:8080/"
        },
        "id": "mWBDJLN8zMD6",
        "outputId": "a4c751d4-9ef1-47f2-a6fa-4269dc46fccb"
      },
      "execution_count": null,
      "outputs": [
        {
          "output_type": "stream",
          "name": "stdout",
          "text": [
            "-------+-++++---------------+----+---+-+----++++++--+------++-----------------------+--++++++--++-------------------------++++-++-+-------------------+-+-------------+++++++++++++++++++++++--------------------++------------------------+-+++++----+----------------------+++--------------------+---------+-++++++++++----+----------++-+-+--+----++----+-+----+++-+++-+--+---++---\n",
            ">Q1LTN7\n",
            "MKTNYIFVTGGVVSSLGKGIAVASLAAILEARGLKVTIMKLDPYINVDPGTISPIQHGEVFVTEDGAETDLDLGHYERFIRTKMSRRNNFTTGRIYFDVLHKERRGDYLGATIQVIPHITNTIKQRIIECGEGHDVVLVEIGGTVGDIESLPFLEAIRQMAGEVGRDHTLYMHLTLVPYIKAAGEVKTKPTQHSVKELLSIGIQPDVLICRSDRAVPSNERAKIALFCNVSEKAVISLKDVDSIYKIPALLKSQYLDDYICERFSLKCPKANLSEWEQVIYQQANPVGEVTVGIVGKYIDLPDAYKSVIEALHHAGLKNRIAVNICLIHSQDVETRSVKILQDLDAILIPGGFGYRGVEGKIMTAQYAREKQIPYLGICLGMQVAIVEFARHVAGMPEANSTEFVSDCKYPVVALITEWYEENNNRKLSNLGGTMRLGSQPCKLTYGSLAYQIYGKTIIMERHRHRYEVNNMLLKQIEAAGLRVAGLSEDYKLVEMIEYPAHPWFIASQFHPEFNSTPRDGHPLFTGFIKAASEYQKKQLNKM\n",
            "-------+-++++---------------+----+---+-+----++++++--+------++-----------------------+--++++++--++-------------------------++++-++-+-------------------+-+-------------+++++++++++++++++++++++--------------------++------------------------+-+++++----+----------------------+++--------------------+---------+-++++++++++----+----------++-+-+--+----++----+-+----+++-+++-+--+---++-------++-------------+++-+-+++++++-+---++++++++++++-++++--++--++-+++++-+-++-+----+---------------++++++++++++++++++-+++++---------+-++++++-+++++++++++++++++++++--+++--+-+\n",
            ">O35847\n",
            "MHFRDFNYNFSSLIACVANGDVFSESETRAKFESLFRTYDKDITFQYFKSFKRVRINFSNPLSAADARLQLHKTEFLGKEMKLYFAQTLHIGSSHLAPPNPDKQFLISPPASPPVGWKQVEDATPVINYDLLYAISKLGPGEKYELHAATDTTPSVVVHVCESDQENEEEEEMERMKRPKPKIIQTRRPEYTPIHLS\n",
            "-------+-++++---------------+----+---+-+----++++++--+------++-----------------------+--++++++--++-------------------------++++-++-+-------------------+-+-------------+++++++++++++++++++++++--------\n",
            ">A0QJ19\n",
            "MTESREPHVAGSAAPRPEPANGLASGQPSSRARYSRVLLKLGGEMFGGGQVGLDPDVVAQVARQIAEVVRGGVQVAVVIGGGNFFRGAQLQQRGMERTRSDYMGMLGTVMNSLALQDFLEKEGIVTRVQTAITMGQVAEPYLPLRAVRHLEKGRVVIFGAGMGLPYFSTDTTAAQRALEIGAEVVLMAKAVDGVFSADPRQYPEAELITAISHREVIDRGLRVADATAFSLCMDNGMPILVFNLLTNGNIARAVAGEKIGTLVTT\n",
            "-------+-++++---------------+----+---+-+----++++++--+------++-----------------------+--++++++--++-------------------------++++-++-+-------------------+-+-------------+++++++++++++++++++++++--------------------++------------------------+-+++++----+------------------\n"
          ]
        }
      ]
    },
    {
      "cell_type": "code",
      "source": [
        "!tail 3000.txt"
      ],
      "metadata": {
        "colab": {
          "base_uri": "https://localhost:8080/"
        },
        "id": "QKex7SGepY1Q",
        "outputId": "54e54e20-5289-4479-cffd-cfb1b7708d34"
      },
      "execution_count": null,
      "outputs": [
        {
          "output_type": "stream",
          "name": "stdout",
          "text": [
            ">C1CAM7\n",
            "MSRIGNKVIVLPAGVELANNDNVVTVKGPKGELTREFSKDIEIRVEGTEVTLHRPNDSKEMKTIHGTTRALLNNMVVGVSEGFKKELEMRGVGYRAQLQGSKLVLAVGKSHPDEVEAPEGITFELPNPTTIVVSGISKEVVGQTAAYVRSLRSPEPYKGKGIRYIGEFVRRKEGKTGK\n",
            ">Q5ZZS1\n",
            "MNHIYKLKSYGIGTDRRFYGVANKTLETPDFLDPVRESFDWFLHVGIPEAFDRIFPIVSANGKLEISFRRGSLRVEKPENEYLAIREAKIKGKTYSARVYVTLVKVHSEDGEMEEQEILLAEFPFMTQGGTFIINGFEKVVVSQLIRSPGVCFRENVRNQQADDLFNKVEIIPQLGSWMEIFHKVTGNQVDTVKFRIDKHKNIPLLSFLRAIGFTNETVRKYFGNSPELLESIRRHKLESLEENLELIYRIVRKDDRITEEGLKNLIPSIIFNERRYNLASTGRFMLNAKLNLVERISQTYLAEDLVSKKNKILFKKGTYITRQLALEIQEKFNNEEIPLSEIEGVDSTIYARQLEITRNENLWKRFYVAIVKVWPNKKSMLQESEPVNVIATDPNLNEKTLVLSDIIAIVSYYFNLLSNLGKSDDPDSLVNKRIVSVGELLQNQFLIALTKIEKNSKEKISTKSDLSQLTVKSIINNKPIYNQFKNFFNSSKLSQFMDQINPLGEMASKRKVTSLGPGGLNRDTAQFEVRDVHTTHYGRICPVETPEGQNIGLILNFSVFSRINQYGFIITPYYQVKNRIVDYSKVHWLAASEEFDKSFAQSGVEIDQNNRIIPDKLTVRKNQTYLVLDAEQVNYIDVSSMQMTSISASAIPFLENNDANRALMGSNMQRQAVPLIKSEAPLVATGIEEAVARFSATNLRAAISGKVTYVDAKKIIIDDGEKPEIHYLRYFEKSNQETLILQKPTVKVGDKVKKGQLICDGPSTDNGELALGKNVLVAFSTWYGYNYEDAIIISEKLVKDDVFTSIHIQEQTIKFRSTKAGNDILTAEIPNASAKSRLHLDANGIVIVGSEVDTGDILVGRTSPKGEDNPTAEEKLMAAIWGKKALAQKDTSLRVKNGEGGTVIDVQILSRDQGDNLEEGVGMLIKILIAQKRKIKVGDKMAGRHGNKGVVSVILPVEDMPFLEDGTPVDIVLNPQGVPSRMNIGQVLELHLGMVAKKLKTKFVTPVFDGIKIETIKKLFDEANIPESGKFKLFDGISGQAFENPVSVGYMYMLKLLHMVDDKMHARSIGPYSLTTQQPLGGKSQNGGQRFGEMETWALESFGATSVLSELLTYKSDNIQGRNLLYNNIISGGKIPSPGTPESFNVLAYELRGLLIKLEVHKNDQENQEGEEIKDPLELPEIPSNFIDEYNQDGRIELNKLEEFADFDEENIDFDKLTR\n",
            ">Q0HEK0\n",
            "MTVETFNPKQTTTLETPAKTLEAASADSTATGNRIGFVSLGCPKNLVDSERILTQLRIDGYEVTNSYDNADLVIVNTCGFIDAAVEESLDAVREALEENGKVIVTGCLGAKENQIREVHPDVLEITGPHSYEAVLKHVHKYVPKPEHNPFTSLIPQTGVKLTPKHYAYLKISEGCDNRCTFCIIPALRGDLDSRPAGSVLDEAKRLVESGVQEILVVSQDTSAYGKDKGGRTDFWNGMPVKQDITSLARQLGKMGAWVRLHYIYPYPWVDDLIPLMAEGLILPYLDIPMQHASPRILKMMKRPGRVDRQLEAIQRWREICPDLVIRSTFIVGFPGETEEDFEMLLDFLREARLDRVGCFKYSEVEGAVANTIAELISEDVKEDRYHRFMEVQAEISAERLARFVGRTMDILIDDVDEEGAIGRSFADAPEIDGMVFINGETELEPGMLVRAVITHSDEHDLWAELVDADAEDDIEA\n",
            ">P70562\n",
            "MKTKNRPPRRRTPMQDAEATPGEQTPDRSQSGSGASEVTKGLRSRTARASGTRAEVSRRRQGSSSRRENSVQRRLESNERERQRMHKLNNAFQALREVIPHVRADKKLSKIETLTLAKNYIKSLTATILTMSSSRLPGLEAPGPAPGPKLYQHYHHQQQQQQQQQQVAGAVLGVTEDQPQGHLQRYSTQIHSFREGS\n",
            ">D3ZW91\n",
            "MASGPEDPILERYFKGHKAAITSADFSPNCKQIATASWDTFLMLWSLKPHARAYRYVGHKDVVTSLQFSPQGNLLASASRDKTVRLWVLDRKGKSSEFKAHTAPVRSVDFSADGQFLVTASEDKSIKVWSMYRQRFLYSLYRHTHWVRCAKFSPDGRLIVSCSEDKTIKIWDTTSKQCVNNFSDSVGFANFVDFSPNGTCIASAGSDHAVRIWDIRMNRLLQHYQVHSCGVNCLSFHPSGNSLVTASSDGTVKILDLVEGRLIYTLQGHTGPVFTVSFSKDGELFTSGGADAQVLVWRTSFNQVHYRDPSKRNLKRLHLEASPHLLDIYPRTPHGHEDKRETIEINPKLEVMDLHSSSPPVVDVLSFDSTTVTDSTCRAVPGKGEDICRYFLNPLLMPECSSTIMKKKPEDVGDPPSENQRSVPLAVADALEHIMEQLNILTQSVSIVEQRLSLTEDKLKDCLENQQKLFSVIQQKS\n"
          ]
        }
      ]
    },
    {
      "cell_type": "code",
      "source": [
        "!wc -l 1000.txt"
      ],
      "metadata": {
        "colab": {
          "base_uri": "https://localhost:8080/"
        },
        "id": "SlBmj4u717i6",
        "outputId": "7067e7a8-ce87-4ba9-9666-8307a5739c41"
      },
      "execution_count": null,
      "outputs": [
        {
          "output_type": "stream",
          "name": "stdout",
          "text": [
            "1000 1000.txt\n"
          ]
        }
      ]
    },
    {
      "cell_type": "code",
      "source": [
        "!wget https://github.com/hfuulgb/PDBP-Fusion/raw/main/DataSet/PDB14189_P.txt"
      ],
      "metadata": {
        "colab": {
          "base_uri": "https://localhost:8080/"
        },
        "id": "Vks57yvz1_9h",
        "outputId": "46e1ce1b-b811-4be3-fc83-da5b0084f1dd"
      },
      "execution_count": null,
      "outputs": [
        {
          "output_type": "stream",
          "name": "stdout",
          "text": [
            "--2023-04-30 17:24:37--  https://github.com/hfuulgb/PDBP-Fusion/raw/main/DataSet/PDB14189_P.txt\n",
            "Resolving github.com (github.com)... 140.82.113.3\n",
            "Connecting to github.com (github.com)|140.82.113.3|:443... connected.\n",
            "HTTP request sent, awaiting response... 302 Found\n",
            "Location: https://raw.githubusercontent.com/hfuulgb/PDBP-Fusion/main/DataSet/PDB14189_P.txt [following]\n",
            "--2023-04-30 17:24:37--  https://raw.githubusercontent.com/hfuulgb/PDBP-Fusion/main/DataSet/PDB14189_P.txt\n",
            "Resolving raw.githubusercontent.com (raw.githubusercontent.com)... 185.199.108.133, 185.199.109.133, 185.199.110.133, ...\n",
            "Connecting to raw.githubusercontent.com (raw.githubusercontent.com)|185.199.108.133|:443... connected.\n",
            "HTTP request sent, awaiting response... 200 OK\n",
            "Length: 3620037 (3.5M) [text/plain]\n",
            "Saving to: ‘PDB14189_P.txt’\n",
            "\n",
            "PDB14189_P.txt      100%[===================>]   3.45M  --.-KB/s    in 0.02s   \n",
            "\n",
            "2023-04-30 17:24:38 (167 MB/s) - ‘PDB14189_P.txt’ saved [3620037/3620037]\n",
            "\n"
          ]
        }
      ]
    },
    {
      "cell_type": "code",
      "source": [
        "!head -n 1000 /content/dbpred/PDB14189_P.txt >> PDB14189_P_1000.txt"
      ],
      "metadata": {
        "id": "jKVbYdJZ3BLM"
      },
      "execution_count": null,
      "outputs": []
    },
    {
      "cell_type": "code",
      "source": [
        "!head PDB14189_P_1000.txt"
      ],
      "metadata": {
        "colab": {
          "base_uri": "https://localhost:8080/"
        },
        "id": "X4HHDRvq3GUc",
        "outputId": "16b2f68b-6d85-4529-a6cb-9c69c9027b8e"
      },
      "execution_count": null,
      "outputs": [
        {
          "output_type": "stream",
          "name": "stdout",
          "text": [
            ">Q6A8L0\n",
            "MSGHSKWATTKHKKAAIDAKRGKLFARLIKNIEVAARLGGGDPSGNPTLYDAIQKAKKSSVPNDNITRAVKRGSGEGADAVNYETIMYEAYGPAGVAILIECLTDNRNRAVSDVRVAVTRNGGTMADGGSVQRLFQRKGVVSVSKTYEVEEGRKTETREVDEDQLMEATIDAEPEDIVDEGEVFEIISDPSAVVDVRKAVQGAGIDYDSAEVSFKPDFTQRVELEDARKLYRILDALEDLDDVQNVFSNVDIPAEVAAALDEEE\n",
            ">Q7V7T9\n",
            "MIGWLQGQKVEAWQQGTRQGVVLACAGVGYEVQIAPRHLSEMEHGQNTFILWIHQVQRDDGSSLFGFPERRERDMFRTLIGVSGVGPQMALALLEECQTGELVEAIVQGDLRKLCQAQGVGKRTAERLAVELRTKLAEFSCRDPGMSLVDNGVIDSHQLKDSSLHELQITLGGLGYEDLEIRRAIRAVASGAAIGASDMPESVPSIDDTDAWLRASLRWLSQEAA\n",
            ">Q9ZUP2\n",
            "MARILRNVYSLRSSLFSSELLRRSVVGTSFQLRGFAAKAKKKSKSDGNGSSEEGMSKKEIALQQALDQITSSFGKGSIMYLGRAVSPRNVPVFSTGSFALDVALGVGGLPKGRVVEIYGPEASGKTTLALHVIAEAQKQGGTCVFVDAEHALDSSLAKAIGVNTENLLLSQPDCGEQALSLVDTLIRSGSVDVIVVDSVAALVPKGELEGEMGDAHMAMQARLMSQALRKLSHSLSLSQTLLIFINQVRSKLSTFGGFGGPTEVTCGGNALKFYASMRLNIKRIGLIKKGEETTGSQVSVKIVKNKLAPPFRTAQFELEFGKGICKITEIIDLSIKHKFIAKNGTFYNLNGKNYHGKEALKRFLKQNESDQEELMKKLQDKLIADEAADKETESESEEEDSLRVVVSPDNTDDESPALVVGAAAVVVEAA\n",
            ">Q2JVG1\n",
            "MKCPRCGKQEIRVLESRSAEGGQSVRRRRECMSCGYRFTTYERIEFMPIMVIKRDGSRESFNRNKILQGVMRACQKTQVSVKQMEELVNEIEEKLQLEDVQEVTTLRIGEMVLERLQRLSEVAYVRFASVYRKFQGIKDFVTELEQLERLETHLRRDLERPLRNSPPSESESTASPDWVGGIPQLLDQNDTSSNLSEIPK\n",
            ">Q9K4Q3\n",
            "MTKADIIEGVYEKVGFSKKESAEIVELVFDTLKETLERGDKIKISGFGNFQVRQKKARVGRNPQTGKEIEISARRVLTFRPSQVLKSALNGEAPPEDHAEIDAREEAAADAAEARGEDFDEEGMEDMEG\n"
          ]
        }
      ]
    },
    {
      "cell_type": "code",
      "source": [
        "! touch PDB14189_P.csv"
      ],
      "metadata": {
        "id": "ZZb7DnFjHR--"
      },
      "execution_count": null,
      "outputs": []
    },
    {
      "cell_type": "code",
      "source": [
        "%%time\n",
        "\n",
        "!python dbpred.py -i PDB14189_P_1000.txt -o PDB14189_P.csv -j 4"
      ],
      "metadata": {
        "colab": {
          "base_uri": "https://localhost:8080/"
        },
        "id": "mXCqIJLd3JLU",
        "outputId": "cb37fcfd-e020-47d8-9060-91bdd86c6938"
      },
      "execution_count": null,
      "outputs": [
        {
          "output_type": "stream",
          "name": "stdout",
          "text": [
            "2023-04-30 17:54:35.816829: I tensorflow/core/platform/cpu_feature_guard.cc:182] This TensorFlow binary is optimized to use available CPU instructions in performance-critical operations.\n",
            "To enable the following instructions: AVX2 FMA, in other operations, rebuild TensorFlow with the appropriate compiler flags.\n",
            "2023-04-30 17:54:37.071101: W tensorflow/compiler/tf2tensorrt/utils/py_utils.cc:38] TF-TRT Warning: Could not find TensorRT\n",
            "# This program DB0Pred is developed for predicting DNA-interacting resdiues  #\n",
            "# in protein sequence, developed by Prof G. P. S. Raghava group. #\n",
            "# ############################################################################\n",
            "Summary of Parameters:\n",
            "Input File:  PDB14189_P_1000.txt ; Threshold:  0.05 ; Job Type:  4\n",
            "Output File:  PDB14189_P.csv\n",
            "==== Initiating the process of Prediction using hybrid of all features (AAB+PCB+PSSM)s as input features: please wait ...\n",
            "Error: Either 'blastbgp' file is missing from the provided directory in the 'envfile', or not readable. Kindly check.\n",
            "CPU times: user 199 ms, sys: 19.7 ms, total: 219 ms\n",
            "Wall time: 27.1 s\n"
          ]
        }
      ]
    },
    {
      "cell_type": "code",
      "source": [
        "!wc -l PDB14189_P.csv"
      ],
      "metadata": {
        "colab": {
          "base_uri": "https://localhost:8080/"
        },
        "id": "T-EvW50x3TK1",
        "outputId": "8487d18e-c580-496e-e5b7-fc34ef007f0c"
      },
      "execution_count": null,
      "outputs": [
        {
          "output_type": "stream",
          "name": "stdout",
          "text": [
            "0 PDB14189_P.csv\n"
          ]
        }
      ]
    },
    {
      "cell_type": "code",
      "source": [
        "!head PDB14189_P.txt >> headPDB14189_P.txt"
      ],
      "metadata": {
        "id": "mtxpBsdR4Q2x"
      },
      "execution_count": null,
      "outputs": []
    },
    {
      "cell_type": "code",
      "source": [
        "!cat headPDB14189_P.txt"
      ],
      "metadata": {
        "colab": {
          "base_uri": "https://localhost:8080/"
        },
        "id": "azqb5YNtLdrk",
        "outputId": "20a1e47f-ac84-4f7e-f1c4-b5a78a328408"
      },
      "execution_count": null,
      "outputs": [
        {
          "output_type": "stream",
          "name": "stdout",
          "text": [
            ">Q6A8L0\n",
            "MSGHSKWATTKHKKAAIDAKRGKLFARLIKNIEVAARLGGGDPSGNPTLYDAIQKAKKSSVPNDNITRAVKRGSGEGADAVNYETIMYEAYGPAGVAILIECLTDNRNRAVSDVRVAVTRNGGTMADGGSVQRLFQRKGVVSVSKTYEVEEGRKTETREVDEDQLMEATIDAEPEDIVDEGEVFEIISDPSAVVDVRKAVQGAGIDYDSAEVSFKPDFTQRVELEDARKLYRILDALEDLDDVQNVFSNVDIPAEVAAALDEEE\n",
            ">Q7V7T9\n",
            "MIGWLQGQKVEAWQQGTRQGVVLACAGVGYEVQIAPRHLSEMEHGQNTFILWIHQVQRDDGSSLFGFPERRERDMFRTLIGVSGVGPQMALALLEECQTGELVEAIVQGDLRKLCQAQGVGKRTAERLAVELRTKLAEFSCRDPGMSLVDNGVIDSHQLKDSSLHELQITLGGLGYEDLEIRRAIRAVASGAAIGASDMPESVPSIDDTDAWLRASLRWLSQEAA\n",
            ">Q9ZUP2\n",
            "MARILRNVYSLRSSLFSSELLRRSVVGTSFQLRGFAAKAKKKSKSDGNGSSEEGMSKKEIALQQALDQITSSFGKGSIMYLGRAVSPRNVPVFSTGSFALDVALGVGGLPKGRVVEIYGPEASGKTTLALHVIAEAQKQGGTCVFVDAEHALDSSLAKAIGVNTENLLLSQPDCGEQALSLVDTLIRSGSVDVIVVDSVAALVPKGELEGEMGDAHMAMQARLMSQALRKLSHSLSLSQTLLIFINQVRSKLSTFGGFGGPTEVTCGGNALKFYASMRLNIKRIGLIKKGEETTGSQVSVKIVKNKLAPPFRTAQFELEFGKGICKITEIIDLSIKHKFIAKNGTFYNLNGKNYHGKEALKRFLKQNESDQEELMKKLQDKLIADEAADKETESESEEEDSLRVVVSPDNTDDESPALVVGAAAVVVEAA\n",
            ">Q2JVG1\n",
            "MKCPRCGKQEIRVLESRSAEGGQSVRRRRECMSCGYRFTTYERIEFMPIMVIKRDGSRESFNRNKILQGVMRACQKTQVSVKQMEELVNEIEEKLQLEDVQEVTTLRIGEMVLERLQRLSEVAYVRFASVYRKFQGIKDFVTELEQLERLETHLRRDLERPLRNSPPSESESTASPDWVGGIPQLLDQNDTSSNLSEIPK\n",
            ">Q9K4Q3\n",
            "MTKADIIEGVYEKVGFSKKESAEIVELVFDTLKETLERGDKIKISGFGNFQVRQKKARVGRNPQTGKEIEISARRVLTFRPSQVLKSALNGEAPPEDHAEIDAREEAAADAAEARGEDFDEEGMEDMEG\n"
          ]
        }
      ]
    },
    {
      "cell_type": "code",
      "source": [
        "%%time\n",
        "\n",
        "!python dbpred.py -i headPDB14189_P.txt -o PDB14189_P.csv"
      ],
      "metadata": {
        "colab": {
          "base_uri": "https://localhost:8080/"
        },
        "id": "dKq1K8X8LgBm",
        "outputId": "c3e77413-5259-48dc-8080-8a9dcd25244f"
      },
      "execution_count": null,
      "outputs": [
        {
          "output_type": "stream",
          "name": "stdout",
          "text": [
            "2023-04-29 18:02:48.817332: I tensorflow/core/platform/cpu_feature_guard.cc:182] This TensorFlow binary is optimized to use available CPU instructions in performance-critical operations.\n",
            "To enable the following instructions: AVX2 FMA, in other operations, rebuild TensorFlow with the appropriate compiler flags.\n",
            "2023-04-29 18:02:51.438610: W tensorflow/compiler/tf2tensorrt/utils/py_utils.cc:38] TF-TRT Warning: Could not find TensorRT\n",
            "# This program DB0Pred is developed for predicting DNA-interacting resdiues  #\n",
            "# in protein sequence, developed by Prof G. P. S. Raghava group. #\n",
            "# ############################################################################\n",
            "Summary of Parameters:\n",
            "Input File:  headPDB14189_P.txt ; Threshold:  0.05 ; Job Type:  1\n",
            "Output File:  PDB14189_P.csv\n",
            "==== Initiating the process of Prediction using amino acid binaray profiles as input features: please wait ...\n",
            "CPU times: user 113 ms, sys: 19.3 ms, total: 132 ms\n",
            "Wall time: 13.9 s\n"
          ]
        }
      ]
    },
    {
      "cell_type": "code",
      "source": [
        "!wc -l PDB14189_P.csv"
      ],
      "metadata": {
        "colab": {
          "base_uri": "https://localhost:8080/"
        },
        "id": "aeBwMOotLn2y",
        "outputId": "89fa4764-e87a-4717-9014-445c81c8d6fe"
      },
      "execution_count": null,
      "outputs": [
        {
          "output_type": "stream",
          "name": "stdout",
          "text": [
            "15 PDB14189_P.csv\n"
          ]
        }
      ]
    },
    {
      "cell_type": "code",
      "source": [
        "!cat PDB14189_P.csv"
      ],
      "metadata": {
        "colab": {
          "base_uri": "https://localhost:8080/"
        },
        "id": "eD60vSofLvsP",
        "outputId": "d6845f9c-ef1b-4963-d321-4b837eff4ba7"
      },
      "execution_count": null,
      "outputs": [
        {
          "output_type": "stream",
          "name": "stdout",
          "text": [
            ">Q6A8L0\n",
            "MSGHSKWATTKHKKAAIDAKRGKLFARLIKNIEVAARLGGGDPSGNPTLYDAIQKAKKSSVPNDNITRAVKRGSGEGADAVNYETIMYEAYGPAGVAILIECLTDNRNRAVSDVRVAVTRNGGTMADGGSVQRLFQRKGVVSVSKTYEVEEGRKTETREVDEDQLMEATIDAEPEDIVDEGEVFEIISDPSAVVDVRKAVQGAGIDYDSAEVSFKPDFTQRVELEDARKLYRILDALEDLDDVQNVFSNVDIPAEVAAALDEEE\n",
            "-+++++++++++++++-++++++++++++++-----+------+---+-+------++-++-+++-+++-++++++------+---------+-+--------+-+++++-++-+---+++++++++-+++++++++++++++++++-----+++-----------------------------------+-----+++-++----+-----------+-+------++-++----------------+---------------\n",
            ">Q7V7T9\n",
            "MIGWLQGQKVEAWQQGTRQGVVLACAGVGYEVQIAPRHLSEMEHGQNTFILWIHQVQRDDGSSLFGFPERRERDMFRTLIGVSGVGPQMALALLEECQTGELVEAIVQGDLRKLCQAQGVGKRTAERLAVELRTKLAEFSCRDPGMSLVDNGVIDSHQLKDSSLHELQITLGGLGYEDLEIRRAIRAVASGAAIGASDMPESVPSIDDTDAWLRASLRWLSQEAA\n",
            "-+++++++++++++++-++++++++++++++-----+------+---+-+------++-++-+++-+++-++++++------+---------+-+--------+-+++++-++-+---+++++++++-+++++++++++++++++++-----+++-----------------------------------+-----+++-++----+-----------+-+----\n",
            ">Q9ZUP2\n",
            "MARILRNVYSLRSSLFSSELLRRSVVGTSFQLRGFAAKAKKKSKSDGNGSSEEGMSKKEIALQQALDQITSSFGKGSIMYLGRAVSPRNVPVFSTGSFALDVALGVGGLPKGRVVEIYGPEASGKTTLALHVIAEAQKQGGTCVFVDAEHALDSSLAKAIGVNTENLLLSQPDCGEQALSLVDTLIRSGSVDVIVVDSVAALVPKGELEGEMGDAHMAMQARLMSQALRKLSHSLSLSQTLLIFINQVRSKLSTFGGFGGPTEVTCGGNALKFYASMRLNIKRIGLIKKGEETTGSQVSVKIVKNKLAPPFRTAQFELEFGKGICKITEIIDLSIKHKFIAKNGTFYNLNGKNYHGKEALKRFLKQNESDQEELMKKLQDKLIADEAADKETESESEEEDSLRVVVSPDNTDDESPALVVGAAAVVVEAA\n",
            "-+++++++++++++++-++++++++++++++-----+------+---+-+------++-++-+++-+++-++++++------+---------+-+--------+-+++++-++-+---+++++++++-+++++++++++++++++++-----+++-----------------------------------+-----+++-++----+-----------+-+------++-++----------------+----------------+-++++++------++++-------+--++-+---+--------+++-+++----+-----+-++--++++++--++----++-+++-------------------+---++--+-++++++++++-----+++------------------------+------\n",
            ">Q2JVG1\n",
            "MKCPRCGKQEIRVLESRSAEGGQSVRRRRECMSCGYRFTTYERIEFMPIMVIKRDGSRESFNRNKILQGVMRACQKTQVSVKQMEELVNEIEEKLQLEDVQEVTTLRIGEMVLERLQRLSEVAYVRFASVYRKFQGIKDFVTELEQLERLETHLRRDLERPLRNSPPSESESTASPDWVGGIPQLLDQNDTSSNLSEIPK\n",
            "-+++++++++++++++-++++++++++++++-----+------+---+-+------++-++-+++-+++-++++++------+---------+-+--------+-+++++-++-+---+++++++++-+++++++++++++++++++-----+++-----------------------------------+-----+++-\n",
            ">Q9K4Q3\n",
            "MTKADIIEGVYEKVGFSKKESAEIVELVFDTLKETLERGDKIKISGFGNFQVRQKKARVGRNPQTGKEIEISARRVLTFRPSQVLKSALNGEAPPEDHAEIDAREEAAADAAEARGEDFDEEGMEDMEG\n",
            "-+++++++++++++++-++++++++++++++-----+------+---+-+------++-++-+++-+++-++++++------+---------+-+--------+-+++++-++-+---+++++++++-+\n"
          ]
        }
      ]
    },
    {
      "cell_type": "code",
      "source": [
        "!touch PDB14189_P3.csv"
      ],
      "metadata": {
        "id": "HVyvqzN5MRrq"
      },
      "execution_count": null,
      "outputs": []
    },
    {
      "cell_type": "code",
      "source": [
        "!apt-get install ncbi-blast+-legacy"
      ],
      "metadata": {
        "colab": {
          "base_uri": "https://localhost:8080/"
        },
        "id": "0Z-89vwbNo0x",
        "outputId": "6a4bed39-8098-44df-a5a4-d6cfa91d2afb"
      },
      "execution_count": null,
      "outputs": [
        {
          "output_type": "stream",
          "name": "stdout",
          "text": [
            "Reading package lists... Done\n",
            "Building dependency tree       \n",
            "Reading state information... Done\n",
            "The following additional packages will be installed:\n",
            "  ncbi-blast+ ncbi-data\n",
            "The following NEW packages will be installed:\n",
            "  ncbi-blast+ ncbi-blast+-legacy ncbi-data\n",
            "0 upgraded, 3 newly installed, 0 to remove and 24 not upgraded.\n",
            "Need to get 14.6 MB of archives.\n",
            "After this operation, 74.2 MB of additional disk space will be used.\n",
            "Get:1 http://archive.ubuntu.com/ubuntu focal/universe amd64 ncbi-data all 6.1.20170106+dfsg1-8 [3,518 kB]\n",
            "Get:2 http://archive.ubuntu.com/ubuntu focal/universe amd64 ncbi-blast+ amd64 2.9.0-2 [11.1 MB]\n",
            "Get:3 http://archive.ubuntu.com/ubuntu focal/universe amd64 ncbi-blast+-legacy all 2.9.0-2 [5,064 B]\n",
            "Fetched 14.6 MB in 1s (12.6 MB/s)\n",
            "Selecting previously unselected package ncbi-data.\n",
            "(Reading database ... 122518 files and directories currently installed.)\n",
            "Preparing to unpack .../ncbi-data_6.1.20170106+dfsg1-8_all.deb ...\n",
            "Unpacking ncbi-data (6.1.20170106+dfsg1-8) ...\n",
            "Selecting previously unselected package ncbi-blast+.\n",
            "Preparing to unpack .../ncbi-blast+_2.9.0-2_amd64.deb ...\n",
            "Unpacking ncbi-blast+ (2.9.0-2) ...\n",
            "Selecting previously unselected package ncbi-blast+-legacy.\n",
            "Preparing to unpack .../ncbi-blast+-legacy_2.9.0-2_all.deb ...\n",
            "Unpacking ncbi-blast+-legacy (2.9.0-2) ...\n",
            "Setting up ncbi-data (6.1.20170106+dfsg1-8) ...\n",
            "Setting up ncbi-blast+ (2.9.0-2) ...\n",
            "Setting up ncbi-blast+-legacy (2.9.0-2) ...\n",
            "Processing triggers for man-db (2.9.1-1) ...\n",
            "Processing triggers for hicolor-icon-theme (0.17-2) ...\n"
          ]
        }
      ]
    },
    {
      "cell_type": "code",
      "source": [
        "%%time\n",
        "\n",
        "!python dbpred.py -i headPDB14189_P.txt -o PDB14189_P2.csv -j 3"
      ],
      "metadata": {
        "colab": {
          "base_uri": "https://localhost:8080/"
        },
        "id": "RdrbanOYM-8X",
        "outputId": "890fb513-1ed4-4a77-8f62-01e290884632"
      },
      "execution_count": null,
      "outputs": [
        {
          "output_type": "stream",
          "name": "stdout",
          "text": [
            "2023-04-29 18:14:26.046500: I tensorflow/core/platform/cpu_feature_guard.cc:182] This TensorFlow binary is optimized to use available CPU instructions in performance-critical operations.\n",
            "To enable the following instructions: AVX2 FMA, in other operations, rebuild TensorFlow with the appropriate compiler flags.\n",
            "2023-04-29 18:14:27.321154: W tensorflow/compiler/tf2tensorrt/utils/py_utils.cc:38] TF-TRT Warning: Could not find TensorRT\n",
            "# This program DB0Pred is developed for predicting DNA-interacting resdiues  #\n",
            "# in protein sequence, developed by Prof G. P. S. Raghava group. #\n",
            "# ############################################################################\n",
            "Summary of Parameters:\n",
            "Input File:  headPDB14189_P.txt ; Threshold:  0.05 ; Job Type:  3\n",
            "Output File:  PDB14189_P2.csv\n",
            "==== Initiating the process of Prediction using position specific scoring matrix profiles as input features: please wait ...\n",
            "########################################################################################################################\n",
            "Error: Either 'blastbgp' file is missing from the provided directory in the 'envfile', or not readable. Kindly check.\n",
            "########################################################################################################################\n",
            "CPU times: user 43.1 ms, sys: 7.83 ms, total: 50.9 ms\n",
            "Wall time: 4.83 s\n"
          ]
        }
      ]
    },
    {
      "cell_type": "code",
      "source": [
        "!cat PDB14189_P2.csv"
      ],
      "metadata": {
        "colab": {
          "base_uri": "https://localhost:8080/"
        },
        "id": "t3zAabNENJps",
        "outputId": "824f0b50-ffe8-46b8-8e5c-7d897d96a01d"
      },
      "execution_count": null,
      "outputs": [
        {
          "output_type": "stream",
          "name": "stdout",
          "text": [
            ">Q6A8L0\n",
            "MSGHSKWATTKHKKAAIDAKRGKLFARLIKNIEVAARLGGGDPSGNPTLYDAIQKAKKSSVPNDNITRAVKRGSGEGADAVNYETIMYEAYGPAGVAILIECLTDNRNRAVSDVRVAVTRNGGTMADGGSVQRLFQRKGVVSVSKTYEVEEGRKTETREVDEDQLMEATIDAEPEDIVDEGEVFEIISDPSAVVDVRKAVQGAGIDYDSAEVSFKPDFTQRVELEDARKLYRILDALEDLDDVQNVFSNVDIPAEVAAALDEEE\n",
            "+++++++++++++++++++++++++++++++-+---+------------+----+-++-+-++++--+--++-+--------+--------------------+-+++++-++++---+++-----+-++-++-+++++++++++++-----++---+--------------------------------+---+-++----------------+-----+-+-++-++-++-----------------------------+++\n",
            ">Q7V7T9\n",
            "MIGWLQGQKVEAWQQGTRQGVVLACAGVGYEVQIAPRHLSEMEHGQNTFILWIHQVQRDDGSSLFGFPERRERDMFRTLIGVSGVGPQMALALLEECQTGELVEAIVQGDLRKLCQAQGVGKRTAERLAVELRTKLAEFSCRDPGMSLVDNGVIDSHQLKDSSLHELQITLGGLGYEDLEIRRAIRAVASGAAIGASDMPESVPSIDDTDAWLRASLRWLSQEAA\n",
            "+++++++++++++++++++++++++++++++-+---+------------+----+-++-+-++++--+--++-+--------+--------------------+-+++++-++++---+++-----+-++-++-+++++++++++++-----++---+--------------------------------+---+-++----------------+-----+-+-+\n",
            ">Q9ZUP2\n",
            "MARILRNVYSLRSSLFSSELLRRSVVGTSFQLRGFAAKAKKKSKSDGNGSSEEGMSKKEIALQQALDQITSSFGKGSIMYLGRAVSPRNVPVFSTGSFALDVALGVGGLPKGRVVEIYGPEASGKTTLALHVIAEAQKQGGTCVFVDAEHALDSSLAKAIGVNTENLLLSQPDCGEQALSLVDTLIRSGSVDVIVVDSVAALVPKGELEGEMGDAHMAMQARLMSQALRKLSHSLSLSQTLLIFINQVRSKLSTFGGFGGPTEVTCGGNALKFYASMRLNIKRIGLIKKGEETTGSQVSVKIVKNKLAPPFRTAQFELEFGKGICKITEIIDLSIKHKFIAKNGTFYNLNGKNYHGKEALKRFLKQNESDQEELMKKLQDKLIADEAADKETESESEEEDSLRVVVSPDNTDDESPALVVGAAAVVVEAA\n",
            "+++++++++++++++++++++++++++++++-+---+------------+----+-++-+-++++--+--++-+--------+--------------------+-+++++-++++---+++-----+-++-++-+++++++++++++-----++---+--------------------------------+---+-++----------------+-----+-+-++-++-++-----------------------------++++++++++++-+---+-+++----------++-+--+++-----+-+++++++-+--++----+---+-++++++--+-----+----+-------------------+-+-++-++-++++++++++-+-+-+++------+--------------++-++---+-\n",
            ">Q2JVG1\n",
            "MKCPRCGKQEIRVLESRSAEGGQSVRRRRECMSCGYRFTTYERIEFMPIMVIKRDGSRESFNRNKILQGVMRACQKTQVSVKQMEELVNEIEEKLQLEDVQEVTTLRIGEMVLERLQRLSEVAYVRFASVYRKFQGIKDFVTELEQLERLETHLRRDLERPLRNSPPSESESTASPDWVGGIPQLLDQNDTSSNLSEIPK\n",
            "+++++++++++++++++++++++++++++++-+---+------------+----+-++-+-++++--+--++-+--------+--------------------+-+++++-++++---+++-----+-++-++-+++++++++++++-----++---+--------------------------------+---+-++--\n",
            ">Q9K4Q3\n",
            "MTKADIIEGVYEKVGFSKKESAEIVELVFDTLKETLERGDKIKISGFGNFQVRQKKARVGRNPQTGKEIEISARRVLTFRPSQVLKSALNGEAPPEDHAEIDAREEAAADAAEARGEDFDEEGMEDMEG\n",
            "+++++++++++++++++++++++++++++++-+---+------------+----+-++-+-++++--+--++-+--------+--------------------+-+++++-++++---+++-----+-+\n"
          ]
        }
      ]
    },
    {
      "cell_type": "code",
      "source": [
        "!cat headPDB14189_P.txt"
      ],
      "metadata": {
        "colab": {
          "base_uri": "https://localhost:8080/"
        },
        "id": "kj6VlTWONPTr",
        "outputId": "ffb156de-22ee-4e72-80a1-a5c709b0aa1a"
      },
      "execution_count": null,
      "outputs": [
        {
          "output_type": "stream",
          "name": "stdout",
          "text": [
            ">Q6A8L0\n",
            "MSGHSKWATTKHKKAAIDAKRGKLFARLIKNIEVAARLGGGDPSGNPTLYDAIQKAKKSSVPNDNITRAVKRGSGEGADAVNYETIMYEAYGPAGVAILIECLTDNRNRAVSDVRVAVTRNGGTMADGGSVQRLFQRKGVVSVSKTYEVEEGRKTETREVDEDQLMEATIDAEPEDIVDEGEVFEIISDPSAVVDVRKAVQGAGIDYDSAEVSFKPDFTQRVELEDARKLYRILDALEDLDDVQNVFSNVDIPAEVAAALDEEE\n",
            ">Q7V7T9\n",
            "MIGWLQGQKVEAWQQGTRQGVVLACAGVGYEVQIAPRHLSEMEHGQNTFILWIHQVQRDDGSSLFGFPERRERDMFRTLIGVSGVGPQMALALLEECQTGELVEAIVQGDLRKLCQAQGVGKRTAERLAVELRTKLAEFSCRDPGMSLVDNGVIDSHQLKDSSLHELQITLGGLGYEDLEIRRAIRAVASGAAIGASDMPESVPSIDDTDAWLRASLRWLSQEAA\n",
            ">Q9ZUP2\n",
            "MARILRNVYSLRSSLFSSELLRRSVVGTSFQLRGFAAKAKKKSKSDGNGSSEEGMSKKEIALQQALDQITSSFGKGSIMYLGRAVSPRNVPVFSTGSFALDVALGVGGLPKGRVVEIYGPEASGKTTLALHVIAEAQKQGGTCVFVDAEHALDSSLAKAIGVNTENLLLSQPDCGEQALSLVDTLIRSGSVDVIVVDSVAALVPKGELEGEMGDAHMAMQARLMSQALRKLSHSLSLSQTLLIFINQVRSKLSTFGGFGGPTEVTCGGNALKFYASMRLNIKRIGLIKKGEETTGSQVSVKIVKNKLAPPFRTAQFELEFGKGICKITEIIDLSIKHKFIAKNGTFYNLNGKNYHGKEALKRFLKQNESDQEELMKKLQDKLIADEAADKETESESEEEDSLRVVVSPDNTDDESPALVVGAAAVVVEAA\n",
            ">Q2JVG1\n",
            "MKCPRCGKQEIRVLESRSAEGGQSVRRRRECMSCGYRFTTYERIEFMPIMVIKRDGSRESFNRNKILQGVMRACQKTQVSVKQMEELVNEIEEKLQLEDVQEVTTLRIGEMVLERLQRLSEVAYVRFASVYRKFQGIKDFVTELEQLERLETHLRRDLERPLRNSPPSESESTASPDWVGGIPQLLDQNDTSSNLSEIPK\n",
            ">Q9K4Q3\n",
            "MTKADIIEGVYEKVGFSKKESAEIVELVFDTLKETLERGDKIKISGFGNFQVRQKKARVGRNPQTGKEIEISARRVLTFRPSQVLKSALNGEAPPEDHAEIDAREEAAADAAEARGEDFDEEGMEDMEG\n"
          ]
        }
      ]
    },
    {
      "cell_type": "code",
      "source": [
        "!cat envfile"
      ],
      "metadata": {
        "colab": {
          "base_uri": "https://localhost:8080/"
        },
        "id": "R4DYSADBNY3v",
        "outputId": "be96c4ff-cc83-4f54-8de8-1f0f94fb45a6"
      },
      "execution_count": null,
      "outputs": [
        {
          "output_type": "stream",
          "name": "stdout",
          "text": [
            "#Path information for the generation of PSSM profile\n",
            "#User can change the paths according to their machines\n",
            "BLASTPGP:/home/gpsr/software/blastpr/blastpgp\n",
            "BLAST database:/usr1/software/blastpr/data/swissprot\n",
            "MAKEMAT:/home/gpsr/software/blastpr/makemat\n"
          ]
        }
      ]
    },
    {
      "cell_type": "code",
      "source": [
        "!wget https://ftp.ncbi.nlm.nih.gov/blast/executables/LATEST/ncbi-blast-2.14.0+-x64-linux.tar.gz"
      ],
      "metadata": {
        "colab": {
          "base_uri": "https://localhost:8080/"
        },
        "id": "KDYwcnv-UQbE",
        "outputId": "b0696f48-3b6b-40fb-ec78-a9ddb2468410"
      },
      "execution_count": null,
      "outputs": [
        {
          "output_type": "stream",
          "name": "stdout",
          "text": [
            "--2023-04-30 18:01:13--  https://ftp.ncbi.nlm.nih.gov/blast/executables/LATEST/ncbi-blast-2.14.0+-x64-linux.tar.gz\n",
            "Resolving ftp.ncbi.nlm.nih.gov (ftp.ncbi.nlm.nih.gov)... 130.14.250.10, 130.14.250.12, 2607:f220:41f:250::229, ...\n",
            "Connecting to ftp.ncbi.nlm.nih.gov (ftp.ncbi.nlm.nih.gov)|130.14.250.10|:443... connected.\n",
            "HTTP request sent, awaiting response... 200 OK\n",
            "Length: 242603869 (231M) [application/x-gzip]\n",
            "Saving to: ‘ncbi-blast-2.14.0+-x64-linux.tar.gz’\n",
            "\n",
            "ncbi-blast-2.14.0+- 100%[===================>] 231.36M   133MB/s    in 1.7s    \n",
            "\n",
            "2023-04-30 18:01:14 (133 MB/s) - ‘ncbi-blast-2.14.0+-x64-linux.tar.gz’ saved [242603869/242603869]\n",
            "\n"
          ]
        }
      ]
    },
    {
      "cell_type": "code",
      "source": [
        "!gunzip ncbi-blast-2.14.0+-x64-linux.tar.gz"
      ],
      "metadata": {
        "id": "8Nhe_vxxU2o8"
      },
      "execution_count": null,
      "outputs": []
    },
    {
      "cell_type": "code",
      "source": [
        "!tar xvpf ncbi-blast-2.14.0+-x64-linux.tar"
      ],
      "metadata": {
        "colab": {
          "base_uri": "https://localhost:8080/"
        },
        "id": "PwvM8f73VAOB",
        "outputId": "8072722f-b264-4139-eae3-3717139654ae"
      },
      "execution_count": null,
      "outputs": [
        {
          "output_type": "stream",
          "name": "stdout",
          "text": [
            "ncbi-blast-2.14.0+/\n",
            "ncbi-blast-2.14.0+/ChangeLog\n",
            "ncbi-blast-2.14.0+/bin/\n",
            "ncbi-blast-2.14.0+/bin/get_species_taxids.sh\n",
            "ncbi-blast-2.14.0+/bin/cleanup-blastdb-volumes.py\n",
            "ncbi-blast-2.14.0+/bin/blastx\n",
            "ncbi-blast-2.14.0+/bin/makeblastdb\n",
            "ncbi-blast-2.14.0+/bin/tblastx\n",
            "ncbi-blast-2.14.0+/bin/psiblast\n",
            "ncbi-blast-2.14.0+/bin/blastp\n",
            "ncbi-blast-2.14.0+/bin/makeprofiledb\n",
            "ncbi-blast-2.14.0+/bin/segmasker\n",
            "ncbi-blast-2.14.0+/bin/blast_formatter\n",
            "ncbi-blast-2.14.0+/bin/blastn\n",
            "ncbi-blast-2.14.0+/bin/blastn_vdb\n",
            "ncbi-blast-2.14.0+/bin/update_blastdb.pl\n",
            "ncbi-blast-2.14.0+/bin/blastdbcmd\n",
            "ncbi-blast-2.14.0+/bin/legacy_blast.pl\n",
            "ncbi-blast-2.14.0+/bin/dustmasker\n",
            "ncbi-blast-2.14.0+/bin/blast_vdb_cmd\n",
            "ncbi-blast-2.14.0+/bin/makembindex\n",
            "ncbi-blast-2.14.0+/bin/blastdb_aliastool\n",
            "ncbi-blast-2.14.0+/bin/deltablast\n",
            "ncbi-blast-2.14.0+/bin/rpsblast\n",
            "ncbi-blast-2.14.0+/bin/tblastn_vdb\n",
            "ncbi-blast-2.14.0+/bin/rpstblastn\n",
            "ncbi-blast-2.14.0+/bin/tblastn\n",
            "ncbi-blast-2.14.0+/bin/blastdbcheck\n",
            "ncbi-blast-2.14.0+/bin/blast_formatter_vdb\n",
            "ncbi-blast-2.14.0+/bin/convert2blastmask\n",
            "ncbi-blast-2.14.0+/bin/windowmasker\n",
            "ncbi-blast-2.14.0+/doc/\n",
            "ncbi-blast-2.14.0+/doc/README.txt\n",
            "ncbi-blast-2.14.0+/ncbi_package_info\n",
            "ncbi-blast-2.14.0+/LICENSE\n",
            "ncbi-blast-2.14.0+/BLAST_PRIVACY\n",
            "ncbi-blast-2.14.0+/README\n"
          ]
        }
      ]
    },
    {
      "cell_type": "code",
      "source": [
        "! export PATH=$PATH:/ncbi-blast-2.14.0+/bin/"
      ],
      "metadata": {
        "id": "HH8jzbMnVOsx"
      },
      "execution_count": null,
      "outputs": []
    },
    {
      "cell_type": "code",
      "source": [
        "!echo $PATH"
      ],
      "metadata": {
        "colab": {
          "base_uri": "https://localhost:8080/"
        },
        "id": "-nR0vQZUW4qH",
        "outputId": "0946bd03-1ddd-4821-b582-73aa079d8146"
      },
      "execution_count": null,
      "outputs": [
        {
          "output_type": "stream",
          "name": "stdout",
          "text": [
            "/opt/bin:/usr/local/nvidia/bin:/usr/local/cuda/bin:/usr/local/sbin:/usr/local/bin:/usr/sbin:/usr/bin:/sbin:/bin:/tools/node/bin:/tools/google-cloud-sdk/bin\n"
          ]
        }
      ]
    },
    {
      "cell_type": "code",
      "source": [
        "!blastn --help"
      ],
      "metadata": {
        "colab": {
          "base_uri": "https://localhost:8080/"
        },
        "id": "llMDtjo1VnDo",
        "outputId": "f32b4dd4-e6a5-4440-922f-6b2f421015ed"
      },
      "execution_count": null,
      "outputs": [
        {
          "output_type": "stream",
          "name": "stdout",
          "text": [
            "USAGE\n",
            "  blastn [-h] [-help] [-import_search_strategy filename]\n",
            "    [-export_search_strategy filename] [-task task_name] [-db database_name]\n",
            "    [-dbsize num_letters] [-gilist filename] [-seqidlist filename]\n",
            "    [-negative_gilist filename] [-negative_seqidlist filename]\n",
            "    [-taxids taxids] [-negative_taxids taxids] [-taxidlist filename]\n",
            "    [-negative_taxidlist filename] [-entrez_query entrez_query]\n",
            "    [-db_soft_mask filtering_algorithm] [-db_hard_mask filtering_algorithm]\n",
            "    [-subject subject_input_file] [-subject_loc range] [-query input_file]\n",
            "    [-out output_file] [-evalue evalue] [-word_size int_value]\n",
            "    [-gapopen open_penalty] [-gapextend extend_penalty]\n",
            "    [-perc_identity float_value] [-qcov_hsp_perc float_value]\n",
            "    [-max_hsps int_value] [-xdrop_ungap float_value] [-xdrop_gap float_value]\n",
            "    [-xdrop_gap_final float_value] [-searchsp int_value] [-penalty penalty]\n",
            "    [-reward reward] [-no_greedy] [-min_raw_gapped_score int_value]\n",
            "    [-template_type type] [-template_length int_value] [-dust DUST_options]\n",
            "    [-filtering_db filtering_database]\n",
            "    [-window_masker_taxid window_masker_taxid]\n",
            "    [-window_masker_db window_masker_db] [-soft_masking soft_masking]\n",
            "    [-ungapped] [-culling_limit int_value] [-best_hit_overhang float_value]\n",
            "    [-best_hit_score_edge float_value] [-subject_besthit]\n",
            "    [-window_size int_value] [-off_diagonal_range int_value]\n",
            "    [-use_index boolean] [-index_name string] [-lcase_masking]\n",
            "    [-query_loc range] [-strand strand] [-parse_deflines] [-outfmt format]\n",
            "    [-show_gis] [-num_descriptions int_value] [-num_alignments int_value]\n",
            "    [-line_length line_length] [-html] [-sorthits sort_hits]\n",
            "    [-sorthsps sort_hsps] [-max_target_seqs num_sequences]\n",
            "    [-num_threads int_value] [-remote] [-version]\n",
            "\n",
            "DESCRIPTION\n",
            "   Nucleotide-Nucleotide BLAST 2.9.0+\n",
            "\n",
            "Use '-help' to print detailed descriptions of command line arguments\n",
            "========================================================================\n",
            "\n",
            "Error:  (CArgException::eInvalidArg) Unknown argument: \"-help\"\n"
          ]
        }
      ]
    },
    {
      "cell_type": "code",
      "source": [
        "!git clone https://github.com/gpertea/mgblast.git"
      ],
      "metadata": {
        "colab": {
          "base_uri": "https://localhost:8080/"
        },
        "id": "7fKZw1dbcWnc",
        "outputId": "50284aae-3410-452c-e2f6-2564411e6ef0"
      },
      "execution_count": null,
      "outputs": [
        {
          "output_type": "stream",
          "name": "stdout",
          "text": [
            "Cloning into 'mgblast'...\n",
            "remote: Enumerating objects: 3136, done.\u001b[K\n",
            "remote: Total 3136 (delta 0), reused 0 (delta 0), pack-reused 3136\u001b[K\n",
            "Receiving objects: 100% (3136/3136), 15.31 MiB | 12.04 MiB/s, done.\n",
            "Resolving deltas: 100% (541/541), done.\n"
          ]
        }
      ]
    },
    {
      "cell_type": "code",
      "source": [
        "%cd mgblast"
      ],
      "metadata": {
        "colab": {
          "base_uri": "https://localhost:8080/"
        },
        "id": "oTYi2mFmcqMX",
        "outputId": "bba9d7e6-4fb0-46ee-d9e9-849c004f2c38"
      },
      "execution_count": null,
      "outputs": [
        {
          "output_type": "stream",
          "name": "stdout",
          "text": [
            "/content/dbpred/mgblast\n"
          ]
        }
      ]
    },
    {
      "cell_type": "code",
      "source": [
        "! ./build_mgblast.sh"
      ],
      "metadata": {
        "colab": {
          "base_uri": "https://localhost:8080/"
        },
        "id": "TY-9dCOkc2Sg",
        "outputId": "d1c84f91-e65c-452f-8dca-0201d201b83d"
      },
      "execution_count": null,
      "outputs": [
        {
          "output_type": "stream",
          "name": "stdout",
          "text": [
            "platform=linux\n",
            "./build_mgblast.sh: line 56: NCBI_MT_OTHERLIBS: command not found\n",
            "./build_mgblast.sh: line 60: cd: ./build: No such file or directory\n",
            "mv: cannot stat 'makeall.unx': No such file or directory\n",
            "make GNUTLS_INCLUDE=\"\"  GNUTLS_LIBS=\"\"  CFLAGS1=\"-DNDEBUG -O3 -c \"  LDFLAGS1=\"-O3\" OTHERLIBS=\"-lm\"  SHELL=\"/bin/sh\" LCL=\"lnx\"  RAN=\"ranlib\" AR=\"ar\" CC=\"gcc -pipe -D_FILE_OFFSET_BITS=64 -D_LARGEFILE64_SOURCE\" all\n",
            "make: *** No rule to make target 'all'.  Stop.\n",
            "\n",
            "Fatal error building NCBI core libraries.\n",
            "\n"
          ]
        }
      ]
    },
    {
      "cell_type": "code",
      "source": [
        "! blastpgp --h"
      ],
      "metadata": {
        "colab": {
          "base_uri": "https://localhost:8080/"
        },
        "id": "nrBWJ0VAc_gt",
        "outputId": "3610ae47-3ec5-4c90-8914-fccc2894f8d7"
      },
      "execution_count": null,
      "outputs": [
        {
          "output_type": "stream",
          "name": "stdout",
          "text": [
            "Option h requires an argument\n",
            "BLAST query/options error: Either a BLAST database or subject sequence(s) must be specified\n",
            "Please refer to the BLAST+ user manual.\n",
            "Program failed, try executing the command manually.\n"
          ]
        }
      ]
    },
    {
      "cell_type": "code",
      "source": [],
      "metadata": {
        "id": "SDsMg38Td7RQ"
      },
      "execution_count": null,
      "outputs": []
    }
  ]
}