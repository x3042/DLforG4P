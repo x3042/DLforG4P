{
  "nbformat": 4,
  "nbformat_minor": 0,
  "metadata": {
    "colab": {
      "provenance": []
    },
    "kernelspec": {
      "name": "python3",
      "display_name": "Python 3"
    },
    "language_info": {
      "name": "python"
    }
  },
  "cells": [
    {
      "cell_type": "code",
      "execution_count": 2,
      "metadata": {
        "colab": {
          "base_uri": "https://localhost:8080/"
        },
        "id": "TOOSlSGR1k5U",
        "outputId": "acbde4fe-0587-410c-9833-9b256dffa1c0"
      },
      "outputs": [
        {
          "output_type": "stream",
          "name": "stdout",
          "text": [
            "Cloning into 'PDBP-Fusion'...\n",
            "remote: Enumerating objects: 53, done.\u001b[K\n",
            "remote: Counting objects: 100% (53/53), done.\u001b[K\n",
            "remote: Compressing objects: 100% (36/36), done.\u001b[K\n",
            "remote: Total 53 (delta 14), reused 36 (delta 10), pack-reused 0\u001b[K\n",
            "Unpacking objects: 100% (53/53), 12.55 MiB | 10.49 MiB/s, done.\n"
          ]
        }
      ],
      "source": [
        "!git clone https://github.com/hfuulgb/PDBP-Fusion.git"
      ]
    },
    {
      "cell_type": "code",
      "source": [
        "%cd PDBP-Fusion/"
      ],
      "metadata": {
        "colab": {
          "base_uri": "https://localhost:8080/"
        },
        "id": "qgFYOzvY2SZ5",
        "outputId": "bf45e0f3-3f0a-4b5d-de8d-59778de81ba1"
      },
      "execution_count": 6,
      "outputs": [
        {
          "output_type": "stream",
          "name": "stdout",
          "text": [
            "/content/PDBP-Fusion\n"
          ]
        }
      ]
    },
    {
      "cell_type": "code",
      "source": [
        "!mv /content/predict_mod0.py /content/PDBP-Fusion/predict_mod0.py"
      ],
      "metadata": {
        "id": "gu_ZOl4A9aim"
      },
      "execution_count": 17,
      "outputs": []
    },
    {
      "cell_type": "code",
      "source": [
        "!python predict_mod0.py"
      ],
      "metadata": {
        "colab": {
          "base_uri": "https://localhost:8080/"
        },
        "id": "rwX_r-E2mYao",
        "outputId": "bb0db436-b2b2-45bc-e499-c45ec2e68868"
      },
      "execution_count": 18,
      "outputs": [
        {
          "output_type": "stream",
          "name": "stdout",
          "text": [
            "2023-05-08 13:42:41.427110: I tensorflow/core/platform/cpu_feature_guard.cc:182] This TensorFlow binary is optimized to use available CPU instructions in performance-critical operations.\n",
            "To enable the following instructions: AVX2 FMA, in other operations, rebuild TensorFlow with the appropriate compiler flags.\n",
            "2023-05-08 13:42:42.645458: W tensorflow/compiler/tf2tensorrt/utils/py_utils.cc:38] TF-TRT Warning: Could not find TensorRT\n",
            "2023-05-08 13:42:44.969831: I tensorflow/core/common_runtime/executor.cc:1197] [/device:CPU:0] (DEBUG INFO) Executor start aborting (this does not indicate an error and you can ignore this message): INVALID_ARGUMENT: You must feed a value for placeholder tensor 'gradients/split_2_grad/concat/split_2/split_dim' with dtype int32\n",
            "\t [[{{node gradients/split_2_grad/concat/split_2/split_dim}}]]\n",
            "2023-05-08 13:42:44.971409: I tensorflow/core/common_runtime/executor.cc:1197] [/device:CPU:0] (DEBUG INFO) Executor start aborting (this does not indicate an error and you can ignore this message): INVALID_ARGUMENT: You must feed a value for placeholder tensor 'gradients/split_grad/concat/split/split_dim' with dtype int32\n",
            "\t [[{{node gradients/split_grad/concat/split/split_dim}}]]\n",
            "2023-05-08 13:42:44.972901: I tensorflow/core/common_runtime/executor.cc:1197] [/device:CPU:0] (DEBUG INFO) Executor start aborting (this does not indicate an error and you can ignore this message): INVALID_ARGUMENT: You must feed a value for placeholder tensor 'gradients/split_1_grad/concat/split_1/split_dim' with dtype int32\n",
            "\t [[{{node gradients/split_1_grad/concat/split_1/split_dim}}]]\n",
            "2023-05-08 13:42:45.162082: I tensorflow/core/common_runtime/executor.cc:1197] [/device:CPU:0] (DEBUG INFO) Executor start aborting (this does not indicate an error and you can ignore this message): INVALID_ARGUMENT: You must feed a value for placeholder tensor 'gradients/ReverseV2_grad/ReverseV2/ReverseV2/axis' with dtype int32 and shape [1]\n",
            "\t [[{{node gradients/ReverseV2_grad/ReverseV2/ReverseV2/axis}}]]\n",
            "2023-05-08 13:42:45.227930: I tensorflow/core/common_runtime/executor.cc:1197] [/device:CPU:0] (DEBUG INFO) Executor start aborting (this does not indicate an error and you can ignore this message): INVALID_ARGUMENT: You must feed a value for placeholder tensor 'gradients/split_2_grad/concat/split_2/split_dim' with dtype int32\n",
            "\t [[{{node gradients/split_2_grad/concat/split_2/split_dim}}]]\n",
            "2023-05-08 13:42:45.229564: I tensorflow/core/common_runtime/executor.cc:1197] [/device:CPU:0] (DEBUG INFO) Executor start aborting (this does not indicate an error and you can ignore this message): INVALID_ARGUMENT: You must feed a value for placeholder tensor 'gradients/split_grad/concat/split/split_dim' with dtype int32\n",
            "\t [[{{node gradients/split_grad/concat/split/split_dim}}]]\n",
            "2023-05-08 13:42:45.231006: I tensorflow/core/common_runtime/executor.cc:1197] [/device:CPU:0] (DEBUG INFO) Executor start aborting (this does not indicate an error and you can ignore this message): INVALID_ARGUMENT: You must feed a value for placeholder tensor 'gradients/split_1_grad/concat/split_1/split_dim' with dtype int32\n",
            "\t [[{{node gradients/split_1_grad/concat/split_1/split_dim}}]]\n",
            "2023-05-08 13:42:45.856890: I tensorflow/core/common_runtime/executor.cc:1197] [/device:CPU:0] (DEBUG INFO) Executor start aborting (this does not indicate an error and you can ignore this message): INVALID_ARGUMENT: You must feed a value for placeholder tensor 'gradients/split_2_grad/concat/split_2/split_dim' with dtype int32\n",
            "\t [[{{node gradients/split_2_grad/concat/split_2/split_dim}}]]\n",
            "2023-05-08 13:42:45.858567: I tensorflow/core/common_runtime/executor.cc:1197] [/device:CPU:0] (DEBUG INFO) Executor start aborting (this does not indicate an error and you can ignore this message): INVALID_ARGUMENT: You must feed a value for placeholder tensor 'gradients/split_grad/concat/split/split_dim' with dtype int32\n",
            "\t [[{{node gradients/split_grad/concat/split/split_dim}}]]\n",
            "2023-05-08 13:42:45.860016: I tensorflow/core/common_runtime/executor.cc:1197] [/device:CPU:0] (DEBUG INFO) Executor start aborting (this does not indicate an error and you can ignore this message): INVALID_ARGUMENT: You must feed a value for placeholder tensor 'gradients/split_1_grad/concat/split_1/split_dim' with dtype int32\n",
            "\t [[{{node gradients/split_1_grad/concat/split_1/split_dim}}]]\n",
            "2023-05-08 13:42:46.051793: I tensorflow/core/common_runtime/executor.cc:1197] [/device:CPU:0] (DEBUG INFO) Executor start aborting (this does not indicate an error and you can ignore this message): INVALID_ARGUMENT: You must feed a value for placeholder tensor 'gradients/ReverseV2_grad/ReverseV2/ReverseV2/axis' with dtype int32 and shape [1]\n",
            "\t [[{{node gradients/ReverseV2_grad/ReverseV2/ReverseV2/axis}}]]\n",
            "2023-05-08 13:42:46.118943: I tensorflow/core/common_runtime/executor.cc:1197] [/device:CPU:0] (DEBUG INFO) Executor start aborting (this does not indicate an error and you can ignore this message): INVALID_ARGUMENT: You must feed a value for placeholder tensor 'gradients/split_2_grad/concat/split_2/split_dim' with dtype int32\n",
            "\t [[{{node gradients/split_2_grad/concat/split_2/split_dim}}]]\n",
            "2023-05-08 13:42:46.120614: I tensorflow/core/common_runtime/executor.cc:1197] [/device:CPU:0] (DEBUG INFO) Executor start aborting (this does not indicate an error and you can ignore this message): INVALID_ARGUMENT: You must feed a value for placeholder tensor 'gradients/split_grad/concat/split/split_dim' with dtype int32\n",
            "\t [[{{node gradients/split_grad/concat/split/split_dim}}]]\n",
            "2023-05-08 13:42:46.122079: I tensorflow/core/common_runtime/executor.cc:1197] [/device:CPU:0] (DEBUG INFO) Executor start aborting (this does not indicate an error and you can ignore this message): INVALID_ARGUMENT: You must feed a value for placeholder tensor 'gradients/split_1_grad/concat/split_1/split_dim' with dtype int32\n",
            "\t [[{{node gradients/split_1_grad/concat/split_1/split_dim}}]]\n",
            "1/1 [==============================] - 1s 899ms/step\n",
            "prediction is  [[0.44936925 0.55946624]]\n",
            "[]\n",
            "start: 2023-05-08-13:42:44\n",
            "end: 2023-05-08-13:42:46\n"
          ]
        }
      ]
    },
    {
      "cell_type": "code",
      "source": [
        "!python predict_mod.py"
      ],
      "metadata": {
        "colab": {
          "base_uri": "https://localhost:8080/"
        },
        "id": "raoGzgKFlHEf",
        "outputId": "a74a6d38-7410-4753-8098-21268d788d59"
      },
      "execution_count": 15,
      "outputs": [
        {
          "output_type": "stream",
          "name": "stdout",
          "text": [
            "2023-05-08 13:38:44.305574: I tensorflow/core/platform/cpu_feature_guard.cc:182] This TensorFlow binary is optimized to use available CPU instructions in performance-critical operations.\n",
            "To enable the following instructions: AVX2 FMA, in other operations, rebuild TensorFlow with the appropriate compiler flags.\n",
            "2023-05-08 13:38:45.724534: W tensorflow/compiler/tf2tensorrt/utils/py_utils.cc:38] TF-TRT Warning: Could not find TensorRT\n",
            "2023-05-08 13:38:48.096512: I tensorflow/core/common_runtime/executor.cc:1197] [/device:CPU:0] (DEBUG INFO) Executor start aborting (this does not indicate an error and you can ignore this message): INVALID_ARGUMENT: You must feed a value for placeholder tensor 'gradients/split_2_grad/concat/split_2/split_dim' with dtype int32\n",
            "\t [[{{node gradients/split_2_grad/concat/split_2/split_dim}}]]\n",
            "2023-05-08 13:38:48.098105: I tensorflow/core/common_runtime/executor.cc:1197] [/device:CPU:0] (DEBUG INFO) Executor start aborting (this does not indicate an error and you can ignore this message): INVALID_ARGUMENT: You must feed a value for placeholder tensor 'gradients/split_grad/concat/split/split_dim' with dtype int32\n",
            "\t [[{{node gradients/split_grad/concat/split/split_dim}}]]\n",
            "2023-05-08 13:38:48.099638: I tensorflow/core/common_runtime/executor.cc:1197] [/device:CPU:0] (DEBUG INFO) Executor start aborting (this does not indicate an error and you can ignore this message): INVALID_ARGUMENT: You must feed a value for placeholder tensor 'gradients/split_1_grad/concat/split_1/split_dim' with dtype int32\n",
            "\t [[{{node gradients/split_1_grad/concat/split_1/split_dim}}]]\n",
            "2023-05-08 13:38:48.288007: I tensorflow/core/common_runtime/executor.cc:1197] [/device:CPU:0] (DEBUG INFO) Executor start aborting (this does not indicate an error and you can ignore this message): INVALID_ARGUMENT: You must feed a value for placeholder tensor 'gradients/ReverseV2_grad/ReverseV2/ReverseV2/axis' with dtype int32 and shape [1]\n",
            "\t [[{{node gradients/ReverseV2_grad/ReverseV2/ReverseV2/axis}}]]\n",
            "2023-05-08 13:38:48.357015: I tensorflow/core/common_runtime/executor.cc:1197] [/device:CPU:0] (DEBUG INFO) Executor start aborting (this does not indicate an error and you can ignore this message): INVALID_ARGUMENT: You must feed a value for placeholder tensor 'gradients/split_2_grad/concat/split_2/split_dim' with dtype int32\n",
            "\t [[{{node gradients/split_2_grad/concat/split_2/split_dim}}]]\n",
            "2023-05-08 13:38:48.358590: I tensorflow/core/common_runtime/executor.cc:1197] [/device:CPU:0] (DEBUG INFO) Executor start aborting (this does not indicate an error and you can ignore this message): INVALID_ARGUMENT: You must feed a value for placeholder tensor 'gradients/split_grad/concat/split/split_dim' with dtype int32\n",
            "\t [[{{node gradients/split_grad/concat/split/split_dim}}]]\n",
            "2023-05-08 13:38:48.360257: I tensorflow/core/common_runtime/executor.cc:1197] [/device:CPU:0] (DEBUG INFO) Executor start aborting (this does not indicate an error and you can ignore this message): INVALID_ARGUMENT: You must feed a value for placeholder tensor 'gradients/split_1_grad/concat/split_1/split_dim' with dtype int32\n",
            "\t [[{{node gradients/split_1_grad/concat/split_1/split_dim}}]]\n",
            "2023-05-08 13:38:48.981464: I tensorflow/core/common_runtime/executor.cc:1197] [/device:CPU:0] (DEBUG INFO) Executor start aborting (this does not indicate an error and you can ignore this message): INVALID_ARGUMENT: You must feed a value for placeholder tensor 'gradients/split_2_grad/concat/split_2/split_dim' with dtype int32\n",
            "\t [[{{node gradients/split_2_grad/concat/split_2/split_dim}}]]\n",
            "2023-05-08 13:38:48.983236: I tensorflow/core/common_runtime/executor.cc:1197] [/device:CPU:0] (DEBUG INFO) Executor start aborting (this does not indicate an error and you can ignore this message): INVALID_ARGUMENT: You must feed a value for placeholder tensor 'gradients/split_grad/concat/split/split_dim' with dtype int32\n",
            "\t [[{{node gradients/split_grad/concat/split/split_dim}}]]\n",
            "2023-05-08 13:38:48.984759: I tensorflow/core/common_runtime/executor.cc:1197] [/device:CPU:0] (DEBUG INFO) Executor start aborting (this does not indicate an error and you can ignore this message): INVALID_ARGUMENT: You must feed a value for placeholder tensor 'gradients/split_1_grad/concat/split_1/split_dim' with dtype int32\n",
            "\t [[{{node gradients/split_1_grad/concat/split_1/split_dim}}]]\n",
            "2023-05-08 13:38:49.174793: I tensorflow/core/common_runtime/executor.cc:1197] [/device:CPU:0] (DEBUG INFO) Executor start aborting (this does not indicate an error and you can ignore this message): INVALID_ARGUMENT: You must feed a value for placeholder tensor 'gradients/ReverseV2_grad/ReverseV2/ReverseV2/axis' with dtype int32 and shape [1]\n",
            "\t [[{{node gradients/ReverseV2_grad/ReverseV2/ReverseV2/axis}}]]\n",
            "2023-05-08 13:38:49.246446: I tensorflow/core/common_runtime/executor.cc:1197] [/device:CPU:0] (DEBUG INFO) Executor start aborting (this does not indicate an error and you can ignore this message): INVALID_ARGUMENT: You must feed a value for placeholder tensor 'gradients/split_2_grad/concat/split_2/split_dim' with dtype int32\n",
            "\t [[{{node gradients/split_2_grad/concat/split_2/split_dim}}]]\n",
            "2023-05-08 13:38:49.248164: I tensorflow/core/common_runtime/executor.cc:1197] [/device:CPU:0] (DEBUG INFO) Executor start aborting (this does not indicate an error and you can ignore this message): INVALID_ARGUMENT: You must feed a value for placeholder tensor 'gradients/split_grad/concat/split/split_dim' with dtype int32\n",
            "\t [[{{node gradients/split_grad/concat/split/split_dim}}]]\n",
            "2023-05-08 13:38:49.249670: I tensorflow/core/common_runtime/executor.cc:1197] [/device:CPU:0] (DEBUG INFO) Executor start aborting (this does not indicate an error and you can ignore this message): INVALID_ARGUMENT: You must feed a value for placeholder tensor 'gradients/split_1_grad/concat/split_1/split_dim' with dtype int32\n",
            "\t [[{{node gradients/split_1_grad/concat/split_1/split_dim}}]]\n",
            "1/1 [==============================] - 1s 927ms/step\n",
            "prediction is  [0.44936925 0.55946624]\n",
            "[]\n",
            "start: 2023-05-08-13:38:47\n",
            "end: 2023-05-08-13:38:49\n"
          ]
        }
      ]
    },
    {
      "cell_type": "code",
      "source": [
        "0.44936925 + 0.55946624"
      ],
      "metadata": {
        "colab": {
          "base_uri": "https://localhost:8080/"
        },
        "id": "rm0XTeCRls5d",
        "outputId": "2807e67a-51c4-4767-bd7d-272ec4b7e36f"
      },
      "execution_count": 16,
      "outputs": [
        {
          "output_type": "execute_result",
          "data": {
            "text/plain": [
              "1.00883549"
            ]
          },
          "metadata": {},
          "execution_count": 16
        }
      ]
    },
    {
      "cell_type": "code",
      "source": [
        "!python predict_json.py"
      ],
      "metadata": {
        "colab": {
          "base_uri": "https://localhost:8080/"
        },
        "id": "cygWhguKiohA",
        "outputId": "ce646719-00a4-4cc7-b596-9ab372676279"
      },
      "execution_count": 11,
      "outputs": [
        {
          "output_type": "stream",
          "name": "stdout",
          "text": [
            "2023-05-08 13:26:20.754679: I tensorflow/core/platform/cpu_feature_guard.cc:182] This TensorFlow binary is optimized to use available CPU instructions in performance-critical operations.\n",
            "To enable the following instructions: AVX2 FMA, in other operations, rebuild TensorFlow with the appropriate compiler flags.\n",
            "2023-05-08 13:26:21.969380: W tensorflow/compiler/tf2tensorrt/utils/py_utils.cc:38] TF-TRT Warning: Could not find TensorRT\n",
            "Traceback (most recent call last):\n",
            "  File \"/content/PDBP-Fusion/predict_json.py\", line 39, in <module>\n",
            "    Pr.sample_predict(string='GSHMSDKPLTKTDYLMRLRRCQTIDTLERVIEKNKYELSDNELAVFYSAADHRLAELTMNKLYDKIPSSVWKFIRZZZZZZZZZZZZZZZZZZZZZZZZZZZZZZZZZZZZZZZZZZZZZZZZZZZZZZZZZZZZZZZZZZZZZZZZZZZZZZZZZZZZZZZZZZZZZZZZZZZZZZZZZZZZZZZZZZZZZZZZZZZZZZZZZZZZZZZZZZZZZZZZZZZZZZZZZZZZZZZZZZZZZZZZZZZZZZZZZZZZZZZZZZZZZZZZZZZZZZZZZZZZZZZZZZZZZZZZZZZZZZZZZZZZZZZZZZZZZZZZZZZZZZZZZZZZZZZZZZZZZZZZZZZZZZZZZZZZZZZZZZZZZZZZZZZZZZZZZZZZZZZZZZZZZZZZZZZZZZZZZZZZZZZZZZZZZZZZZZZZZZZZZZZZZZZZZZZZZZZZZZZZZZZZZZZZZZZZZZZZZZZZZZZZZZZZZZZZZZZZZZZZZZZZZZZZZZZZZZZZZZZZZZZZZZZZZZZZZZZZZZZZZZZZZZZZZZZZZZZZZZZZZZZZZZZZZZZZZZZZZZZZZZZZZZZZZZZZZZZZZZZZZZZZZZZZZZZZZZZZZZZZABC')\n",
            "  File \"/content/PDBP-Fusion/predict_json.py\", line 28, in sample_predict\n",
            "    self.model = load_model(self.item_model_path)\n",
            "  File \"/usr/local/lib/python3.10/dist-packages/keras/saving/saving_api.py\", line 212, in load_model\n",
            "    return legacy_sm_saving_lib.load_model(\n",
            "  File \"/usr/local/lib/python3.10/dist-packages/keras/utils/traceback_utils.py\", line 70, in error_handler\n",
            "    raise e.with_traceback(filtered_tb) from None\n",
            "  File \"/usr/local/lib/python3.10/dist-packages/h5py/_hl/files.py\", line 567, in __init__\n",
            "    fid = make_fid(name, mode, userblock_size, fapl, fcpl, swmr=swmr)\n",
            "  File \"/usr/local/lib/python3.10/dist-packages/h5py/_hl/files.py\", line 231, in make_fid\n",
            "    fid = h5f.open(name, flags, fapl=fapl)\n",
            "  File \"h5py/_objects.pyx\", line 54, in h5py._objects.with_phil.wrapper\n",
            "  File \"h5py/_objects.pyx\", line 55, in h5py._objects.with_phil.wrapper\n",
            "  File \"h5py/h5f.pyx\", line 106, in h5py.h5f.open\n",
            "OSError: Unable to open file (file signature not found)\n"
          ]
        }
      ]
    },
    {
      "cell_type": "code",
      "source": [
        "!python predict_h5.py"
      ],
      "metadata": {
        "colab": {
          "base_uri": "https://localhost:8080/"
        },
        "id": "7vSBxL3zh3fn",
        "outputId": "0130fd87-da36-4e49-8bf4-c8cf8f884bf8"
      },
      "execution_count": 9,
      "outputs": [
        {
          "output_type": "stream",
          "name": "stdout",
          "text": [
            "2023-05-08 13:24:33.240581: I tensorflow/core/platform/cpu_feature_guard.cc:182] This TensorFlow binary is optimized to use available CPU instructions in performance-critical operations.\n",
            "To enable the following instructions: AVX2 FMA, in other operations, rebuild TensorFlow with the appropriate compiler flags.\n",
            "2023-05-08 13:24:34.452057: W tensorflow/compiler/tf2tensorrt/utils/py_utils.cc:38] TF-TRT Warning: Could not find TensorRT\n",
            "2023-05-08 13:24:36.720197: I tensorflow/core/common_runtime/executor.cc:1197] [/device:CPU:0] (DEBUG INFO) Executor start aborting (this does not indicate an error and you can ignore this message): INVALID_ARGUMENT: You must feed a value for placeholder tensor 'gradients/split_2_grad/concat/split_2/split_dim' with dtype int32\n",
            "\t [[{{node gradients/split_2_grad/concat/split_2/split_dim}}]]\n",
            "2023-05-08 13:24:36.721866: I tensorflow/core/common_runtime/executor.cc:1197] [/device:CPU:0] (DEBUG INFO) Executor start aborting (this does not indicate an error and you can ignore this message): INVALID_ARGUMENT: You must feed a value for placeholder tensor 'gradients/split_grad/concat/split/split_dim' with dtype int32\n",
            "\t [[{{node gradients/split_grad/concat/split/split_dim}}]]\n",
            "2023-05-08 13:24:36.723334: I tensorflow/core/common_runtime/executor.cc:1197] [/device:CPU:0] (DEBUG INFO) Executor start aborting (this does not indicate an error and you can ignore this message): INVALID_ARGUMENT: You must feed a value for placeholder tensor 'gradients/split_1_grad/concat/split_1/split_dim' with dtype int32\n",
            "\t [[{{node gradients/split_1_grad/concat/split_1/split_dim}}]]\n",
            "2023-05-08 13:24:36.911385: I tensorflow/core/common_runtime/executor.cc:1197] [/device:CPU:0] (DEBUG INFO) Executor start aborting (this does not indicate an error and you can ignore this message): INVALID_ARGUMENT: You must feed a value for placeholder tensor 'gradients/ReverseV2_grad/ReverseV2/ReverseV2/axis' with dtype int32 and shape [1]\n",
            "\t [[{{node gradients/ReverseV2_grad/ReverseV2/ReverseV2/axis}}]]\n",
            "2023-05-08 13:24:36.986688: I tensorflow/core/common_runtime/executor.cc:1197] [/device:CPU:0] (DEBUG INFO) Executor start aborting (this does not indicate an error and you can ignore this message): INVALID_ARGUMENT: You must feed a value for placeholder tensor 'gradients/split_2_grad/concat/split_2/split_dim' with dtype int32\n",
            "\t [[{{node gradients/split_2_grad/concat/split_2/split_dim}}]]\n",
            "2023-05-08 13:24:36.988283: I tensorflow/core/common_runtime/executor.cc:1197] [/device:CPU:0] (DEBUG INFO) Executor start aborting (this does not indicate an error and you can ignore this message): INVALID_ARGUMENT: You must feed a value for placeholder tensor 'gradients/split_grad/concat/split/split_dim' with dtype int32\n",
            "\t [[{{node gradients/split_grad/concat/split/split_dim}}]]\n",
            "2023-05-08 13:24:36.989742: I tensorflow/core/common_runtime/executor.cc:1197] [/device:CPU:0] (DEBUG INFO) Executor start aborting (this does not indicate an error and you can ignore this message): INVALID_ARGUMENT: You must feed a value for placeholder tensor 'gradients/split_1_grad/concat/split_1/split_dim' with dtype int32\n",
            "\t [[{{node gradients/split_1_grad/concat/split_1/split_dim}}]]\n",
            "2023-05-08 13:24:37.510885: I tensorflow/core/common_runtime/executor.cc:1197] [/device:CPU:0] (DEBUG INFO) Executor start aborting (this does not indicate an error and you can ignore this message): INVALID_ARGUMENT: You must feed a value for placeholder tensor 'gradients/split_2_grad/concat/split_2/split_dim' with dtype int32\n",
            "\t [[{{node gradients/split_2_grad/concat/split_2/split_dim}}]]\n",
            "2023-05-08 13:24:37.512597: I tensorflow/core/common_runtime/executor.cc:1197] [/device:CPU:0] (DEBUG INFO) Executor start aborting (this does not indicate an error and you can ignore this message): INVALID_ARGUMENT: You must feed a value for placeholder tensor 'gradients/split_grad/concat/split/split_dim' with dtype int32\n",
            "\t [[{{node gradients/split_grad/concat/split/split_dim}}]]\n",
            "2023-05-08 13:24:37.514038: I tensorflow/core/common_runtime/executor.cc:1197] [/device:CPU:0] (DEBUG INFO) Executor start aborting (this does not indicate an error and you can ignore this message): INVALID_ARGUMENT: You must feed a value for placeholder tensor 'gradients/split_1_grad/concat/split_1/split_dim' with dtype int32\n",
            "\t [[{{node gradients/split_1_grad/concat/split_1/split_dim}}]]\n",
            "2023-05-08 13:24:37.705388: I tensorflow/core/common_runtime/executor.cc:1197] [/device:CPU:0] (DEBUG INFO) Executor start aborting (this does not indicate an error and you can ignore this message): INVALID_ARGUMENT: You must feed a value for placeholder tensor 'gradients/ReverseV2_grad/ReverseV2/ReverseV2/axis' with dtype int32 and shape [1]\n",
            "\t [[{{node gradients/ReverseV2_grad/ReverseV2/ReverseV2/axis}}]]\n",
            "2023-05-08 13:24:37.773417: I tensorflow/core/common_runtime/executor.cc:1197] [/device:CPU:0] (DEBUG INFO) Executor start aborting (this does not indicate an error and you can ignore this message): INVALID_ARGUMENT: You must feed a value for placeholder tensor 'gradients/split_2_grad/concat/split_2/split_dim' with dtype int32\n",
            "\t [[{{node gradients/split_2_grad/concat/split_2/split_dim}}]]\n",
            "2023-05-08 13:24:37.775011: I tensorflow/core/common_runtime/executor.cc:1197] [/device:CPU:0] (DEBUG INFO) Executor start aborting (this does not indicate an error and you can ignore this message): INVALID_ARGUMENT: You must feed a value for placeholder tensor 'gradients/split_grad/concat/split/split_dim' with dtype int32\n",
            "\t [[{{node gradients/split_grad/concat/split/split_dim}}]]\n",
            "2023-05-08 13:24:37.776474: I tensorflow/core/common_runtime/executor.cc:1197] [/device:CPU:0] (DEBUG INFO) Executor start aborting (this does not indicate an error and you can ignore this message): INVALID_ARGUMENT: You must feed a value for placeholder tensor 'gradients/split_1_grad/concat/split_1/split_dim' with dtype int32\n",
            "\t [[{{node gradients/split_1_grad/concat/split_1/split_dim}}]]\n",
            "1/1 [==============================] - 1s 1s/step\n",
            "prediction is [0.5033545  0.50196165]\n",
            "[array([0.5033545 , 0.50196165], dtype=float32)]\n",
            "start: 2023-05-08-13:24:36\n",
            "end: 2023-05-08-13:24:38\n"
          ]
        }
      ]
    },
    {
      "cell_type": "code",
      "source": [
        "!cat predict_mod.py"
      ],
      "metadata": {
        "colab": {
          "base_uri": "https://localhost:8080/"
        },
        "id": "N-23ZfEE2X0R",
        "outputId": "29a89bbc-0a64-4b57-c82b-8742621fbb85"
      },
      "execution_count": null,
      "outputs": [
        {
          "output_type": "stream",
          "name": "stdout",
          "text": [
            "# _*_ coding:utf-8 _*_\n",
            "from encode_schema import read_seq_onehot,get_seq_concolutional_array\n",
            "from keras.models import load_model\n",
            "import numpy as np\n",
            "from datetime import datetime\n",
            "\n",
            "class Pred():\n",
            "    def __init__(self,model_path='./model_save/model_'):\n",
            "        self.item_model_path = model_path + str(0) + '.hdf5'\n",
            "        #self.model = load_model(item_model_path)\n",
            "\n",
            "    def sample_predict(self,string,str_len=850):\n",
            "        # make sure the input sequnce less than 850, otherwise drop string when length excell 850\n",
            "        if len(string)>=str_len:\n",
            "            string=string[:str_len]\n",
            "        else:\n",
            "            string=string+'Z'*(str_len-len(string))\n",
            "        #print('len: ',str_len)\n",
            "        assert len(string)==str_len\n",
            "\n",
            "        #向量化\n",
            "        #print(get_seq_concolutional_array(string)[:5,:])\n",
            "        string_vector=get_seq_concolutional_array(string)\n",
            "        string_vector=np.expand_dims(string_vector,0)\n",
            "\n",
            "        #load model and predict\n",
            "        result=[]\n",
            "        self.model = load_model(self.item_model_path)\n",
            "        predict=self.model.predict(string_vector)\n",
            "        print('prediction is ', predict)\n",
            "        #result.append(predict)\n",
            "        print(result)\n",
            "\n",
            "        return result\n",
            "\n",
            "if __name__=='__main__':\n",
            "    Pr=Pred()\n",
            "    start = datetime.now().strftime('%Y-%m-%d-%H:%M:%S')\n",
            "    Pr.sample_predict(string='GSHMSDKPLTKTDYLMRLRRCQTIDTLERVIEKNKYELSDNELAVFYSAADHRLAELTMNKLYDKIPSSVWKFIRZZZZZZZZZZZZZZZZZZZZZZZZZZZZZZZZZZZZZZZZZZZZZZZZZZZZZZZZZZZZZZZZZZZZZZZZZZZZZZZZZZZZZZZZZZZZZZZZZZZZZZZZZZZZZZZZZZZZZZZZZZZZZZZZZZZZZZZZZZZZZZZZZZZZZZZZZZZZZZZZZZZZZZZZZZZZZZZZZZZZZZZZZZZZZZZZZZZZZZZZZZZZZZZZZZZZZZZZZZZZZZZZZZZZZZZZZZZZZZZZZZZZZZZZZZZZZZZZZZZZZZZZZZZZZZZZZZZZZZZZZZZZZZZZZZZZZZZZZZZZZZZZZZZZZZZZZZZZZZZZZZZZZZZZZZZZZZZZZZZZZZZZZZZZZZZZZZZZZZZZZZZZZZZZZZZZZZZZZZZZZZZZZZZZZZZZZZZZZZZZZZZZZZZZZZZZZZZZZZZZZZZZZZZZZZZZZZZZZZZZZZZZZZZZZZZZZZZZZZZZZZZZZZZZZZZZZZZZZZZZZZZZZZZZZZZZZZZZZZZZZZZZZZZZZZZZZZZZZZZZZZZZABC')\n",
            "    end = datetime.now().strftime('%Y-%m-%d-%H:%M:%S')\n",
            "    print('start: %s' % start)\n",
            "    print('end: %s' % end)\n",
            "    pass\n"
          ]
        }
      ]
    },
    {
      "cell_type": "code",
      "source": [
        "! python ./predict_new.py"
      ],
      "metadata": {
        "colab": {
          "base_uri": "https://localhost:8080/"
        },
        "id": "-kfwSsYo2Zni",
        "outputId": "d9868427-510f-48e1-a652-1f5e1056d893"
      },
      "execution_count": null,
      "outputs": [
        {
          "output_type": "stream",
          "name": "stdout",
          "text": [
            "2023-05-07 18:31:39.739884: I tensorflow/core/platform/cpu_feature_guard.cc:182] This TensorFlow binary is optimized to use available CPU instructions in performance-critical operations.\n",
            "To enable the following instructions: AVX2 FMA, in other operations, rebuild TensorFlow with the appropriate compiler flags.\n",
            "2023-05-07 18:31:41.017755: W tensorflow/compiler/tf2tensorrt/utils/py_utils.cc:38] TF-TRT Warning: Could not find TensorRT\n",
            "2023-05-07 18:31:44.243171: I tensorflow/core/common_runtime/executor.cc:1197] [/device:CPU:0] (DEBUG INFO) Executor start aborting (this does not indicate an error and you can ignore this message): INVALID_ARGUMENT: You must feed a value for placeholder tensor 'gradients/split_2_grad/concat/split_2/split_dim' with dtype int32\n",
            "\t [[{{node gradients/split_2_grad/concat/split_2/split_dim}}]]\n",
            "2023-05-07 18:31:44.245459: I tensorflow/core/common_runtime/executor.cc:1197] [/device:CPU:0] (DEBUG INFO) Executor start aborting (this does not indicate an error and you can ignore this message): INVALID_ARGUMENT: You must feed a value for placeholder tensor 'gradients/split_grad/concat/split/split_dim' with dtype int32\n",
            "\t [[{{node gradients/split_grad/concat/split/split_dim}}]]\n",
            "2023-05-07 18:31:44.247504: I tensorflow/core/common_runtime/executor.cc:1197] [/device:CPU:0] (DEBUG INFO) Executor start aborting (this does not indicate an error and you can ignore this message): INVALID_ARGUMENT: You must feed a value for placeholder tensor 'gradients/split_1_grad/concat/split_1/split_dim' with dtype int32\n",
            "\t [[{{node gradients/split_1_grad/concat/split_1/split_dim}}]]\n",
            "2023-05-07 18:31:44.480468: I tensorflow/core/common_runtime/executor.cc:1197] [/device:CPU:0] (DEBUG INFO) Executor start aborting (this does not indicate an error and you can ignore this message): INVALID_ARGUMENT: You must feed a value for placeholder tensor 'gradients/ReverseV2_grad/ReverseV2/ReverseV2/axis' with dtype int32 and shape [1]\n",
            "\t [[{{node gradients/ReverseV2_grad/ReverseV2/ReverseV2/axis}}]]\n",
            "2023-05-07 18:31:44.548985: I tensorflow/core/common_runtime/executor.cc:1197] [/device:CPU:0] (DEBUG INFO) Executor start aborting (this does not indicate an error and you can ignore this message): INVALID_ARGUMENT: You must feed a value for placeholder tensor 'gradients/split_2_grad/concat/split_2/split_dim' with dtype int32\n",
            "\t [[{{node gradients/split_2_grad/concat/split_2/split_dim}}]]\n",
            "2023-05-07 18:31:44.550493: I tensorflow/core/common_runtime/executor.cc:1197] [/device:CPU:0] (DEBUG INFO) Executor start aborting (this does not indicate an error and you can ignore this message): INVALID_ARGUMENT: You must feed a value for placeholder tensor 'gradients/split_grad/concat/split/split_dim' with dtype int32\n",
            "\t [[{{node gradients/split_grad/concat/split/split_dim}}]]\n",
            "2023-05-07 18:31:44.552039: I tensorflow/core/common_runtime/executor.cc:1197] [/device:CPU:0] (DEBUG INFO) Executor start aborting (this does not indicate an error and you can ignore this message): INVALID_ARGUMENT: You must feed a value for placeholder tensor 'gradients/split_1_grad/concat/split_1/split_dim' with dtype int32\n",
            "\t [[{{node gradients/split_1_grad/concat/split_1/split_dim}}]]\n",
            "2023-05-07 18:31:45.154523: I tensorflow/core/common_runtime/executor.cc:1197] [/device:CPU:0] (DEBUG INFO) Executor start aborting (this does not indicate an error and you can ignore this message): INVALID_ARGUMENT: You must feed a value for placeholder tensor 'gradients/split_2_grad/concat/split_2/split_dim' with dtype int32\n",
            "\t [[{{node gradients/split_2_grad/concat/split_2/split_dim}}]]\n",
            "2023-05-07 18:31:45.156146: I tensorflow/core/common_runtime/executor.cc:1197] [/device:CPU:0] (DEBUG INFO) Executor start aborting (this does not indicate an error and you can ignore this message): INVALID_ARGUMENT: You must feed a value for placeholder tensor 'gradients/split_grad/concat/split/split_dim' with dtype int32\n",
            "\t [[{{node gradients/split_grad/concat/split/split_dim}}]]\n",
            "2023-05-07 18:31:45.157574: I tensorflow/core/common_runtime/executor.cc:1197] [/device:CPU:0] (DEBUG INFO) Executor start aborting (this does not indicate an error and you can ignore this message): INVALID_ARGUMENT: You must feed a value for placeholder tensor 'gradients/split_1_grad/concat/split_1/split_dim' with dtype int32\n",
            "\t [[{{node gradients/split_1_grad/concat/split_1/split_dim}}]]\n",
            "2023-05-07 18:31:45.336984: I tensorflow/core/common_runtime/executor.cc:1197] [/device:CPU:0] (DEBUG INFO) Executor start aborting (this does not indicate an error and you can ignore this message): INVALID_ARGUMENT: You must feed a value for placeholder tensor 'gradients/ReverseV2_grad/ReverseV2/ReverseV2/axis' with dtype int32 and shape [1]\n",
            "\t [[{{node gradients/ReverseV2_grad/ReverseV2/ReverseV2/axis}}]]\n",
            "2023-05-07 18:31:45.403807: I tensorflow/core/common_runtime/executor.cc:1197] [/device:CPU:0] (DEBUG INFO) Executor start aborting (this does not indicate an error and you can ignore this message): INVALID_ARGUMENT: You must feed a value for placeholder tensor 'gradients/split_2_grad/concat/split_2/split_dim' with dtype int32\n",
            "\t [[{{node gradients/split_2_grad/concat/split_2/split_dim}}]]\n",
            "2023-05-07 18:31:45.405336: I tensorflow/core/common_runtime/executor.cc:1197] [/device:CPU:0] (DEBUG INFO) Executor start aborting (this does not indicate an error and you can ignore this message): INVALID_ARGUMENT: You must feed a value for placeholder tensor 'gradients/split_grad/concat/split/split_dim' with dtype int32\n",
            "\t [[{{node gradients/split_grad/concat/split/split_dim}}]]\n",
            "2023-05-07 18:31:45.406713: I tensorflow/core/common_runtime/executor.cc:1197] [/device:CPU:0] (DEBUG INFO) Executor start aborting (this does not indicate an error and you can ignore this message): INVALID_ARGUMENT: You must feed a value for placeholder tensor 'gradients/split_1_grad/concat/split_1/split_dim' with dtype int32\n",
            "\t [[{{node gradients/split_1_grad/concat/split_1/split_dim}}]]\n",
            "1/1 [==============================] - 1s 888ms/step\n",
            "prediction is [0.44936925 0.55946624]\n",
            "[array([0.44936925, 0.55946624], dtype=float32)]\n",
            "start: 2023-05-07-18:31:43\n",
            "end: 2023-05-07-18:31:45\n"
          ]
        }
      ]
    },
    {
      "cell_type": "code",
      "source": [
        "! python ./predict_neg.py"
      ],
      "metadata": {
        "colab": {
          "base_uri": "https://localhost:8080/"
        },
        "id": "oL9VeOiO2qn2",
        "outputId": "831053b5-b778-440e-fffd-0e526b4cfab2"
      },
      "execution_count": null,
      "outputs": [
        {
          "output_type": "stream",
          "name": "stdout",
          "text": [
            "2023-05-07 18:43:07.594225: I tensorflow/core/platform/cpu_feature_guard.cc:182] This TensorFlow binary is optimized to use available CPU instructions in performance-critical operations.\n",
            "To enable the following instructions: AVX2 FMA, in other operations, rebuild TensorFlow with the appropriate compiler flags.\n",
            "2023-05-07 18:43:08.723753: W tensorflow/compiler/tf2tensorrt/utils/py_utils.cc:38] TF-TRT Warning: Could not find TensorRT\n",
            "2023-05-07 18:43:10.869897: I tensorflow/core/common_runtime/executor.cc:1197] [/device:CPU:0] (DEBUG INFO) Executor start aborting (this does not indicate an error and you can ignore this message): INVALID_ARGUMENT: You must feed a value for placeholder tensor 'gradients/split_2_grad/concat/split_2/split_dim' with dtype int32\n",
            "\t [[{{node gradients/split_2_grad/concat/split_2/split_dim}}]]\n",
            "2023-05-07 18:43:10.871459: I tensorflow/core/common_runtime/executor.cc:1197] [/device:CPU:0] (DEBUG INFO) Executor start aborting (this does not indicate an error and you can ignore this message): INVALID_ARGUMENT: You must feed a value for placeholder tensor 'gradients/split_grad/concat/split/split_dim' with dtype int32\n",
            "\t [[{{node gradients/split_grad/concat/split/split_dim}}]]\n",
            "2023-05-07 18:43:10.872915: I tensorflow/core/common_runtime/executor.cc:1197] [/device:CPU:0] (DEBUG INFO) Executor start aborting (this does not indicate an error and you can ignore this message): INVALID_ARGUMENT: You must feed a value for placeholder tensor 'gradients/split_1_grad/concat/split_1/split_dim' with dtype int32\n",
            "\t [[{{node gradients/split_1_grad/concat/split_1/split_dim}}]]\n",
            "2023-05-07 18:43:11.052768: I tensorflow/core/common_runtime/executor.cc:1197] [/device:CPU:0] (DEBUG INFO) Executor start aborting (this does not indicate an error and you can ignore this message): INVALID_ARGUMENT: You must feed a value for placeholder tensor 'gradients/ReverseV2_grad/ReverseV2/ReverseV2/axis' with dtype int32 and shape [1]\n",
            "\t [[{{node gradients/ReverseV2_grad/ReverseV2/ReverseV2/axis}}]]\n",
            "2023-05-07 18:43:11.115940: I tensorflow/core/common_runtime/executor.cc:1197] [/device:CPU:0] (DEBUG INFO) Executor start aborting (this does not indicate an error and you can ignore this message): INVALID_ARGUMENT: You must feed a value for placeholder tensor 'gradients/split_2_grad/concat/split_2/split_dim' with dtype int32\n",
            "\t [[{{node gradients/split_2_grad/concat/split_2/split_dim}}]]\n",
            "2023-05-07 18:43:11.117517: I tensorflow/core/common_runtime/executor.cc:1197] [/device:CPU:0] (DEBUG INFO) Executor start aborting (this does not indicate an error and you can ignore this message): INVALID_ARGUMENT: You must feed a value for placeholder tensor 'gradients/split_grad/concat/split/split_dim' with dtype int32\n",
            "\t [[{{node gradients/split_grad/concat/split/split_dim}}]]\n",
            "2023-05-07 18:43:11.118969: I tensorflow/core/common_runtime/executor.cc:1197] [/device:CPU:0] (DEBUG INFO) Executor start aborting (this does not indicate an error and you can ignore this message): INVALID_ARGUMENT: You must feed a value for placeholder tensor 'gradients/split_1_grad/concat/split_1/split_dim' with dtype int32\n",
            "\t [[{{node gradients/split_1_grad/concat/split_1/split_dim}}]]\n",
            "2023-05-07 18:43:11.899000: I tensorflow/core/common_runtime/executor.cc:1197] [/device:CPU:0] (DEBUG INFO) Executor start aborting (this does not indicate an error and you can ignore this message): INVALID_ARGUMENT: You must feed a value for placeholder tensor 'gradients/split_2_grad/concat/split_2/split_dim' with dtype int32\n",
            "\t [[{{node gradients/split_2_grad/concat/split_2/split_dim}}]]\n",
            "2023-05-07 18:43:11.901154: I tensorflow/core/common_runtime/executor.cc:1197] [/device:CPU:0] (DEBUG INFO) Executor start aborting (this does not indicate an error and you can ignore this message): INVALID_ARGUMENT: You must feed a value for placeholder tensor 'gradients/split_grad/concat/split/split_dim' with dtype int32\n",
            "\t [[{{node gradients/split_grad/concat/split/split_dim}}]]\n",
            "2023-05-07 18:43:11.903036: I tensorflow/core/common_runtime/executor.cc:1197] [/device:CPU:0] (DEBUG INFO) Executor start aborting (this does not indicate an error and you can ignore this message): INVALID_ARGUMENT: You must feed a value for placeholder tensor 'gradients/split_1_grad/concat/split_1/split_dim' with dtype int32\n",
            "\t [[{{node gradients/split_1_grad/concat/split_1/split_dim}}]]\n",
            "2023-05-07 18:43:12.150169: I tensorflow/core/common_runtime/executor.cc:1197] [/device:CPU:0] (DEBUG INFO) Executor start aborting (this does not indicate an error and you can ignore this message): INVALID_ARGUMENT: You must feed a value for placeholder tensor 'gradients/ReverseV2_grad/ReverseV2/ReverseV2/axis' with dtype int32 and shape [1]\n",
            "\t [[{{node gradients/ReverseV2_grad/ReverseV2/ReverseV2/axis}}]]\n",
            "2023-05-07 18:43:12.233049: I tensorflow/core/common_runtime/executor.cc:1197] [/device:CPU:0] (DEBUG INFO) Executor start aborting (this does not indicate an error and you can ignore this message): INVALID_ARGUMENT: You must feed a value for placeholder tensor 'gradients/split_2_grad/concat/split_2/split_dim' with dtype int32\n",
            "\t [[{{node gradients/split_2_grad/concat/split_2/split_dim}}]]\n",
            "2023-05-07 18:43:12.235067: I tensorflow/core/common_runtime/executor.cc:1197] [/device:CPU:0] (DEBUG INFO) Executor start aborting (this does not indicate an error and you can ignore this message): INVALID_ARGUMENT: You must feed a value for placeholder tensor 'gradients/split_grad/concat/split/split_dim' with dtype int32\n",
            "\t [[{{node gradients/split_grad/concat/split/split_dim}}]]\n",
            "2023-05-07 18:43:12.236944: I tensorflow/core/common_runtime/executor.cc:1197] [/device:CPU:0] (DEBUG INFO) Executor start aborting (this does not indicate an error and you can ignore this message): INVALID_ARGUMENT: You must feed a value for placeholder tensor 'gradients/split_1_grad/concat/split_1/split_dim' with dtype int32\n",
            "\t [[{{node gradients/split_1_grad/concat/split_1/split_dim}}]]\n",
            "1/1 [==============================] - 1s 1s/step\n",
            "prediction is [0.9861613  0.01466555]\n",
            "[array([0.9861613 , 0.01466555], dtype=float32)]\n",
            "start: 2023-05-07-18:43:10\n",
            "end: 2023-05-07-18:43:12\n"
          ]
        }
      ]
    },
    {
      "cell_type": "code",
      "source": [
        "! python ./predict_pos.py"
      ],
      "metadata": {
        "colab": {
          "base_uri": "https://localhost:8080/"
        },
        "id": "Ufzlq3cohk3P",
        "outputId": "1904dfdc-c292-4505-a0e1-4560d50fdcbb"
      },
      "execution_count": null,
      "outputs": [
        {
          "output_type": "stream",
          "name": "stdout",
          "text": [
            "2023-05-07 18:43:43.397782: I tensorflow/core/platform/cpu_feature_guard.cc:182] This TensorFlow binary is optimized to use available CPU instructions in performance-critical operations.\n",
            "To enable the following instructions: AVX2 FMA, in other operations, rebuild TensorFlow with the appropriate compiler flags.\n",
            "2023-05-07 18:43:44.541972: W tensorflow/compiler/tf2tensorrt/utils/py_utils.cc:38] TF-TRT Warning: Could not find TensorRT\n",
            "2023-05-07 18:43:46.732152: I tensorflow/core/common_runtime/executor.cc:1197] [/device:CPU:0] (DEBUG INFO) Executor start aborting (this does not indicate an error and you can ignore this message): INVALID_ARGUMENT: You must feed a value for placeholder tensor 'gradients/split_2_grad/concat/split_2/split_dim' with dtype int32\n",
            "\t [[{{node gradients/split_2_grad/concat/split_2/split_dim}}]]\n",
            "2023-05-07 18:43:46.733679: I tensorflow/core/common_runtime/executor.cc:1197] [/device:CPU:0] (DEBUG INFO) Executor start aborting (this does not indicate an error and you can ignore this message): INVALID_ARGUMENT: You must feed a value for placeholder tensor 'gradients/split_grad/concat/split/split_dim' with dtype int32\n",
            "\t [[{{node gradients/split_grad/concat/split/split_dim}}]]\n",
            "2023-05-07 18:43:46.735098: I tensorflow/core/common_runtime/executor.cc:1197] [/device:CPU:0] (DEBUG INFO) Executor start aborting (this does not indicate an error and you can ignore this message): INVALID_ARGUMENT: You must feed a value for placeholder tensor 'gradients/split_1_grad/concat/split_1/split_dim' with dtype int32\n",
            "\t [[{{node gradients/split_1_grad/concat/split_1/split_dim}}]]\n",
            "2023-05-07 18:43:46.916397: I tensorflow/core/common_runtime/executor.cc:1197] [/device:CPU:0] (DEBUG INFO) Executor start aborting (this does not indicate an error and you can ignore this message): INVALID_ARGUMENT: You must feed a value for placeholder tensor 'gradients/ReverseV2_grad/ReverseV2/ReverseV2/axis' with dtype int32 and shape [1]\n",
            "\t [[{{node gradients/ReverseV2_grad/ReverseV2/ReverseV2/axis}}]]\n",
            "2023-05-07 18:43:46.981717: I tensorflow/core/common_runtime/executor.cc:1197] [/device:CPU:0] (DEBUG INFO) Executor start aborting (this does not indicate an error and you can ignore this message): INVALID_ARGUMENT: You must feed a value for placeholder tensor 'gradients/split_2_grad/concat/split_2/split_dim' with dtype int32\n",
            "\t [[{{node gradients/split_2_grad/concat/split_2/split_dim}}]]\n",
            "2023-05-07 18:43:46.983244: I tensorflow/core/common_runtime/executor.cc:1197] [/device:CPU:0] (DEBUG INFO) Executor start aborting (this does not indicate an error and you can ignore this message): INVALID_ARGUMENT: You must feed a value for placeholder tensor 'gradients/split_grad/concat/split/split_dim' with dtype int32\n",
            "\t [[{{node gradients/split_grad/concat/split/split_dim}}]]\n",
            "2023-05-07 18:43:46.984633: I tensorflow/core/common_runtime/executor.cc:1197] [/device:CPU:0] (DEBUG INFO) Executor start aborting (this does not indicate an error and you can ignore this message): INVALID_ARGUMENT: You must feed a value for placeholder tensor 'gradients/split_1_grad/concat/split_1/split_dim' with dtype int32\n",
            "\t [[{{node gradients/split_1_grad/concat/split_1/split_dim}}]]\n",
            "2023-05-07 18:43:47.657462: I tensorflow/core/common_runtime/executor.cc:1197] [/device:CPU:0] (DEBUG INFO) Executor start aborting (this does not indicate an error and you can ignore this message): INVALID_ARGUMENT: You must feed a value for placeholder tensor 'gradients/split_2_grad/concat/split_2/split_dim' with dtype int32\n",
            "\t [[{{node gradients/split_2_grad/concat/split_2/split_dim}}]]\n",
            "2023-05-07 18:43:47.659595: I tensorflow/core/common_runtime/executor.cc:1197] [/device:CPU:0] (DEBUG INFO) Executor start aborting (this does not indicate an error and you can ignore this message): INVALID_ARGUMENT: You must feed a value for placeholder tensor 'gradients/split_grad/concat/split/split_dim' with dtype int32\n",
            "\t [[{{node gradients/split_grad/concat/split/split_dim}}]]\n",
            "2023-05-07 18:43:47.661502: I tensorflow/core/common_runtime/executor.cc:1197] [/device:CPU:0] (DEBUG INFO) Executor start aborting (this does not indicate an error and you can ignore this message): INVALID_ARGUMENT: You must feed a value for placeholder tensor 'gradients/split_1_grad/concat/split_1/split_dim' with dtype int32\n",
            "\t [[{{node gradients/split_1_grad/concat/split_1/split_dim}}]]\n",
            "2023-05-07 18:43:47.919500: I tensorflow/core/common_runtime/executor.cc:1197] [/device:CPU:0] (DEBUG INFO) Executor start aborting (this does not indicate an error and you can ignore this message): INVALID_ARGUMENT: You must feed a value for placeholder tensor 'gradients/ReverseV2_grad/ReverseV2/ReverseV2/axis' with dtype int32 and shape [1]\n",
            "\t [[{{node gradients/ReverseV2_grad/ReverseV2/ReverseV2/axis}}]]\n",
            "2023-05-07 18:43:48.012691: I tensorflow/core/common_runtime/executor.cc:1197] [/device:CPU:0] (DEBUG INFO) Executor start aborting (this does not indicate an error and you can ignore this message): INVALID_ARGUMENT: You must feed a value for placeholder tensor 'gradients/split_2_grad/concat/split_2/split_dim' with dtype int32\n",
            "\t [[{{node gradients/split_2_grad/concat/split_2/split_dim}}]]\n",
            "2023-05-07 18:43:48.014722: I tensorflow/core/common_runtime/executor.cc:1197] [/device:CPU:0] (DEBUG INFO) Executor start aborting (this does not indicate an error and you can ignore this message): INVALID_ARGUMENT: You must feed a value for placeholder tensor 'gradients/split_grad/concat/split/split_dim' with dtype int32\n",
            "\t [[{{node gradients/split_grad/concat/split/split_dim}}]]\n",
            "2023-05-07 18:43:48.016593: I tensorflow/core/common_runtime/executor.cc:1197] [/device:CPU:0] (DEBUG INFO) Executor start aborting (this does not indicate an error and you can ignore this message): INVALID_ARGUMENT: You must feed a value for placeholder tensor 'gradients/split_1_grad/concat/split_1/split_dim' with dtype int32\n",
            "\t [[{{node gradients/split_1_grad/concat/split_1/split_dim}}]]\n",
            "1/1 [==============================] - 1s 1s/step\n",
            "prediction is [0.9247552  0.08097347]\n",
            "[array([0.9247552 , 0.08097347], dtype=float32)]\n",
            "start: 2023-05-07-18:43:46\n",
            "end: 2023-05-07-18:43:48\n"
          ]
        }
      ]
    },
    {
      "cell_type": "code",
      "source": [
        "! python ./predict_pos.py"
      ],
      "metadata": {
        "colab": {
          "base_uri": "https://localhost:8080/"
        },
        "id": "XSEA0HsWhtf5",
        "outputId": "49630eb9-5c6d-49c9-fa20-3edde70dbedb"
      },
      "execution_count": null,
      "outputs": [
        {
          "output_type": "stream",
          "name": "stdout",
          "text": [
            "2023-05-07 18:53:55.347443: I tensorflow/core/platform/cpu_feature_guard.cc:182] This TensorFlow binary is optimized to use available CPU instructions in performance-critical operations.\n",
            "To enable the following instructions: AVX2 FMA, in other operations, rebuild TensorFlow with the appropriate compiler flags.\n",
            "2023-05-07 18:53:57.063321: W tensorflow/compiler/tf2tensorrt/utils/py_utils.cc:38] TF-TRT Warning: Could not find TensorRT\n",
            "2023-05-07 18:53:59.514782: I tensorflow/core/common_runtime/executor.cc:1197] [/device:CPU:0] (DEBUG INFO) Executor start aborting (this does not indicate an error and you can ignore this message): INVALID_ARGUMENT: You must feed a value for placeholder tensor 'gradients/split_2_grad/concat/split_2/split_dim' with dtype int32\n",
            "\t [[{{node gradients/split_2_grad/concat/split_2/split_dim}}]]\n",
            "2023-05-07 18:53:59.516297: I tensorflow/core/common_runtime/executor.cc:1197] [/device:CPU:0] (DEBUG INFO) Executor start aborting (this does not indicate an error and you can ignore this message): INVALID_ARGUMENT: You must feed a value for placeholder tensor 'gradients/split_grad/concat/split/split_dim' with dtype int32\n",
            "\t [[{{node gradients/split_grad/concat/split/split_dim}}]]\n",
            "2023-05-07 18:53:59.517688: I tensorflow/core/common_runtime/executor.cc:1197] [/device:CPU:0] (DEBUG INFO) Executor start aborting (this does not indicate an error and you can ignore this message): INVALID_ARGUMENT: You must feed a value for placeholder tensor 'gradients/split_1_grad/concat/split_1/split_dim' with dtype int32\n",
            "\t [[{{node gradients/split_1_grad/concat/split_1/split_dim}}]]\n",
            "2023-05-07 18:53:59.696277: I tensorflow/core/common_runtime/executor.cc:1197] [/device:CPU:0] (DEBUG INFO) Executor start aborting (this does not indicate an error and you can ignore this message): INVALID_ARGUMENT: You must feed a value for placeholder tensor 'gradients/ReverseV2_grad/ReverseV2/ReverseV2/axis' with dtype int32 and shape [1]\n",
            "\t [[{{node gradients/ReverseV2_grad/ReverseV2/ReverseV2/axis}}]]\n",
            "2023-05-07 18:53:59.758304: I tensorflow/core/common_runtime/executor.cc:1197] [/device:CPU:0] (DEBUG INFO) Executor start aborting (this does not indicate an error and you can ignore this message): INVALID_ARGUMENT: You must feed a value for placeholder tensor 'gradients/split_2_grad/concat/split_2/split_dim' with dtype int32\n",
            "\t [[{{node gradients/split_2_grad/concat/split_2/split_dim}}]]\n",
            "2023-05-07 18:53:59.759797: I tensorflow/core/common_runtime/executor.cc:1197] [/device:CPU:0] (DEBUG INFO) Executor start aborting (this does not indicate an error and you can ignore this message): INVALID_ARGUMENT: You must feed a value for placeholder tensor 'gradients/split_grad/concat/split/split_dim' with dtype int32\n",
            "\t [[{{node gradients/split_grad/concat/split/split_dim}}]]\n",
            "2023-05-07 18:53:59.761223: I tensorflow/core/common_runtime/executor.cc:1197] [/device:CPU:0] (DEBUG INFO) Executor start aborting (this does not indicate an error and you can ignore this message): INVALID_ARGUMENT: You must feed a value for placeholder tensor 'gradients/split_1_grad/concat/split_1/split_dim' with dtype int32\n",
            "\t [[{{node gradients/split_1_grad/concat/split_1/split_dim}}]]\n",
            "2023-05-07 18:54:00.336649: I tensorflow/core/common_runtime/executor.cc:1197] [/device:CPU:0] (DEBUG INFO) Executor start aborting (this does not indicate an error and you can ignore this message): INVALID_ARGUMENT: You must feed a value for placeholder tensor 'gradients/split_2_grad/concat/split_2/split_dim' with dtype int32\n",
            "\t [[{{node gradients/split_2_grad/concat/split_2/split_dim}}]]\n",
            "2023-05-07 18:54:00.338329: I tensorflow/core/common_runtime/executor.cc:1197] [/device:CPU:0] (DEBUG INFO) Executor start aborting (this does not indicate an error and you can ignore this message): INVALID_ARGUMENT: You must feed a value for placeholder tensor 'gradients/split_grad/concat/split/split_dim' with dtype int32\n",
            "\t [[{{node gradients/split_grad/concat/split/split_dim}}]]\n",
            "2023-05-07 18:54:00.339784: I tensorflow/core/common_runtime/executor.cc:1197] [/device:CPU:0] (DEBUG INFO) Executor start aborting (this does not indicate an error and you can ignore this message): INVALID_ARGUMENT: You must feed a value for placeholder tensor 'gradients/split_1_grad/concat/split_1/split_dim' with dtype int32\n",
            "\t [[{{node gradients/split_1_grad/concat/split_1/split_dim}}]]\n",
            "2023-05-07 18:54:00.522275: I tensorflow/core/common_runtime/executor.cc:1197] [/device:CPU:0] (DEBUG INFO) Executor start aborting (this does not indicate an error and you can ignore this message): INVALID_ARGUMENT: You must feed a value for placeholder tensor 'gradients/ReverseV2_grad/ReverseV2/ReverseV2/axis' with dtype int32 and shape [1]\n",
            "\t [[{{node gradients/ReverseV2_grad/ReverseV2/ReverseV2/axis}}]]\n",
            "2023-05-07 18:54:00.584893: I tensorflow/core/common_runtime/executor.cc:1197] [/device:CPU:0] (DEBUG INFO) Executor start aborting (this does not indicate an error and you can ignore this message): INVALID_ARGUMENT: You must feed a value for placeholder tensor 'gradients/split_2_grad/concat/split_2/split_dim' with dtype int32\n",
            "\t [[{{node gradients/split_2_grad/concat/split_2/split_dim}}]]\n",
            "2023-05-07 18:54:00.586403: I tensorflow/core/common_runtime/executor.cc:1197] [/device:CPU:0] (DEBUG INFO) Executor start aborting (this does not indicate an error and you can ignore this message): INVALID_ARGUMENT: You must feed a value for placeholder tensor 'gradients/split_grad/concat/split/split_dim' with dtype int32\n",
            "\t [[{{node gradients/split_grad/concat/split/split_dim}}]]\n",
            "2023-05-07 18:54:00.587804: I tensorflow/core/common_runtime/executor.cc:1197] [/device:CPU:0] (DEBUG INFO) Executor start aborting (this does not indicate an error and you can ignore this message): INVALID_ARGUMENT: You must feed a value for placeholder tensor 'gradients/split_1_grad/concat/split_1/split_dim' with dtype int32\n",
            "\t [[{{node gradients/split_1_grad/concat/split_1/split_dim}}]]\n",
            "1/1 [==============================] - 1s 870ms/step\n",
            "prediction is [0.9247552  0.08097347]\n",
            "[array([0.9247552 , 0.08097347], dtype=float32)]\n",
            "start: 2023-05-07-18:53:59\n",
            "end: 2023-05-07-18:54:00\n"
          ]
        }
      ]
    },
    {
      "cell_type": "code",
      "source": [
        "!python ./predict_emp.py"
      ],
      "metadata": {
        "colab": {
          "base_uri": "https://localhost:8080/"
        },
        "id": "CX3b12DRkC_A",
        "outputId": "ea3dd5e7-9001-4133-dee7-1a371ef6ca35"
      },
      "execution_count": null,
      "outputs": [
        {
          "output_type": "stream",
          "name": "stdout",
          "text": [
            "2023-05-07 18:54:29.355378: I tensorflow/core/platform/cpu_feature_guard.cc:182] This TensorFlow binary is optimized to use available CPU instructions in performance-critical operations.\n",
            "To enable the following instructions: AVX2 FMA, in other operations, rebuild TensorFlow with the appropriate compiler flags.\n",
            "2023-05-07 18:54:30.507752: W tensorflow/compiler/tf2tensorrt/utils/py_utils.cc:38] TF-TRT Warning: Could not find TensorRT\n",
            "2023-05-07 18:54:33.076475: I tensorflow/core/common_runtime/executor.cc:1197] [/device:CPU:0] (DEBUG INFO) Executor start aborting (this does not indicate an error and you can ignore this message): INVALID_ARGUMENT: You must feed a value for placeholder tensor 'gradients/split_2_grad/concat/split_2/split_dim' with dtype int32\n",
            "\t [[{{node gradients/split_2_grad/concat/split_2/split_dim}}]]\n",
            "2023-05-07 18:54:33.078515: I tensorflow/core/common_runtime/executor.cc:1197] [/device:CPU:0] (DEBUG INFO) Executor start aborting (this does not indicate an error and you can ignore this message): INVALID_ARGUMENT: You must feed a value for placeholder tensor 'gradients/split_grad/concat/split/split_dim' with dtype int32\n",
            "\t [[{{node gradients/split_grad/concat/split/split_dim}}]]\n",
            "2023-05-07 18:54:33.080413: I tensorflow/core/common_runtime/executor.cc:1197] [/device:CPU:0] (DEBUG INFO) Executor start aborting (this does not indicate an error and you can ignore this message): INVALID_ARGUMENT: You must feed a value for placeholder tensor 'gradients/split_1_grad/concat/split_1/split_dim' with dtype int32\n",
            "\t [[{{node gradients/split_1_grad/concat/split_1/split_dim}}]]\n",
            "2023-05-07 18:54:33.351785: I tensorflow/core/common_runtime/executor.cc:1197] [/device:CPU:0] (DEBUG INFO) Executor start aborting (this does not indicate an error and you can ignore this message): INVALID_ARGUMENT: You must feed a value for placeholder tensor 'gradients/ReverseV2_grad/ReverseV2/ReverseV2/axis' with dtype int32 and shape [1]\n",
            "\t [[{{node gradients/ReverseV2_grad/ReverseV2/ReverseV2/axis}}]]\n",
            "2023-05-07 18:54:33.447467: I tensorflow/core/common_runtime/executor.cc:1197] [/device:CPU:0] (DEBUG INFO) Executor start aborting (this does not indicate an error and you can ignore this message): INVALID_ARGUMENT: You must feed a value for placeholder tensor 'gradients/split_2_grad/concat/split_2/split_dim' with dtype int32\n",
            "\t [[{{node gradients/split_2_grad/concat/split_2/split_dim}}]]\n",
            "2023-05-07 18:54:33.449827: I tensorflow/core/common_runtime/executor.cc:1197] [/device:CPU:0] (DEBUG INFO) Executor start aborting (this does not indicate an error and you can ignore this message): INVALID_ARGUMENT: You must feed a value for placeholder tensor 'gradients/split_grad/concat/split/split_dim' with dtype int32\n",
            "\t [[{{node gradients/split_grad/concat/split/split_dim}}]]\n",
            "2023-05-07 18:54:33.451978: I tensorflow/core/common_runtime/executor.cc:1197] [/device:CPU:0] (DEBUG INFO) Executor start aborting (this does not indicate an error and you can ignore this message): INVALID_ARGUMENT: You must feed a value for placeholder tensor 'gradients/split_1_grad/concat/split_1/split_dim' with dtype int32\n",
            "\t [[{{node gradients/split_1_grad/concat/split_1/split_dim}}]]\n",
            "2023-05-07 18:54:34.257573: I tensorflow/core/common_runtime/executor.cc:1197] [/device:CPU:0] (DEBUG INFO) Executor start aborting (this does not indicate an error and you can ignore this message): INVALID_ARGUMENT: You must feed a value for placeholder tensor 'gradients/split_2_grad/concat/split_2/split_dim' with dtype int32\n",
            "\t [[{{node gradients/split_2_grad/concat/split_2/split_dim}}]]\n",
            "2023-05-07 18:54:34.259721: I tensorflow/core/common_runtime/executor.cc:1197] [/device:CPU:0] (DEBUG INFO) Executor start aborting (this does not indicate an error and you can ignore this message): INVALID_ARGUMENT: You must feed a value for placeholder tensor 'gradients/split_grad/concat/split/split_dim' with dtype int32\n",
            "\t [[{{node gradients/split_grad/concat/split/split_dim}}]]\n",
            "2023-05-07 18:54:34.261644: I tensorflow/core/common_runtime/executor.cc:1197] [/device:CPU:0] (DEBUG INFO) Executor start aborting (this does not indicate an error and you can ignore this message): INVALID_ARGUMENT: You must feed a value for placeholder tensor 'gradients/split_1_grad/concat/split_1/split_dim' with dtype int32\n",
            "\t [[{{node gradients/split_1_grad/concat/split_1/split_dim}}]]\n",
            "2023-05-07 18:54:34.507963: I tensorflow/core/common_runtime/executor.cc:1197] [/device:CPU:0] (DEBUG INFO) Executor start aborting (this does not indicate an error and you can ignore this message): INVALID_ARGUMENT: You must feed a value for placeholder tensor 'gradients/ReverseV2_grad/ReverseV2/ReverseV2/axis' with dtype int32 and shape [1]\n",
            "\t [[{{node gradients/ReverseV2_grad/ReverseV2/ReverseV2/axis}}]]\n",
            "2023-05-07 18:54:34.576021: I tensorflow/core/common_runtime/executor.cc:1197] [/device:CPU:0] (DEBUG INFO) Executor start aborting (this does not indicate an error and you can ignore this message): INVALID_ARGUMENT: You must feed a value for placeholder tensor 'gradients/split_2_grad/concat/split_2/split_dim' with dtype int32\n",
            "\t [[{{node gradients/split_2_grad/concat/split_2/split_dim}}]]\n",
            "2023-05-07 18:54:34.577561: I tensorflow/core/common_runtime/executor.cc:1197] [/device:CPU:0] (DEBUG INFO) Executor start aborting (this does not indicate an error and you can ignore this message): INVALID_ARGUMENT: You must feed a value for placeholder tensor 'gradients/split_grad/concat/split/split_dim' with dtype int32\n",
            "\t [[{{node gradients/split_grad/concat/split/split_dim}}]]\n",
            "2023-05-07 18:54:34.578996: I tensorflow/core/common_runtime/executor.cc:1197] [/device:CPU:0] (DEBUG INFO) Executor start aborting (this does not indicate an error and you can ignore this message): INVALID_ARGUMENT: You must feed a value for placeholder tensor 'gradients/split_1_grad/concat/split_1/split_dim' with dtype int32\n",
            "\t [[{{node gradients/split_1_grad/concat/split_1/split_dim}}]]\n",
            "1/1 [==============================] - 1s 1s/step\n",
            "prediction is  [[0.5965798  0.40721047]]\n",
            "[]\n",
            "start: 2023-05-07-18:54:32\n",
            "end: 2023-05-07-18:54:34\n"
          ]
        }
      ]
    },
    {
      "cell_type": "code",
      "source": [
        "!cat ./predict_pos.py"
      ],
      "metadata": {
        "colab": {
          "base_uri": "https://localhost:8080/"
        },
        "id": "t29jsnDckLUD",
        "outputId": "e2ebf62d-d1dc-40cf-e5a8-03a616ba3caf"
      },
      "execution_count": null,
      "outputs": [
        {
          "output_type": "stream",
          "name": "stdout",
          "text": [
            "# _*_ coding:utf-8 _*_\n",
            "from encode_schema import read_seq_onehot,get_seq_concolutional_array\n",
            "from keras.models import load_model\n",
            "import numpy as np\n",
            "from datetime import datetime\n",
            "\n",
            "class Pred():\n",
            "    def __init__(self,model_path='./model_save/model_'):\n",
            "        self.item_model_path = model_path + str(0) + '.hdf5'\n",
            "        #self.model = load_model(item_model_path)\n",
            "\n",
            "    def sample_predict(self,string,str_len=600):\n",
            "        # make sure the input sequnce less than 850, otherwise drop string when length excell 850\n",
            "        if len(string)>=str_len:\n",
            "            string=string[:str_len]\n",
            "        else:\n",
            "            string=string+'Z'*(str_len-len(string))\n",
            "        #print('len: ',str_len)\n",
            "        assert len(string)==str_len\n",
            "\n",
            "        #向量化\n",
            "        #print(get_seq_concolutional_array(string)[:5,:])\n",
            "        string_vector=get_seq_concolutional_array(string)\n",
            "        string_vector=np.expand_dims(string_vector,0)\n",
            "\n",
            "        #load model and predict\n",
            "        result=[]\n",
            "        self.model = load_model(self.item_model_path)\n",
            "        predict=self.model.predict(string_vector)[0]\n",
            "        print('prediction is {}'.format(predict))\n",
            "        result.append(predict)\n",
            "        print(result)\n",
            "\n",
            "        return result\n",
            "\n",
            "if __name__=='__main__':\n",
            "    Pr=Pred()\n",
            "    start = datetime.now().strftime('%Y-%m-%d-%H:%M:%S')\n",
            "    #Q5L8C0 and Q9K4Q3\n",
            "    neg = 'MSKLHIKKGDTVYVNAGEDKGKTGRVLKVLVKEGRAIVEGINMVSKSTKPNAKNPQGGIVKQEAPIHISNLNPVDPKTGKATRVGRKVSSEGTLVRYSKKSGEEIK'\n",
            "    pos = 'MTKADIIEGVYEKVGFSKKESAEIVELVFDTLKETLERGDKIKISGFGNFQVRQKKARVGRNPQTGKEIEISARRVLTFRPSQVLKSALNGEAPPEDHAEIDAREEAAADAAEARGEDFDEEGMEDMEG'\n",
            "    Pr.sample_predict(string=pos)\n",
            "    end = datetime.now().strftime('%Y-%m-%d-%H:%M:%S')\n",
            "    print('start: %s' % start)\n",
            "    print('end: %s' % end)\n",
            "    pass\n"
          ]
        }
      ]
    },
    {
      "cell_type": "code",
      "source": [
        "!cat /content/PDBP-Fusion/PDBP_CNN_Onehot_Eva_PDB14189_ok.py"
      ],
      "metadata": {
        "colab": {
          "base_uri": "https://localhost:8080/"
        },
        "id": "jTMc8iEEkXbm",
        "outputId": "2d3a9603-b2cb-4523-b97a-5c77dca4e80d"
      },
      "execution_count": null,
      "outputs": [
        {
          "output_type": "stream",
          "name": "stdout",
          "text": [
            "# -*- coding: utf-8 -*-\n",
            "import os\n",
            "from keras.callbacks import ReduceLROnPlateau, EarlyStopping\n",
            "from keras import layers, models\n",
            "from sklearn.model_selection import StratifiedKFold\n",
            "from sklearn.metrics import roc_auc_score, average_precision_score\n",
            "from keras.layers.normalization import BatchNormalization\n",
            "from keras.layers.core import Dense, Dropout, Flatten,Activation\n",
            "from keras.layers.convolutional import Convolution1D, MaxPooling1D, SeparableConv1D\n",
            "from keras.layers import LSTM, Bidirectional,Dense,Embedding,Input,concatenate\n",
            "from keras.models import Sequential\n",
            "from keras.preprocessing import sequence\n",
            "from keras.preprocessing.text import one_hot\n",
            "import numpy as np\n",
            "import utils.tools as utils\n",
            "import encode_schema as tool\n",
            "import cnn_models as cnnmodel\n",
            "from datetime import datetime\n",
            "\n",
            "\n",
            "# ================gpu动态占用====================#\n",
            "import tensorflow as tf\n",
            "from keras.backend.tensorflow_backend import set_session\n",
            "config = tf.compat.v1.ConfigProto()\n",
            "# A \"Best-fit with coalescing\" algorithm, simplified from\n",
            "#   a version of dlmalloc.\n",
            "config.gpu_options.allocator_type = 'BFC'\n",
            "config.gpu_options.per_process_gpu_memory_fraction = 0.5\n",
            "config.gpu_options.allow_growth = True\n",
            "set_session(tf.compat.v1.Session(config=config))\n",
            "# =================gpu动态占用====================#\n",
            "\n",
            "\n",
            "def get_CNN_model(number=4,conv_width=7):   \n",
            "    # 构建网络\n",
            "    inputs = layers.Input(shape=(800, 20), name=\"input\")\n",
            "\n",
            "    for index in range(number):\n",
            "        if index==0:\n",
            "            x = Convolution1D(64,\n",
            "                      conv_width,\n",
            "                      strides=1,\n",
            "                      padding='same',\n",
            "                      kernel_initializer='random_uniform',\n",
            "                      activation=\"relu\",\n",
            "                      name=\"conv1d_1\"+str(index))(inputs)\n",
            "        else:\n",
            "            x = Convolution1D(64,\n",
            "                      conv_width,\n",
            "                      strides=1,\n",
            "                      padding='same',\n",
            "                      kernel_initializer='random_uniform',\n",
            "                      activation=\"relu\",\n",
            "                      name=\"conv1d_1\"+str(index))(x)\n",
            "        x = layers.MaxPooling1D(pool_size=2, name=\"max_pooling1d_1\"+str(index))(x)\n",
            "        # x = layers.BatchNormalization()(x)\n",
            "        x = layers.Dropout(0.2, name=\"dropout_1\"+str(index))(x)\n",
            "\n",
            "    x = layers.Flatten(name=\"flatten_6\")(x)\n",
            "    x = layers.Dense(128, activation='relu', name=\"dense_11\")(x)\n",
            "    x = layers.BatchNormalization()(x)\n",
            "    x = layers.Dropout(0.2, name=\"dropout_3\")(x)\n",
            "    x = layers.Dense(2, activation='softmax', name=\"dense_12\")(x)\n",
            "\n",
            "    model = models.Model(inputs, x, name='DBP_CNN_model')\n",
            "    return model\n",
            "\n",
            "if __name__ == \"__main__\":\n",
            "    path = \"result/DNA/\"\n",
            "    if not os.path.exists(path):\n",
            "        os.makedirs(path)\n",
            "\n",
            "\n",
            "    model_array = [2,3,4]\n",
            "    filters = 64\n",
            "    conv_width = [7,8,9]\n",
            "    conv_stride = 1\n",
            "    max_polling_width1= 3\n",
            "    max_polling_width2= 2\n",
            "    lstm_size = 32\n",
            "    dense_size1 = 128\n",
            "    dense_size2 = 2\n",
            "    drop_out = [0.2,0.3]\n",
            "    uselstm=[0,1]\n",
            "    batchsiz=[64,32]\n",
            "    # for model_layers in model_array[:-1]:\n",
            "    for batch_s in batchsiz[:-1]:\n",
            "        for model_layers in model_array[:-1]:\n",
            "            for use_blstm in uselstm[:-1]:\n",
            "                start = datetime.now().strftime('%Y-%m-%d-%H:%M:%S')\n",
            "                fw_perf = open(path + 'PDB14189_CNN_' +str(model_layers)+ '_['+str(7)+']'+start, 'w')\n",
            "                fw_perf.writelines('model_layers'+str(model_layers)+ '\\n')\n",
            "                fw_perf.writelines('conv_width'+str(7)+ '\\n')\n",
            "                fw_perf.writelines('uselsem'+str(use_blstm)+ '\\n')\n",
            "                fw_perf.writelines('batch_s'+str(batch_s)+ '\\n')\n",
            "                fw_perf.writelines('----------------------------------------------------------------------------------------------------------------------------------------------------------------------------'+ '\\n')\n",
            "                fw_perf.write('          acc,           precision,              npv,          sensitivity,      specificity,          mcc,                 ppv,             auc,                pr' + '\\n')\n",
            "                fw_perf.writelines('----------------------------------------------------------------------------------------------------------------------------------------------------------------------------'+ '\\n')\n",
            "\n",
            "                scores = []\n",
            "                k_fold = 5\n",
            "                for index in range(5):\n",
            "                    dataset = []\n",
            "                    dataset = tool.read_seq_onehot(\"data/DNA_Pading_800_PDB14189\")\n",
            "                    # print(dataset.shape[0])\n",
            "                    label = np.loadtxt(\"data/class_PDB14189\")\n",
            "                    # print(label.shape())\n",
            "                    skf = StratifiedKFold(n_splits=k_fold, shuffle=True, random_state=1024)\n",
            "                    for ((train_index, test_index), k) in zip(skf.split(dataset, label),\n",
            "                                                range(k_fold)):\n",
            "\n",
            "                        X_train, X_test = dataset[train_index], dataset[test_index]\n",
            "                        y_train, y_test = label[train_index], label[test_index]\n",
            "\n",
            "                        \n",
            "                        # create the model\n",
            "                        model = get_CNN_model(number=model_layers,conv_width=7)\n",
            "\n",
            "                        # 指定回调函数\n",
            "                        reduce_lr = ReduceLROnPlateau(monitor='val_loss',\n",
            "                                                    factor=0.1,\n",
            "                                                    patience=3,\n",
            "                                                    verbose=1)\n",
            "                        early_stopping = EarlyStopping(monitor='val_loss',\n",
            "                                                    min_delta=0,\n",
            "                                                    patience=5,\n",
            "                                                    verbose=1)\n",
            "\n",
            "                        print(model.summary())\n",
            "                        model.compile(loss='binary_crossentropy',\n",
            "                                    optimizer='adam',\n",
            "                                    metrics=['accuracy'])\n",
            "                        y_train = utils.to_categorical(y_train)\n",
            "\n",
            "                        model.fit(X_train,\n",
            "                                y_train,\n",
            "                                validation_split=0.1,\n",
            "                                batch_size=batch_s,\n",
            "                                epochs=50,\n",
            "                                verbose=1,\n",
            "                                callbacks=[reduce_lr, early_stopping])\n",
            "\n",
            "                        # prediction probability\n",
            "                        predictions = model.predict(X_test)\n",
            "                        predictions_prob = predictions[:, 1]\n",
            "   \n",
            "                        y_test = utils.to_categorical(y_test)\n",
            "                        y_class = utils.categorical_probas_to_classes(predictions)\n",
            "                        true_y = utils.categorical_probas_to_classes(y_test)\n",
            "\n",
            "\n",
            "                        auc_ = roc_auc_score(true_y, predictions_prob)\n",
            "                        pr = average_precision_score(true_y, predictions_prob)\n",
            "\n",
            "                        (\n",
            "                            acc,\n",
            "                            precision,\n",
            "                            npv,\n",
            "                            sensitivity,\n",
            "                            specificity,\n",
            "                            mcc,\n",
            "                            f1\n",
            "                        ) = utils.calculate_performace(len(y_class), y_class, true_y)\n",
            "                        print(\"======================\")\n",
            "\n",
            "                        print(str(k + 1) + \" of \" + str(k_fold) +\n",
            "                            \"cv:\")\n",
            "                        print(\n",
            "                            '\\tacc=%0.4f,pre=%0.4f,npv=%0.4f,sn=%0.4f,sp=%0.4f,mcc=%0.4f,f1=%0.4f'\n",
            "                            % (acc, precision, npv, sensitivity, specificity, mcc, f1))\n",
            "                        print('\\tauc=%0.4f,pr=%0.4f' % (auc_, pr))\n",
            "\n",
            "                        fw_perf.write(\n",
            "                            str(acc) + ',' + str(precision) + ',' + str(npv) + ',' +\n",
            "                            str(sensitivity) + ',' + str(specificity) + ',' + str(mcc) +\n",
            "                            ',' + str(f1) + ',' + str(auc_) + ',' + str(pr) + '\\n')\n",
            "\n",
            "                        scores.append([\n",
            "                            acc, precision, npv, sensitivity, specificity, mcc, f1, auc_,\n",
            "                            pr\n",
            "                        ])\n",
            "\n",
            "                scores = np.array(scores)\n",
            "                print(len(scores))\n",
            "                print(\"acc=%.2f%% (+/- %.2f%%)\" %\n",
            "                    (np.mean(scores, axis=0)[0] * 100, np.std(scores, axis=0)[0] * 100))\n",
            "                print(\"precision=%.2f%% (+/- %.2f%%)\" %\n",
            "                    (np.mean(scores, axis=0)[1] * 100, np.std(scores, axis=0)[1] * 100))\n",
            "                print(\"npv=%.2f%% (+/- %.2f%%)\" %\n",
            "                    (np.mean(scores, axis=0)[2] * 100, np.std(scores, axis=0)[2] * 100))\n",
            "                print(\"sensitivity=%.2f%% (+/- %.2f%%)\" %\n",
            "                    (np.mean(scores, axis=0)[3] * 100, np.std(scores, axis=0)[3] * 100))\n",
            "                print(\"specificity=%.2f%% (+/- %.2f%%)\" %\n",
            "                    (np.mean(scores, axis=0)[4] * 100, np.std(scores, axis=0)[4] * 100))\n",
            "                print(\"mcc=%.2f%% (+/- %.2f%%)\" %\n",
            "                    (np.mean(scores, axis=0)[5] * 100, np.std(scores, axis=0)[5] * 100))\n",
            "                print(\"f1=%.2f%% (+/- %.2f%%)\" %\n",
            "                    (np.mean(scores, axis=0)[6] * 100, np.std(scores, axis=0)[6] * 100))\n",
            "                print(\"roc_auc=%.2f%% (+/- %.2f%%)\" %\n",
            "                    (np.mean(scores, axis=0)[7] * 100, np.std(scores, axis=0)[7] * 100))\n",
            "                print(\"roc_pr=%.2f%% (+/- %.2f%%)\" %\n",
            "                    (np.mean(scores, axis=0)[8] * 100, np.std(scores, axis=0)[8] * 100))\n",
            "\n",
            "                end = datetime.now().strftime('%Y-%m-%d-%H:%M:%S')\n",
            "                print('start: %s' % start)\n",
            "                print('end: %s' % end)\n",
            "\n",
            "                fw_perf.write(\n",
            "                    \"acc=%.2f%% (+/- %.2f%%)\" %\n",
            "                    (np.mean(scores, axis=0)[0] * 100, np.std(scores, axis=0)[0] * 100) +\n",
            "                    '\\n')\n",
            "                fw_perf.write(\n",
            "                    \"precision=%.2f%% (+/- %.2f%%)\" %\n",
            "                    (np.mean(scores, axis=0)[1] * 100, np.std(scores, axis=0)[1] * 100) +\n",
            "                    '\\n')\n",
            "                fw_perf.write(\n",
            "                    \"npv=%.2f%% (+/- %.2f%%)\" %\n",
            "                    (np.mean(scores, axis=0)[2] * 100, np.std(scores, axis=0)[2] * 100) +\n",
            "                    '\\n')\n",
            "                fw_perf.write(\n",
            "                    \"sensitivity=%.2f%% (+/- %.2f%%)\" %\n",
            "                    (np.mean(scores, axis=0)[3] * 100, np.std(scores, axis=0)[3] * 100) +\n",
            "                    '\\n')\n",
            "                fw_perf.write(\n",
            "                    \"specificity=%.2f%% (+/- %.2f%%)\" %\n",
            "                    (np.mean(scores, axis=0)[4] * 100, np.std(scores, axis=0)[4] * 100) +\n",
            "                    '\\n')\n",
            "                fw_perf.write(\n",
            "                    \"mcc=%.2f%% (+/- %.2f%%)\" %\n",
            "                    (np.mean(scores, axis=0)[5] * 100, np.std(scores, axis=0)[5] * 100) +\n",
            "                    '\\n')\n",
            "                fw_perf.write(\n",
            "                    \"f1=%.2f%% (+/- %.2f%%)\" %\n",
            "                    (np.mean(scores, axis=0)[6] * 100, np.std(scores, axis=0)[6] * 100) +\n",
            "                    '\\n')\n",
            "                fw_perf.write(\n",
            "                    \"roc_auc=%.2f%% (+/- %.2f%%)\" %\n",
            "                    (np.mean(scores, axis=0)[7] * 100, np.std(scores, axis=0)[7] * 100) +\n",
            "                    '\\n')\n",
            "                fw_perf.write(\n",
            "                    \"roc_pr=%.2f%% (+/- %.2f%%)\" %\n",
            "                    (np.mean(scores, axis=0)[8] * 100, np.std(scores, axis=0)[8] * 100) +\n",
            "                    '\\n')\n",
            "                fw_perf.write('start: %s' % start + '\\n')\n",
            "                fw_perf.write('end: %s' % end)\n",
            "\n",
            "                fw_perf.close()\n"
          ]
        }
      ]
    },
    {
      "cell_type": "code",
      "source": [
        "! python /content/PDBP-Fusion/PDBP_CNN_Onehot_Eva_PDB14189_ok.py"
      ],
      "metadata": {
        "colab": {
          "base_uri": "https://localhost:8080/"
        },
        "id": "nwsHjXg07JEa",
        "outputId": "9ac22cc6-7861-4e42-dc22-82cf265f3468"
      },
      "execution_count": null,
      "outputs": [
        {
          "output_type": "stream",
          "name": "stdout",
          "text": [
            "2023-05-07 20:38:18.235302: I tensorflow/core/platform/cpu_feature_guard.cc:182] This TensorFlow binary is optimized to use available CPU instructions in performance-critical operations.\n",
            "To enable the following instructions: AVX2 FMA, in other operations, rebuild TensorFlow with the appropriate compiler flags.\n",
            "2023-05-07 20:38:19.860382: W tensorflow/compiler/tf2tensorrt/utils/py_utils.cc:38] TF-TRT Warning: Could not find TensorRT\n",
            "Traceback (most recent call last):\n",
            "  File \"/content/PDBP-Fusion/PDBP_CNN_Onehot_Eva_PDB14189_ok.py\", line 7, in <module>\n",
            "    from keras.layers.normalization import BatchNormalization\n",
            "ImportError: cannot import name 'BatchNormalization' from 'keras.layers.normalization' (/usr/local/lib/python3.10/dist-packages/keras/layers/normalization/__init__.py)\n"
          ]
        }
      ]
    },
    {
      "cell_type": "code",
      "source": [
        "!python /content/PDBP-Fusion/PDBP_Fusion_Embedding_Eva_PDB14189.py"
      ],
      "metadata": {
        "colab": {
          "base_uri": "https://localhost:8080/"
        },
        "id": "chOvSlKi72Cf",
        "outputId": "aa53a441-ee34-47c6-e4ba-f6f0e70d9c9c"
      },
      "execution_count": null,
      "outputs": [
        {
          "output_type": "stream",
          "name": "stdout",
          "text": [
            "2023-05-07 20:38:52.624307: I tensorflow/core/platform/cpu_feature_guard.cc:182] This TensorFlow binary is optimized to use available CPU instructions in performance-critical operations.\n",
            "To enable the following instructions: AVX2 FMA, in other operations, rebuild TensorFlow with the appropriate compiler flags.\n",
            "2023-05-07 20:38:53.879829: W tensorflow/compiler/tf2tensorrt/utils/py_utils.cc:38] TF-TRT Warning: Could not find TensorRT\n",
            "Traceback (most recent call last):\n",
            "  File \"/content/PDBP-Fusion/PDBP_Fusion_Embedding_Eva_PDB14189.py\", line 7, in <module>\n",
            "    from keras.layers.normalization import BatchNormalization\n",
            "ImportError: cannot import name 'BatchNormalization' from 'keras.layers.normalization' (/usr/local/lib/python3.10/dist-packages/keras/layers/normalization/__init__.py)\n"
          ]
        }
      ]
    },
    {
      "cell_type": "code",
      "source": [
        "!python /content/PDBP_CNN_Onehot_Eva_PDB14189_mod.py"
      ],
      "metadata": {
        "colab": {
          "base_uri": "https://localhost:8080/"
        },
        "id": "x0blStq68Edt",
        "outputId": "68febeb5-0ef6-4d5b-ea3f-6ff593abf636"
      },
      "execution_count": null,
      "outputs": [
        {
          "output_type": "stream",
          "name": "stdout",
          "text": [
            "2023-05-07 20:54:37.053232: I tensorflow/core/platform/cpu_feature_guard.cc:182] This TensorFlow binary is optimized to use available CPU instructions in performance-critical operations.\n",
            "To enable the following instructions: AVX2 FMA, in other operations, rebuild TensorFlow with the appropriate compiler flags.\n",
            "2023-05-07 20:54:38.339687: W tensorflow/compiler/tf2tensorrt/utils/py_utils.cc:38] TF-TRT Warning: Could not find TensorRT\n",
            "Traceback (most recent call last):\n",
            "  File \"/content/PDBP_CNN_Onehot_Eva_PDB14189_mod.py\", line 15, in <module>\n",
            "    import utils.tools as utils\n",
            "ModuleNotFoundError: No module named 'utils'\n"
          ]
        }
      ]
    },
    {
      "cell_type": "code",
      "source": [
        "!mv /content/PDBP_CNN_Onehot_Eva_PDB14189_mod.py /content/PDBP-Fusion/PDBP_CNN_Onehot_Eva_PDB14189_mod.py"
      ],
      "metadata": {
        "id": "YyBQVUKs_rCJ"
      },
      "execution_count": null,
      "outputs": []
    },
    {
      "cell_type": "code",
      "source": [
        "!python /content/PDBP-Fusion/PDBP_CNN_Onehot_Eva_PDB14189_mod.py"
      ],
      "metadata": {
        "colab": {
          "base_uri": "https://localhost:8080/"
        },
        "id": "6uO9LGXU_1T-",
        "outputId": "4ee63d0c-1f93-4ce9-d956-1b3ff620a1b0"
      },
      "execution_count": null,
      "outputs": [
        {
          "output_type": "stream",
          "name": "stdout",
          "text": [
            "2023-05-07 21:09:55.614916: I tensorflow/core/platform/cpu_feature_guard.cc:182] This TensorFlow binary is optimized to use available CPU instructions in performance-critical operations.\n",
            "To enable the following instructions: AVX2 FMA, in other operations, rebuild TensorFlow with the appropriate compiler flags.\n",
            "2023-05-07 21:09:56.867550: W tensorflow/compiler/tf2tensorrt/utils/py_utils.cc:38] TF-TRT Warning: Could not find TensorRT\n",
            "14258\n",
            "/content/PDBP-Fusion/encode_schema.py:28: VisibleDeprecationWarning: Creating an ndarray from ragged nested sequences (which is a list-or-tuple of lists-or-tuples-or ndarrays with different lengths or shapes) is deprecated. If you meant to do this, you must specify 'dtype=object' when creating the ndarray.\n",
            "  return np.array(seq_list)\n",
            "Traceback (most recent call last):\n",
            "  File \"/content/PDBP-Fusion/PDBP_CNN_Onehot_Eva_PDB14189_mod.py\", line 106, in <module>\n",
            "    label = np.loadtxt(\"data/class_PDB14189\")\n",
            "  File \"/usr/local/lib/python3.10/dist-packages/numpy/lib/npyio.py\", line 1042, in loadtxt\n",
            "    fh = np.lib._datasource.open(fname, 'rt', encoding=encoding)\n",
            "  File \"/usr/local/lib/python3.10/dist-packages/numpy/lib/_datasource.py\", line 193, in open\n",
            "    return ds.open(path, mode, encoding=encoding, newline=newline)\n",
            "  File \"/usr/local/lib/python3.10/dist-packages/numpy/lib/_datasource.py\", line 532, in open\n",
            "    raise FileNotFoundError(f\"{path} not found.\")\n",
            "FileNotFoundError: data/class_PDB14189 not found.\n"
          ]
        }
      ]
    },
    {
      "cell_type": "code",
      "source": [
        "!cat /content/PDBP-Fusion/encode_schema.py"
      ],
      "metadata": {
        "colab": {
          "base_uri": "https://localhost:8080/"
        },
        "id": "1_Idz7rV_6uQ",
        "outputId": "1588f343-c497-4e6f-8dd0-8828c6ca0f6e"
      },
      "execution_count": null,
      "outputs": [
        {
          "output_type": "stream",
          "name": "stdout",
          "text": [
            "# -*- coding: utf-8 -*-\n",
            "import numpy as np\n",
            "import pdb\n",
            "\n",
            "\n",
            "def read_seq(seq_file):\n",
            "    seq_list = []\n",
            "    seq = ''\n",
            "    with open(seq_file, 'r') as fp:\n",
            "        for line in fp:\n",
            "            seq = line[:-1]\n",
            "            # seq_array = get_seq_concolutional_array(seq)\n",
            "            seq_list.append(seq)\n",
            "\n",
            "    return np.array(seq_list)\n",
            "\n",
            "def read_seq_onehot(seq_file):\n",
            "    seq_list = []\n",
            "    seq = ''\n",
            "    with open(seq_file, 'r') as fp:\n",
            "        index = 0\n",
            "        for line in fp:\n",
            "            index += 1\n",
            "            seq = line[:-1]\n",
            "            seq_array = get_seq_concolutional_array(seq)\n",
            "            seq_list.append(seq_array)\n",
            "        print(index)\n",
            "    return np.array(seq_list)\n",
            "\n",
            "def get_seq_concolutional_array_v1(seq):\n",
            "    seq = seq.replace('B', 'Z')\n",
            "    seq = seq.replace('J', 'Z')\n",
            "    seq = seq.replace('O', 'Z')\n",
            "    seq = seq.replace('U', 'Z')\n",
            "    seq = seq.replace('X', 'Z')\n",
            "    alpha = 'ACDEFGHIKLMNPQRSTVWYZ'\n",
            "    row = (len(seq))\n",
            "    new_array = np.zeros((row, 20))\n",
            "    for i, val in enumerate(seq):\n",
            "        try:\n",
            "            index = alpha.index(val)\n",
            "            new_array[i][index] = 1\n",
            "        except ValueError:\n",
            "            pdb.set_trace()\n",
            "    return new_array\n",
            "\n",
            "def get_seq_concolutional_array(seq):\n",
            "    # seq = seq.replace('U', 'T')\n",
            "    alpha = 'ACDEFGHIKLMNPQRSTVWY'\n",
            "    row = (len(seq))\n",
            "    new_array = np.zeros((row, 20))\n",
            "\n",
            "    for i, val in enumerate(seq):\n",
            "\n",
            "        if val not in 'ACDEFGHIKLMNPQRSTVWY':\n",
            "            if val == 'Z':\n",
            "                new_array[i] = np.array([0.0] * 20)\n",
            "            # if val == 'S':\n",
            "            #     new_array[i] = np.array([0, 0.5, 0.5, 0, 0])\n",
            "            continue\n",
            "\n",
            "        try:\n",
            "            index = alpha.index(val)\n",
            "            new_array[i][index] = 1\n",
            "        except ValueError:\n",
            "            pdb.set_trace()\n",
            "    return new_array"
          ]
        }
      ]
    },
    {
      "cell_type": "code",
      "source": [
        "!head /content/PDBP-Fusion/DataSet/PDB14189_P.txt"
      ],
      "metadata": {
        "id": "WWSSoo8kBTz2",
        "colab": {
          "base_uri": "https://localhost:8080/"
        },
        "outputId": "6d74b156-933f-47d3-d07a-21cc9ff694af"
      },
      "execution_count": 31,
      "outputs": [
        {
          "output_type": "stream",
          "name": "stdout",
          "text": [
            ">Q6A8L0\n",
            "MSGHSKWATTKHKKAAIDAKRGKLFARLIKNIEVAARLGGGDPSGNPTLYDAIQKAKKSSVPNDNITRAVKRGSGEGADAVNYETIMYEAYGPAGVAILIECLTDNRNRAVSDVRVAVTRNGGTMADGGSVQRLFQRKGVVSVSKTYEVEEGRKTETREVDEDQLMEATIDAEPEDIVDEGEVFEIISDPSAVVDVRKAVQGAGIDYDSAEVSFKPDFTQRVELEDARKLYRILDALEDLDDVQNVFSNVDIPAEVAAALDEEE\n",
            ">Q7V7T9\n",
            "MIGWLQGQKVEAWQQGTRQGVVLACAGVGYEVQIAPRHLSEMEHGQNTFILWIHQVQRDDGSSLFGFPERRERDMFRTLIGVSGVGPQMALALLEECQTGELVEAIVQGDLRKLCQAQGVGKRTAERLAVELRTKLAEFSCRDPGMSLVDNGVIDSHQLKDSSLHELQITLGGLGYEDLEIRRAIRAVASGAAIGASDMPESVPSIDDTDAWLRASLRWLSQEAA\n",
            ">Q9ZUP2\n",
            "MARILRNVYSLRSSLFSSELLRRSVVGTSFQLRGFAAKAKKKSKSDGNGSSEEGMSKKEIALQQALDQITSSFGKGSIMYLGRAVSPRNVPVFSTGSFALDVALGVGGLPKGRVVEIYGPEASGKTTLALHVIAEAQKQGGTCVFVDAEHALDSSLAKAIGVNTENLLLSQPDCGEQALSLVDTLIRSGSVDVIVVDSVAALVPKGELEGEMGDAHMAMQARLMSQALRKLSHSLSLSQTLLIFINQVRSKLSTFGGFGGPTEVTCGGNALKFYASMRLNIKRIGLIKKGEETTGSQVSVKIVKNKLAPPFRTAQFELEFGKGICKITEIIDLSIKHKFIAKNGTFYNLNGKNYHGKEALKRFLKQNESDQEELMKKLQDKLIADEAADKETESESEEEDSLRVVVSPDNTDDESPALVVGAAAVVVEAA\n",
            ">Q2JVG1\n",
            "MKCPRCGKQEIRVLESRSAEGGQSVRRRRECMSCGYRFTTYERIEFMPIMVIKRDGSRESFNRNKILQGVMRACQKTQVSVKQMEELVNEIEEKLQLEDVQEVTTLRIGEMVLERLQRLSEVAYVRFASVYRKFQGIKDFVTELEQLERLETHLRRDLERPLRNSPPSESESTASPDWVGGIPQLLDQNDTSSNLSEIPK\n",
            ">Q9K4Q3\n",
            "MTKADIIEGVYEKVGFSKKESAEIVELVFDTLKETLERGDKIKISGFGNFQVRQKKARVGRNPQTGKEIEISARRVLTFRPSQVLKSALNGEAPPEDHAEIDAREEAAADAAEARGEDFDEEGMEDMEG\n"
          ]
        }
      ]
    },
    {
      "cell_type": "code",
      "source": [
        "!head /content/PDBP-Fusion/DataSet/PDB14189_N.txt"
      ],
      "metadata": {
        "colab": {
          "base_uri": "https://localhost:8080/"
        },
        "id": "1ngvngaLOsRo",
        "outputId": "60b4707e-af68-4eb4-b90b-62d869c7077f"
      },
      "execution_count": 32,
      "outputs": [
        {
          "output_type": "stream",
          "name": "stdout",
          "text": [
            ">Q9X4M1\n",
            "MEKILAINAGSSTLKWQLFEMPSETVIAKGMIDRLGLSDSVFTAKYGDNQKFKEVQDVTTHEMAATLLLTRLKELGIVSHLDEITGVGHRVVGGGEAFSDSMVINPVALDEINRLAEYAPLHNPTQAYYIKIFTALLPGVPQVAVFDTSFYSTLAPENYLYSIPQEYYQTFGARKYGAHGTSHRYVAHRAAEILGTPLESQKMITLHLGSGASITAVQDGHAVDTSMGFTPLAGITMGTRSGDIDVSLVAFLAKKLEITMPEMIDILNHKSGLLGISELSPDMRDLEETAATRPQSALALSIFVNRVVKYVGSYVALMNGIDTLVFTAGSGENGSELRADICKQLACFGVKLDEEKNNVRSQERIISADDSKVKVLIVPTNEELMIARDVMRLK\n",
            ">Q5L8C0\n",
            "MSKLHIKKGDTVYVNAGEDKGKTGRVLKVLVKEGRAIVEGINMVSKSTKPNAKNPQGGIVKQEAPIHISNLNPVDPKTGKATRVGRKVSSEGTLVRYSKKSGEEIK\n",
            ">Q6G461\n",
            "MIVGLGSDLTDIRRIERMLARYGDRFVQRIFTDIERNRSESLQKKSSSYAKRFAAKEACAKALGTGIACGINWKDMGVINLPSGKPIMKLTNRAQMQLQKLLPSHHDAIIHLSMTDDFPWAQAFIIIEAFPRG\n",
            ">Q12233\n",
            "MLSRIQNYTSGLVSKANLLSSKALYYGKVGAEISKQIYLKEGLQPPTVAQFKSVYSNLYKQSLNFALKPTEVLSCLKNIQKNELLKYGAYGIQLIGFYSVGEIIGRRKLVGYKHH\n",
            ">Q14692\n",
            "MEAKDQKKHRKKNSGPKAAKKKKRLLQDLQLGDEEDARKRNPKAFAVQSAVRMARSFHRTQDLKTKKHHIPVVDRTPLEPPPIVVVVMGPPKVGKSTLIQCLIRNFTRQKLTEIRGPVTIVSGKKRRLTIIECGCDINMMIDLAKVADLVLMLIDASFGFEMETFEFLNICQVHGFPKIMGVLTHLDSFKHNKQLKKTKKRLKHRFWTEVYPGAKLFYLSGMVHGEYQNQEIHNLGRFITVMKFRPLTWQTSHPYILADRMEDLTNPEDIRTNIKCDRKVSLYGYLRGAHLKNKSQIHMPGVGDFAVSDISFLPDPCALPEQQKKRCLNEKEKLVYAPLSGVGGVLYDKDAVYVDLGGSHVFQDEVGPTHELVQSLISTHSTIDAKMASSRVTLFSDSKPLGSEDIDNQGLMMPKEEKQMDLNTGRMRRKAIFGDEDESGDSDDEEDDEMSEDDGLENGSSDEEAEEEENAEMTDQYMAVKGIKRRKLELEEDSEMDLPAFADSDDDLERSSAEEGEAEEADESSEEEDCTAGEKGISGSKAAGEGSKAGLSPANCQSDRVNLEKSLLMKKAALPTFDSGHCTAEEVFASEDESEESSSLSAEEEDSENEEAIRKKLSKPSQVSSGQKLGPQNFIDETSDIENLLKEEEDYKEENNDSKETSGALKWKEDLSRKAAEAFLRQQQAAPNLRKLIYGTVTEDNEEEDDDTLEELGGLFRVNQPDRECKHKADSLDCSRFLVEAPHDWDLEEVMNSIRDCFVTGKWEDDKDAAKVLAEDEELYGDFEDLETGDVHKGKSGPNTQNEDIEKEVKEEIDPDEEESAKKKHLDKKRKLKEMFDAEYDEGESTYFDDLKGEMQKQAQLNRAEFEDQDDEARVQYEGFRPGMYVRIEIENVPCEFVQNFDPHYPIILGGLGNSEGNVGYVQMRLKKHRWYKKILKSRDPIIFSVGWRRFQTIPLYYIEDHNGRQRLLKYTPQHMHCGAAFWGPITPQGTGFLAIQSVSGIMPDFRIAATGVVLDLDKSIKIVKKLKLTGFPYKIFKNTSFIKGMFNSALEVAKFEGAVIRTVSGIRGQIKKALRAPEGAFRASFEDKLLMSDIVFMRTWYPVSIPAFYNPVTSLLKPVGEKDTWSGMRTTGQLRLAHGVRLKANKDSLYKPILRQKKHFNSLHIPKALQKALPFKNKPKTQAKAGKVPKDRRRPAVIREPHERKILALLDALSTVHSQKMKKAKEQRHLHNKEHFRAKQKEEEEKLKRQKDLRKKLFRIQGQKERRNQKSSLKGAEGQLQ\n"
          ]
        }
      ]
    },
    {
      "cell_type": "code",
      "source": [
        "!mv /content/predict_pos.py /content/PDBP-Fusion/predict_pos.py"
      ],
      "metadata": {
        "id": "xYUI_aeq8SFm"
      },
      "execution_count": 29,
      "outputs": []
    },
    {
      "cell_type": "code",
      "source": [
        "!python predict_pos.py"
      ],
      "metadata": {
        "colab": {
          "base_uri": "https://localhost:8080/"
        },
        "id": "rP6Ok8vQ91yf",
        "outputId": "3fd33565-55ed-4f0b-bd81-53ff569c9eda"
      },
      "execution_count": 30,
      "outputs": [
        {
          "output_type": "stream",
          "name": "stdout",
          "text": [
            "2023-05-08 15:32:28.999672: I tensorflow/core/platform/cpu_feature_guard.cc:182] This TensorFlow binary is optimized to use available CPU instructions in performance-critical operations.\n",
            "To enable the following instructions: AVX2 FMA, in other operations, rebuild TensorFlow with the appropriate compiler flags.\n",
            "2023-05-08 15:32:30.242706: W tensorflow/compiler/tf2tensorrt/utils/py_utils.cc:38] TF-TRT Warning: Could not find TensorRT\n",
            "2023-05-08 15:32:32.602926: I tensorflow/core/common_runtime/executor.cc:1197] [/device:CPU:0] (DEBUG INFO) Executor start aborting (this does not indicate an error and you can ignore this message): INVALID_ARGUMENT: You must feed a value for placeholder tensor 'gradients/split_2_grad/concat/split_2/split_dim' with dtype int32\n",
            "\t [[{{node gradients/split_2_grad/concat/split_2/split_dim}}]]\n",
            "2023-05-08 15:32:32.604755: I tensorflow/core/common_runtime/executor.cc:1197] [/device:CPU:0] (DEBUG INFO) Executor start aborting (this does not indicate an error and you can ignore this message): INVALID_ARGUMENT: You must feed a value for placeholder tensor 'gradients/split_grad/concat/split/split_dim' with dtype int32\n",
            "\t [[{{node gradients/split_grad/concat/split/split_dim}}]]\n",
            "2023-05-08 15:32:32.606313: I tensorflow/core/common_runtime/executor.cc:1197] [/device:CPU:0] (DEBUG INFO) Executor start aborting (this does not indicate an error and you can ignore this message): INVALID_ARGUMENT: You must feed a value for placeholder tensor 'gradients/split_1_grad/concat/split_1/split_dim' with dtype int32\n",
            "\t [[{{node gradients/split_1_grad/concat/split_1/split_dim}}]]\n",
            "2023-05-08 15:32:32.797777: I tensorflow/core/common_runtime/executor.cc:1197] [/device:CPU:0] (DEBUG INFO) Executor start aborting (this does not indicate an error and you can ignore this message): INVALID_ARGUMENT: You must feed a value for placeholder tensor 'gradients/ReverseV2_grad/ReverseV2/ReverseV2/axis' with dtype int32 and shape [1]\n",
            "\t [[{{node gradients/ReverseV2_grad/ReverseV2/ReverseV2/axis}}]]\n",
            "2023-05-08 15:32:32.864655: I tensorflow/core/common_runtime/executor.cc:1197] [/device:CPU:0] (DEBUG INFO) Executor start aborting (this does not indicate an error and you can ignore this message): INVALID_ARGUMENT: You must feed a value for placeholder tensor 'gradients/split_2_grad/concat/split_2/split_dim' with dtype int32\n",
            "\t [[{{node gradients/split_2_grad/concat/split_2/split_dim}}]]\n",
            "2023-05-08 15:32:32.866243: I tensorflow/core/common_runtime/executor.cc:1197] [/device:CPU:0] (DEBUG INFO) Executor start aborting (this does not indicate an error and you can ignore this message): INVALID_ARGUMENT: You must feed a value for placeholder tensor 'gradients/split_grad/concat/split/split_dim' with dtype int32\n",
            "\t [[{{node gradients/split_grad/concat/split/split_dim}}]]\n",
            "2023-05-08 15:32:32.867709: I tensorflow/core/common_runtime/executor.cc:1197] [/device:CPU:0] (DEBUG INFO) Executor start aborting (this does not indicate an error and you can ignore this message): INVALID_ARGUMENT: You must feed a value for placeholder tensor 'gradients/split_1_grad/concat/split_1/split_dim' with dtype int32\n",
            "\t [[{{node gradients/split_1_grad/concat/split_1/split_dim}}]]\n",
            "2023-05-08 15:32:33.501633: I tensorflow/core/common_runtime/executor.cc:1197] [/device:CPU:0] (DEBUG INFO) Executor start aborting (this does not indicate an error and you can ignore this message): INVALID_ARGUMENT: You must feed a value for placeholder tensor 'gradients/split_2_grad/concat/split_2/split_dim' with dtype int32\n",
            "\t [[{{node gradients/split_2_grad/concat/split_2/split_dim}}]]\n",
            "2023-05-08 15:32:33.503338: I tensorflow/core/common_runtime/executor.cc:1197] [/device:CPU:0] (DEBUG INFO) Executor start aborting (this does not indicate an error and you can ignore this message): INVALID_ARGUMENT: You must feed a value for placeholder tensor 'gradients/split_grad/concat/split/split_dim' with dtype int32\n",
            "\t [[{{node gradients/split_grad/concat/split/split_dim}}]]\n",
            "2023-05-08 15:32:33.504790: I tensorflow/core/common_runtime/executor.cc:1197] [/device:CPU:0] (DEBUG INFO) Executor start aborting (this does not indicate an error and you can ignore this message): INVALID_ARGUMENT: You must feed a value for placeholder tensor 'gradients/split_1_grad/concat/split_1/split_dim' with dtype int32\n",
            "\t [[{{node gradients/split_1_grad/concat/split_1/split_dim}}]]\n",
            "2023-05-08 15:32:33.709419: I tensorflow/core/common_runtime/executor.cc:1197] [/device:CPU:0] (DEBUG INFO) Executor start aborting (this does not indicate an error and you can ignore this message): INVALID_ARGUMENT: You must feed a value for placeholder tensor 'gradients/ReverseV2_grad/ReverseV2/ReverseV2/axis' with dtype int32 and shape [1]\n",
            "\t [[{{node gradients/ReverseV2_grad/ReverseV2/ReverseV2/axis}}]]\n",
            "2023-05-08 15:32:33.778703: I tensorflow/core/common_runtime/executor.cc:1197] [/device:CPU:0] (DEBUG INFO) Executor start aborting (this does not indicate an error and you can ignore this message): INVALID_ARGUMENT: You must feed a value for placeholder tensor 'gradients/split_2_grad/concat/split_2/split_dim' with dtype int32\n",
            "\t [[{{node gradients/split_2_grad/concat/split_2/split_dim}}]]\n",
            "2023-05-08 15:32:33.780327: I tensorflow/core/common_runtime/executor.cc:1197] [/device:CPU:0] (DEBUG INFO) Executor start aborting (this does not indicate an error and you can ignore this message): INVALID_ARGUMENT: You must feed a value for placeholder tensor 'gradients/split_grad/concat/split/split_dim' with dtype int32\n",
            "\t [[{{node gradients/split_grad/concat/split/split_dim}}]]\n",
            "2023-05-08 15:32:33.781752: I tensorflow/core/common_runtime/executor.cc:1197] [/device:CPU:0] (DEBUG INFO) Executor start aborting (this does not indicate an error and you can ignore this message): INVALID_ARGUMENT: You must feed a value for placeholder tensor 'gradients/split_1_grad/concat/split_1/split_dim' with dtype int32\n",
            "\t [[{{node gradients/split_1_grad/concat/split_1/split_dim}}]]\n",
            "1/1 [==============================] - 1s 943ms/step\n",
            "prediction is [0.1267177  0.86983633]\n",
            "[array([0.1267177 , 0.86983633], dtype=float32)]\n",
            "Q2JVG1\n",
            "start: 2023-05-08-15:32:32\n",
            "end: 2023-05-08-15:32:34\n"
          ]
        }
      ]
    },
    {
      "cell_type": "code",
      "source": [
        "!rm predict_pos.py"
      ],
      "metadata": {
        "id": "0Kmcto_U969H"
      },
      "execution_count": 27,
      "outputs": []
    },
    {
      "cell_type": "markdown",
      "source": [
        "0.9906746  0.01350864\n",
        "\n",
        "0.9923001  0.00920816\n",
        "\n",
        "0.6177565  0.39514554 Q9ZUP2\n",
        "\n",
        "0.1267177  0.86983633 Q2JVG1\n"
      ],
      "metadata": {
        "id": "O1N1VU-j9_uv"
      }
    },
    {
      "cell_type": "code",
      "source": [
        "!mv /content/predict_neg.py /content/PDBP-Fusion/predict_neg.py\n",
        "!python predict_neg.py"
      ],
      "metadata": {
        "colab": {
          "base_uri": "https://localhost:8080/"
        },
        "id": "bfFspAXK-Dfd",
        "outputId": "d48a4a97-c038-498c-be11-07a09eaebacc"
      },
      "execution_count": 39,
      "outputs": [
        {
          "output_type": "stream",
          "name": "stdout",
          "text": [
            "2023-05-08 15:53:44.924309: I tensorflow/core/platform/cpu_feature_guard.cc:182] This TensorFlow binary is optimized to use available CPU instructions in performance-critical operations.\n",
            "To enable the following instructions: AVX2 FMA, in other operations, rebuild TensorFlow with the appropriate compiler flags.\n",
            "2023-05-08 15:53:46.601215: W tensorflow/compiler/tf2tensorrt/utils/py_utils.cc:38] TF-TRT Warning: Could not find TensorRT\n",
            "2023-05-08 15:53:48.886921: I tensorflow/core/common_runtime/executor.cc:1197] [/device:CPU:0] (DEBUG INFO) Executor start aborting (this does not indicate an error and you can ignore this message): INVALID_ARGUMENT: You must feed a value for placeholder tensor 'gradients/split_2_grad/concat/split_2/split_dim' with dtype int32\n",
            "\t [[{{node gradients/split_2_grad/concat/split_2/split_dim}}]]\n",
            "2023-05-08 15:53:48.888585: I tensorflow/core/common_runtime/executor.cc:1197] [/device:CPU:0] (DEBUG INFO) Executor start aborting (this does not indicate an error and you can ignore this message): INVALID_ARGUMENT: You must feed a value for placeholder tensor 'gradients/split_grad/concat/split/split_dim' with dtype int32\n",
            "\t [[{{node gradients/split_grad/concat/split/split_dim}}]]\n",
            "2023-05-08 15:53:48.890111: I tensorflow/core/common_runtime/executor.cc:1197] [/device:CPU:0] (DEBUG INFO) Executor start aborting (this does not indicate an error and you can ignore this message): INVALID_ARGUMENT: You must feed a value for placeholder tensor 'gradients/split_1_grad/concat/split_1/split_dim' with dtype int32\n",
            "\t [[{{node gradients/split_1_grad/concat/split_1/split_dim}}]]\n",
            "2023-05-08 15:53:49.082247: I tensorflow/core/common_runtime/executor.cc:1197] [/device:CPU:0] (DEBUG INFO) Executor start aborting (this does not indicate an error and you can ignore this message): INVALID_ARGUMENT: You must feed a value for placeholder tensor 'gradients/ReverseV2_grad/ReverseV2/ReverseV2/axis' with dtype int32 and shape [1]\n",
            "\t [[{{node gradients/ReverseV2_grad/ReverseV2/ReverseV2/axis}}]]\n",
            "2023-05-08 15:53:49.149046: I tensorflow/core/common_runtime/executor.cc:1197] [/device:CPU:0] (DEBUG INFO) Executor start aborting (this does not indicate an error and you can ignore this message): INVALID_ARGUMENT: You must feed a value for placeholder tensor 'gradients/split_2_grad/concat/split_2/split_dim' with dtype int32\n",
            "\t [[{{node gradients/split_2_grad/concat/split_2/split_dim}}]]\n",
            "2023-05-08 15:53:49.150765: I tensorflow/core/common_runtime/executor.cc:1197] [/device:CPU:0] (DEBUG INFO) Executor start aborting (this does not indicate an error and you can ignore this message): INVALID_ARGUMENT: You must feed a value for placeholder tensor 'gradients/split_grad/concat/split/split_dim' with dtype int32\n",
            "\t [[{{node gradients/split_grad/concat/split/split_dim}}]]\n",
            "2023-05-08 15:53:49.152271: I tensorflow/core/common_runtime/executor.cc:1197] [/device:CPU:0] (DEBUG INFO) Executor start aborting (this does not indicate an error and you can ignore this message): INVALID_ARGUMENT: You must feed a value for placeholder tensor 'gradients/split_1_grad/concat/split_1/split_dim' with dtype int32\n",
            "\t [[{{node gradients/split_1_grad/concat/split_1/split_dim}}]]\n",
            "2023-05-08 15:53:49.780537: I tensorflow/core/common_runtime/executor.cc:1197] [/device:CPU:0] (DEBUG INFO) Executor start aborting (this does not indicate an error and you can ignore this message): INVALID_ARGUMENT: You must feed a value for placeholder tensor 'gradients/split_2_grad/concat/split_2/split_dim' with dtype int32\n",
            "\t [[{{node gradients/split_2_grad/concat/split_2/split_dim}}]]\n",
            "2023-05-08 15:53:49.782246: I tensorflow/core/common_runtime/executor.cc:1197] [/device:CPU:0] (DEBUG INFO) Executor start aborting (this does not indicate an error and you can ignore this message): INVALID_ARGUMENT: You must feed a value for placeholder tensor 'gradients/split_grad/concat/split/split_dim' with dtype int32\n",
            "\t [[{{node gradients/split_grad/concat/split/split_dim}}]]\n",
            "2023-05-08 15:53:49.783813: I tensorflow/core/common_runtime/executor.cc:1197] [/device:CPU:0] (DEBUG INFO) Executor start aborting (this does not indicate an error and you can ignore this message): INVALID_ARGUMENT: You must feed a value for placeholder tensor 'gradients/split_1_grad/concat/split_1/split_dim' with dtype int32\n",
            "\t [[{{node gradients/split_1_grad/concat/split_1/split_dim}}]]\n",
            "2023-05-08 15:53:49.980017: I tensorflow/core/common_runtime/executor.cc:1197] [/device:CPU:0] (DEBUG INFO) Executor start aborting (this does not indicate an error and you can ignore this message): INVALID_ARGUMENT: You must feed a value for placeholder tensor 'gradients/ReverseV2_grad/ReverseV2/ReverseV2/axis' with dtype int32 and shape [1]\n",
            "\t [[{{node gradients/ReverseV2_grad/ReverseV2/ReverseV2/axis}}]]\n",
            "2023-05-08 15:53:50.046764: I tensorflow/core/common_runtime/executor.cc:1197] [/device:CPU:0] (DEBUG INFO) Executor start aborting (this does not indicate an error and you can ignore this message): INVALID_ARGUMENT: You must feed a value for placeholder tensor 'gradients/split_2_grad/concat/split_2/split_dim' with dtype int32\n",
            "\t [[{{node gradients/split_2_grad/concat/split_2/split_dim}}]]\n",
            "2023-05-08 15:53:50.048549: I tensorflow/core/common_runtime/executor.cc:1197] [/device:CPU:0] (DEBUG INFO) Executor start aborting (this does not indicate an error and you can ignore this message): INVALID_ARGUMENT: You must feed a value for placeholder tensor 'gradients/split_grad/concat/split/split_dim' with dtype int32\n",
            "\t [[{{node gradients/split_grad/concat/split/split_dim}}]]\n",
            "2023-05-08 15:53:50.050031: I tensorflow/core/common_runtime/executor.cc:1197] [/device:CPU:0] (DEBUG INFO) Executor start aborting (this does not indicate an error and you can ignore this message): INVALID_ARGUMENT: You must feed a value for placeholder tensor 'gradients/split_1_grad/concat/split_1/split_dim' with dtype int32\n",
            "\t [[{{node gradients/split_1_grad/concat/split_1/split_dim}}]]\n",
            "1/1 [==============================] - 1s 927ms/step\n",
            "prediction is [0.96490604 0.03901033]\n",
            "[array([0.96490604, 0.03901033], dtype=float32)]\n",
            "Q12233\n",
            "start: 2023-05-08-15:53:48\n",
            "end: 2023-05-08-15:53:50\n"
          ]
        }
      ]
    },
    {
      "cell_type": "code",
      "source": [
        "!rm predict_neg.py"
      ],
      "metadata": {
        "id": "PhIeSYYdC9O8"
      },
      "execution_count": 38,
      "outputs": []
    },
    {
      "cell_type": "markdown",
      "source": [
        "0.9698575  0.03902663 | Q9X4M1\n",
        "\n",
        "0.9861613  0.01466555 | Q5L8C0\n",
        "\n",
        "0.99307925 0.01008245 | Q6G461\n",
        "\n",
        "0.96490604 0.03901033 | Q12233"
      ],
      "metadata": {
        "id": "G06ktUzGDBef"
      }
    },
    {
      "cell_type": "code",
      "source": [
        "!wc -l /content/PDBP-Fusion/DataSet/PDB14189_N.txt"
      ],
      "metadata": {
        "colab": {
          "base_uri": "https://localhost:8080/"
        },
        "id": "0TC3db_ADIWz",
        "outputId": "d5eefc8e-3eb5-46a1-9bda-1f78903db0b8"
      },
      "execution_count": 40,
      "outputs": [
        {
          "output_type": "stream",
          "name": "stdout",
          "text": [
            "14120 /content/PDBP-Fusion/DataSet/PDB14189_N.txt\n"
          ]
        }
      ]
    },
    {
      "cell_type": "code",
      "source": [
        "14120 / 2"
      ],
      "metadata": {
        "colab": {
          "base_uri": "https://localhost:8080/"
        },
        "id": "pTe4TrpsFPn-",
        "outputId": "523c0b53-a50f-4873-f61f-bb309db849ea"
      },
      "execution_count": 41,
      "outputs": [
        {
          "output_type": "execute_result",
          "data": {
            "text/plain": [
              "7060.0"
            ]
          },
          "metadata": {},
          "execution_count": 41
        }
      ]
    },
    {
      "cell_type": "code",
      "source": [
        "from keras.models import load_model\n",
        "import numpy as np\n",
        "from datetime import datetime\n",
        "import tensorflow as tf\n",
        "import numpy as np\n",
        "import pdb\n",
        "\n",
        "def get_seq_concolutional_array(seq):\n",
        "    # seq = seq.replace('U', 'T')\n",
        "    alpha = 'ACDEFGHIKLMNPQRSTVWY'\n",
        "    row = (len(seq))\n",
        "    new_array = np.zeros((row, 20))\n",
        "\n",
        "    for i, val in enumerate(seq):\n",
        "\n",
        "        if val not in 'ACDEFGHIKLMNPQRSTVWY':\n",
        "            if val == 'Z':\n",
        "                new_array[i] = np.array([0.0] * 20)\n",
        "            # if val == 'S':\n",
        "            #     new_array[i] = np.array([0, 0.5, 0.5, 0, 0])\n",
        "            continue\n",
        "\n",
        "        try:\n",
        "            index = alpha.index(val)\n",
        "            new_array[i][index] = 1\n",
        "        except ValueError:\n",
        "            pdb.set_trace()\n",
        "    return new_array\n",
        "\n",
        "def read_seq_onehot(seq_file, str_len=600):\n",
        "    seq_list = []\n",
        "    seq = ''\n",
        "    with open(seq_file, 'r') as fp:\n",
        "        index = 0\n",
        "        for line in fp:\n",
        "            index += 1\n",
        "            string = line\n",
        "            if len(line)>=str_len:\n",
        "                string=string[:str_len]\n",
        "            else:\n",
        "                string=string+'Z'*(str_len-len(string))\n",
        "            \n",
        "            assert len(string)==str_len\n",
        "            line = string\n",
        "\n",
        "            seq = line\n",
        "            seq_array = get_seq_concolutional_array(seq)\n",
        "            seq_list.append(seq_array)\n",
        "        print(index)\n",
        "    return np.array(seq_list, dtype=object)\n",
        "\n",
        "\n",
        "class Pred():\n",
        "    def __init__(self,model_path='./model_save/model_'):\n",
        "        self.item_model_path = '/content/PDBP-Fusion/model_save/model_0.hdf5'\n",
        "        #self.model = load_model(item_model_path)\n",
        "\n",
        "    def sample_predict1(self,string,str_len=600):\n",
        "        # make sure the input sequnce less than 850, otherwise drop string when length excell 850\n",
        "        if len(string)>=str_len:\n",
        "            string=string[:str_len]\n",
        "        else:\n",
        "            string=string+'Z'*(str_len-len(string))\n",
        "        #print('len: ',str_len)\n",
        "        assert len(string)==str_len\n",
        "\n",
        "        #向量化\n",
        "        #print(get_seq_concolutional_array(string)[:5,:])\n",
        "        string_vector=get_seq_concolutional_array(string)\n",
        "        string_vector=np.expand_dims(string_vector,0)\n",
        "\n",
        "        #load model and predict\n",
        "        result=[]\n",
        "        self.model = load_model(self.item_model_path)\n",
        "        predict=self.model.predict(string_vector)[0]\n",
        "        print('prediction is {}'.format(predict))\n",
        "        result.append(predict)\n",
        "        print(result)\n",
        "\n",
        "        return result\n",
        "\n",
        "    def sample_predict(self,string,str_len=600):\n",
        "        # make sure the input sequnce less than 850, otherwise drop string when length excell 850\n",
        "\n",
        "        seq = read_seq_onehot(string)\n",
        "        print(seq.shape)\n",
        "        # seq = np.asarray(seq).astype(np.float32)\n",
        "        # string_vector=get_seq_concolutional_array(string)\n",
        "        # string_vector=np.expand_dims(string_vector,0)\n",
        "\n",
        "        #load model and predict\n",
        "        result=[]\n",
        "        self.model = load_model(self.item_model_path)\n",
        "        predict=self.model.predict(tf.convert_to_tensor(seq, dtype=tf.float32))\n",
        "        print('prediction is {}'.format(predict))\n",
        "        result.append(predict)\n",
        "        print(result)\n",
        "\n",
        "        return result\n",
        "\n",
        "Pr=Pred()\n",
        "start = datetime.now().strftime('%Y-%m-%d-%H:%M:%S')\n",
        "\n",
        "ans = Pr.sample_predict(string='/content/PDBP-Fusion/DataSet/nondbp.txt')\n",
        "print('')\n",
        "end = datetime.now().strftime('%Y-%m-%d-%H:%M:%S')\n",
        "print('start: %s' % start)\n",
        "print('end: %s' % end)\n"
      ],
      "metadata": {
        "colab": {
          "base_uri": "https://localhost:8080/"
        },
        "id": "mtqghw5WFRex",
        "outputId": "7288788f-598e-41fb-9830-e2dc09e814c9"
      },
      "execution_count": 3,
      "outputs": [
        {
          "output_type": "stream",
          "name": "stdout",
          "text": [
            "7060\n",
            "(7060, 600, 20)\n",
            "221/221 [==============================] - 14s 58ms/step\n",
            "prediction is [[0.9698575  0.03902666]\n",
            " [0.9861613  0.01466556]\n",
            " [0.99307925 0.01008245]\n",
            " ...\n",
            " [0.99903923 0.00199525]\n",
            " [0.9956674  0.00846925]\n",
            " [0.99936265 0.00122527]]\n",
            "[array([[0.9698575 , 0.03902666],\n",
            "       [0.9861613 , 0.01466556],\n",
            "       [0.99307925, 0.01008245],\n",
            "       ...,\n",
            "       [0.99903923, 0.00199525],\n",
            "       [0.9956674 , 0.00846925],\n",
            "       [0.99936265, 0.00122527]], dtype=float32)]\n",
            "\n",
            "start: 2023-05-08-16:58:28\n",
            "end: 2023-05-08-16:59:05\n"
          ]
        }
      ]
    },
    {
      "cell_type": "code",
      "source": [
        "ans[0]"
      ],
      "metadata": {
        "colab": {
          "base_uri": "https://localhost:8080/"
        },
        "id": "4UGv3K3ZTY8R",
        "outputId": "86831999-bbbc-4155-b46f-68f0d1946e1f"
      },
      "execution_count": 11,
      "outputs": [
        {
          "output_type": "execute_result",
          "data": {
            "text/plain": [
              "array([[0.9698575 , 0.03902666],\n",
              "       [0.9861613 , 0.01466556],\n",
              "       [0.99307925, 0.01008245],\n",
              "       ...,\n",
              "       [0.99903923, 0.00199525],\n",
              "       [0.9956674 , 0.00846925],\n",
              "       [0.99936265, 0.00122527]], dtype=float32)"
            ]
          },
          "metadata": {},
          "execution_count": 11
        }
      ]
    },
    {
      "cell_type": "code",
      "source": [
        "neg_ans = np.array(ans[0])[:,:1]"
      ],
      "metadata": {
        "id": "wLAagg1zT9aM"
      },
      "execution_count": 14,
      "outputs": []
    },
    {
      "cell_type": "code",
      "source": [
        "np.mean(neg_ans)"
      ],
      "metadata": {
        "colab": {
          "base_uri": "https://localhost:8080/"
        },
        "id": "mVPbKYr5Tn5S",
        "outputId": "1d1db671-f638-4d45-8a95-72967be46c87"
      },
      "execution_count": 16,
      "outputs": [
        {
          "output_type": "execute_result",
          "data": {
            "text/plain": [
              "0.9400606"
            ]
          },
          "metadata": {},
          "execution_count": 16
        }
      ]
    },
    {
      "cell_type": "code",
      "source": [
        "!touch /content/PDBP-Fusion/DataSet/dbp.txt"
      ],
      "metadata": {
        "id": "XB2LdkI0XTwj"
      },
      "execution_count": 22,
      "outputs": []
    },
    {
      "cell_type": "code",
      "source": [
        "!grep -v \">\" /content/PDBP-Fusion/DataSet/PDB14189_P.txt > /content/PDBP-Fusion/DataSet/dbp.txt"
      ],
      "metadata": {
        "id": "iPDI8te5F0WN"
      },
      "execution_count": 23,
      "outputs": []
    },
    {
      "cell_type": "code",
      "source": [
        "!head /content/PDBP-Fusion/DataSet/dbp.txt"
      ],
      "metadata": {
        "colab": {
          "base_uri": "https://localhost:8080/"
        },
        "id": "MsTGvQyeI6mo",
        "outputId": "67af46ea-dc24-46ad-f1b5-84983f808ed6"
      },
      "execution_count": 24,
      "outputs": [
        {
          "output_type": "stream",
          "name": "stdout",
          "text": [
            "MSGHSKWATTKHKKAAIDAKRGKLFARLIKNIEVAARLGGGDPSGNPTLYDAIQKAKKSSVPNDNITRAVKRGSGEGADAVNYETIMYEAYGPAGVAILIECLTDNRNRAVSDVRVAVTRNGGTMADGGSVQRLFQRKGVVSVSKTYEVEEGRKTETREVDEDQLMEATIDAEPEDIVDEGEVFEIISDPSAVVDVRKAVQGAGIDYDSAEVSFKPDFTQRVELEDARKLYRILDALEDLDDVQNVFSNVDIPAEVAAALDEEE\n",
            "MIGWLQGQKVEAWQQGTRQGVVLACAGVGYEVQIAPRHLSEMEHGQNTFILWIHQVQRDDGSSLFGFPERRERDMFRTLIGVSGVGPQMALALLEECQTGELVEAIVQGDLRKLCQAQGVGKRTAERLAVELRTKLAEFSCRDPGMSLVDNGVIDSHQLKDSSLHELQITLGGLGYEDLEIRRAIRAVASGAAIGASDMPESVPSIDDTDAWLRASLRWLSQEAA\n",
            "MARILRNVYSLRSSLFSSELLRRSVVGTSFQLRGFAAKAKKKSKSDGNGSSEEGMSKKEIALQQALDQITSSFGKGSIMYLGRAVSPRNVPVFSTGSFALDVALGVGGLPKGRVVEIYGPEASGKTTLALHVIAEAQKQGGTCVFVDAEHALDSSLAKAIGVNTENLLLSQPDCGEQALSLVDTLIRSGSVDVIVVDSVAALVPKGELEGEMGDAHMAMQARLMSQALRKLSHSLSLSQTLLIFINQVRSKLSTFGGFGGPTEVTCGGNALKFYASMRLNIKRIGLIKKGEETTGSQVSVKIVKNKLAPPFRTAQFELEFGKGICKITEIIDLSIKHKFIAKNGTFYNLNGKNYHGKEALKRFLKQNESDQEELMKKLQDKLIADEAADKETESESEEEDSLRVVVSPDNTDDESPALVVGAAAVVVEAA\n",
            "MKCPRCGKQEIRVLESRSAEGGQSVRRRRECMSCGYRFTTYERIEFMPIMVIKRDGSRESFNRNKILQGVMRACQKTQVSVKQMEELVNEIEEKLQLEDVQEVTTLRIGEMVLERLQRLSEVAYVRFASVYRKFQGIKDFVTELEQLERLETHLRRDLERPLRNSPPSESESTASPDWVGGIPQLLDQNDTSSNLSEIPK\n",
            "MTKADIIEGVYEKVGFSKKESAEIVELVFDTLKETLERGDKIKISGFGNFQVRQKKARVGRNPQTGKEIEISARRVLTFRPSQVLKSALNGEAPPEDHAEIDAREEAAADAAEARGEDFDEEGMEDMEG\n",
            "MSVKPSAQTNDTIQSTSKSVPAASDSLVIGDAIYHLADHTPMMVQYLTMKANYPQALLLYRMGDFYELFFDDAKRAAQILDITLTRRGTDKAGNTIAMAGVPFHAADSYMARLIAAGQTVVVCEQIDESATGNARNTSNTPTMGDKQKKDKSKSAAGTIMRREVVKTLTAGTITDDALIAPNHTPTVVAIDILIPKSNSKQSLQAAISQMDLAAGTLTTQTLSANHDDIEGLKTQMLTVLARFAPSECIIGEALNDSIGGIGEDWLLWLRQSLDCPIIEVAANDFHRQHASATLCQQFGVQRLDGLGSGISDAPLAQSSCAALIHYARQTQQRQVPQINQLIVEYSDDYLIIDANSQQNLELFTPVSSNGTSLLSVLNHCQTPMGRRLLVQQMKRPLRQHSRINLRLDAIACLLKTDKTSIESNQASNQALKHSSLVISLREMLNSIGDIERISSRIGLMSAKPRDLRKLADGIASSTQLTTLLTDSGVSHEQAGLLPMLMQQLPAQLPAVQSIAKLIERAIITEPPAHIRDGGMLAAGYDDEFDRLTHLHDNIQVTLDEMVERARLESQLPSLKVGFNKVSGFYFELPKMQAKNAPAHFIRRQTLKSSERFITDELKDVETEYLSAQTLALTREKQLYHELLTELSSHLAELQQLSAAIAQIDVLSNWAQLAMTYNWQCPVMSNNDENKDSSNTDNQASIDISQGRHVVVEAALNPVNAGNAGNTVNSSNNSSNNSGTTRHNSHFVANDCALGSDANPERLLLITGPNMGGKSTYMRQTALIVLLAHCGSFVPAASAHIGDIDRIFTRIGSADDLAGGKSTFMVEMIETANILNQATNQSLVLMDEVGRGTATTDGLAIAHACVNRLLEIGCLTLFATHYFELTKLAQNPKESSGSNDKLIRNVHVAASEVDGQLLLLHQIKEGAASSSFGLHVAKMAGIPTQVLNDAKRYLVDNLTIDNLGIDNLSIDNLKSNNESANDDKNDLAKSVKDKRQQTADSDIEKLNLSNIKKTQNMTDIPQQNQLFSLQDELHAIDPDSLTPKQAHDLIYHLKKIISR\n",
            "MQPGGDMSALLAQAQQMQQKLLEAQQQLANSEVHGQAGGGLVKVVVKGSGEVIGVTIDPKVVDPDDIETLQDLIVGAMRDASQQVTKMAQERLGALAGAMRPPAPPAAPPGAPGMPGMPGMPGAPGAPPVPGI\n",
            "MDDEQNVLATVWPEVIAELTTGSADGSIPAVTRAQQAWLKLVKPITVAQGFALLSVPSSLAQEAIERDLREPILRSLGRRLGPQVEGLGVRIAAPATPTAERAAANPRHARMTSRPERPRGERPVPGLPGQEAVDRPETLPRYSQAAESVPGYPARQDHSRPGDYPPAAEYTPAAEYTPAAEYTPAAEYSPEPEYTPATDYPGADDYPTTVFRLPPGGFAEPPGDGRPGGVPEISTPRRDGHGPRRDATPPGQEALFTPEPGDRPLRDTDRPLREPAAGHDVRESDGPVERDDEPVVNIRDSWPTYFAKNQESTPAPANSSASLNAKYTFETFVIGASNRFAHAAAVAIAEAPARAYNPLFVWGASGLGKTHLLHAAGHYAQRLFPGMRVKYVSTEEFTNDFINSLRDDRKVAFKRRYRETDILLVDDIQFIEGKEGIQEEFFHTFNTLHNANKQIVVSSDRPPKQLATLEERLRTRFEWGLITDVQPPELETRIAILRKKARMDRLDVPHDVLELIASRVERNIRELEGALIRVTAFASLNGQPLDLSLAEVVLRDLMPDTATLEINAATIMAVTAEYFNTTLEELTGPGKARPLAQARQIAMYLCRELTDLSLPKIGQAFGRDHTTVMYAEKKVRKEMTERRRVYDQVQELTARIKQRSR\n",
            "MKRSTPRPARSQAALTTSSEESPDRVERGGDGVATVTDFPDGPPDETGLTPRQRRILDVIRDSVRRRGYPPSMREIGEAVGLTSTSSVAHQLMVLQRKGFLRRDPNRPRAVEIRSAESAVPDASAGHSPAADRAPSARRPPRGPSPIDSNPDVVAVPLVGRIAAGGPALAEQLIEDVVPLPRQLVGEGTLFLLQVKGDSMVDAAICDGDWVVVRQQPVAENGDIVAAMIDGEATVKTFKRRGAHIWLMPHNPQYEPIPGDEATILGRVVAVLRRL\n",
            "MPELPEVETTKTSLAPLLGQKVTNVQVFQPKLRWSIPDNLADLVDYTLDSVERRAKYLILNFIPLADDGISSTVQPRNLQPRQLLVHLGMSGSLQQHNHASDKRKHDHLIMSFIGADSTQTQLHYYDPRRFGSILWLEEYGDKLLNHLGPEPLSDAFTADYLYHLIQRSRQSIQTQNSKSIKKQPIKRAIKSVIMEQQAVVGVGNIYATESLYLSGIHPATPANEVSYAQIVILVAHIKTILQKAIKLGGSTLRDFTVADGQTGYFQQTLNVYGRQGNACPHCESTLENIKLNGRASVYCPLCQPIISM\n"
          ]
        }
      ]
    },
    {
      "cell_type": "code",
      "source": [
        "!mkdir /content/PDBP-Fusion/data"
      ],
      "metadata": {
        "id": "zKhtPjkvLfvV"
      },
      "execution_count": 53,
      "outputs": []
    },
    {
      "cell_type": "code",
      "source": [
        "!cp /content/PDBP-Fusion/DataSet/dbp.txt /data/DNA_Pading_800_PDB14189"
      ],
      "metadata": {
        "id": "axcFxM6JJMwi"
      },
      "execution_count": 55,
      "outputs": []
    },
    {
      "cell_type": "code",
      "source": [
        "!ls /data"
      ],
      "metadata": {
        "colab": {
          "base_uri": "https://localhost:8080/"
        },
        "id": "bCtBKofuL5qm",
        "outputId": "b4062b1a-b709-4bae-fc9d-f50a02f1e5e5"
      },
      "execution_count": 56,
      "outputs": [
        {
          "output_type": "stream",
          "name": "stdout",
          "text": [
            "DNA_Pading_800_PDB14189\n"
          ]
        }
      ]
    },
    {
      "cell_type": "code",
      "source": [
        "!python /content/PDBP-Fusion/PDBP_CNN_Onehot_Eva_PDB14189_ok.py"
      ],
      "metadata": {
        "colab": {
          "base_uri": "https://localhost:8080/"
        },
        "id": "DeGBclb3L738",
        "outputId": "b4b58216-f0c8-49cd-a8bb-148e5dee8895"
      },
      "execution_count": 57,
      "outputs": [
        {
          "output_type": "stream",
          "name": "stdout",
          "text": [
            "2023-05-08 16:27:11.445650: W tensorflow/compiler/tf2tensorrt/utils/py_utils.cc:38] TF-TRT Warning: Could not find TensorRT\n",
            "Traceback (most recent call last):\n",
            "  File \"/content/PDBP-Fusion/PDBP_CNN_Onehot_Eva_PDB14189_ok.py\", line 7, in <module>\n",
            "    from keras.layers.normalization import BatchNormalization\n",
            "ImportError: cannot import name 'BatchNormalization' from 'keras.layers.normalization' (/usr/local/lib/python3.10/dist-packages/keras/layers/normalization/__init__.py)\n"
          ]
        }
      ]
    },
    {
      "cell_type": "code",
      "source": [
        "from keras.models import load_model\n",
        "import numpy as np\n",
        "from datetime import datetime\n",
        "import tensorflow as tf\n",
        "import numpy as np\n",
        "import pdb\n",
        "\n",
        "def get_seq_concolutional_array(seq):\n",
        "    # seq = seq.replace('U', 'T')\n",
        "    alpha = 'ACDEFGHIKLMNPQRSTVWY'\n",
        "    row = (len(seq))\n",
        "    new_array = np.zeros((row, 20))\n",
        "\n",
        "    for i, val in enumerate(seq):\n",
        "\n",
        "        if val not in 'ACDEFGHIKLMNPQRSTVWY':\n",
        "            if val == 'Z':\n",
        "                new_array[i] = np.array([0.0] * 20)\n",
        "            # if val == 'S':\n",
        "            #     new_array[i] = np.array([0, 0.5, 0.5, 0, 0])\n",
        "            continue\n",
        "\n",
        "        try:\n",
        "            index = alpha.index(val)\n",
        "            new_array[i][index] = 1\n",
        "        except ValueError:\n",
        "            pdb.set_trace()\n",
        "    return new_array\n",
        "\n",
        "def read_seq_onehot(seq_file, str_len=600):\n",
        "    seq_list = []\n",
        "    seq = ''\n",
        "    with open(seq_file, 'r') as fp:\n",
        "        index = 0\n",
        "        for line in fp:\n",
        "            index += 1\n",
        "            string = line\n",
        "            if len(line)>=str_len:\n",
        "                string=string[:str_len]\n",
        "            else:\n",
        "                string=string+'Z'*(str_len-len(string))\n",
        "            \n",
        "            assert len(string)==str_len\n",
        "            line = string\n",
        "\n",
        "            seq = line\n",
        "            seq_array = get_seq_concolutional_array(seq)\n",
        "            seq_list.append(seq_array)\n",
        "        print(index)\n",
        "    return np.array(seq_list, dtype=object)\n",
        "\n",
        "\n",
        "class Pred():\n",
        "    def __init__(self,model_path='./model_save/model_'):\n",
        "        self.item_model_path = '/content/PDBP-Fusion/model_save/model_0.hdf5'\n",
        "        #self.model = load_model(item_model_path)\n",
        "\n",
        "    def sample_predict1(self,string,str_len=600):\n",
        "        # make sure the input sequnce less than 850, otherwise drop string when length excell 850\n",
        "        if len(string)>=str_len:\n",
        "            string=string[:str_len]\n",
        "        else:\n",
        "            string=string+'Z'*(str_len-len(string))\n",
        "        #print('len: ',str_len)\n",
        "        assert len(string)==str_len\n",
        "\n",
        "        #向量化\n",
        "        #print(get_seq_concolutional_array(string)[:5,:])\n",
        "        string_vector=get_seq_concolutional_array(string)\n",
        "        string_vector=np.expand_dims(string_vector,0)\n",
        "\n",
        "        #load model and predict\n",
        "        result=[]\n",
        "        self.model = load_model(self.item_model_path)\n",
        "        predict=self.model.predict(string_vector)[0]\n",
        "        print('prediction is {}'.format(predict))\n",
        "        result.append(predict)\n",
        "        print(result)\n",
        "\n",
        "        return result\n",
        "\n",
        "    def sample_predict(self,string,str_len=600):\n",
        "        # make sure the input sequnce less than 850, otherwise drop string when length excell 850\n",
        "\n",
        "        seq = read_seq_onehot(string)\n",
        "        print(seq.shape)\n",
        "        # seq = np.asarray(seq).astype(np.float32)\n",
        "        # string_vector=get_seq_concolutional_array(string)\n",
        "        # string_vector=np.expand_dims(string_vector,0)\n",
        "\n",
        "        #load model and predict\n",
        "        result=[]\n",
        "        self.model = load_model(self.item_model_path)\n",
        "        predict=self.model.predict(tf.convert_to_tensor(seq, dtype=tf.float32))\n",
        "        print('prediction is {}'.format(predict))\n",
        "        result.append(predict)\n",
        "        print(result)\n",
        "\n",
        "        return result\n",
        "\n",
        "Pr=Pred()\n",
        "start = datetime.now().strftime('%Y-%m-%d-%H:%M:%S')\n",
        "\n",
        "pos_ans = Pr.sample_predict(string='/content/PDBP-Fusion/DataSet/dbp.txt')\n",
        "print('')\n",
        "end = datetime.now().strftime('%Y-%m-%d-%H:%M:%S')\n",
        "print('start: %s' % start)\n",
        "print('end: %s' % end)\n"
      ],
      "metadata": {
        "colab": {
          "base_uri": "https://localhost:8080/"
        },
        "id": "IhaLr9gOMDBs",
        "outputId": "94649904-fe9d-439f-80ba-7a5e53a65bef"
      },
      "execution_count": 25,
      "outputs": [
        {
          "output_type": "stream",
          "name": "stdout",
          "text": [
            "7129\n",
            "(7129, 600, 20)\n",
            "223/223 [==============================] - 14s 61ms/step\n",
            "prediction is [[0.99067456 0.01350865]\n",
            " [0.99230003 0.00920817]\n",
            " [0.6177566  0.3951455 ]\n",
            " ...\n",
            " [0.18754935 0.82417893]\n",
            " [0.60879207 0.4080999 ]\n",
            " [0.19600162 0.8166867 ]]\n",
            "[array([[0.99067456, 0.01350865],\n",
            "       [0.99230003, 0.00920817],\n",
            "       [0.6177566 , 0.3951455 ],\n",
            "       ...,\n",
            "       [0.18754935, 0.82417893],\n",
            "       [0.60879207, 0.4080999 ],\n",
            "       [0.19600162, 0.8166867 ]], dtype=float32)]\n",
            "\n",
            "start: 2023-05-08-17:18:14\n",
            "end: 2023-05-08-17:18:48\n"
          ]
        }
      ]
    },
    {
      "cell_type": "code",
      "source": [
        "pos_ans_0 = np.array(pos_ans[0])[:,:1]"
      ],
      "metadata": {
        "id": "dRKybFFnXvQW"
      },
      "execution_count": 28,
      "outputs": []
    },
    {
      "cell_type": "code",
      "source": [
        "print( np.mean(pos_ans_0), np.max(pos_ans_0), np.min(pos_ans_0))"
      ],
      "metadata": {
        "colab": {
          "base_uri": "https://localhost:8080/"
        },
        "id": "yQXr3MjDYCCR",
        "outputId": "7a2e6171-e62c-4434-b101-e8ab692a7290"
      },
      "execution_count": 27,
      "outputs": [
        {
          "output_type": "stream",
          "name": "stdout",
          "text": [
            "0.9400606 1.0 0.016364058\n"
          ]
        }
      ]
    },
    {
      "cell_type": "code",
      "source": [
        "print( np.mean(pos_ans_0), np.max(pos_ans_0), np.min(pos_ans_0))"
      ],
      "metadata": {
        "colab": {
          "base_uri": "https://localhost:8080/"
        },
        "id": "ODBDVBRWYMcZ",
        "outputId": "9c50a3c1-6bc0-4ac2-f5a3-fc8f5e1d6c91"
      },
      "execution_count": 29,
      "outputs": [
        {
          "output_type": "stream",
          "name": "stdout",
          "text": [
            "0.46942636 0.99987555 0.0002724971\n"
          ]
        }
      ]
    },
    {
      "cell_type": "code",
      "source": [
        "pos_classes = np.argmax(pos_ans[0], axis=1)"
      ],
      "metadata": {
        "id": "--qjUqzNYY8j"
      },
      "execution_count": 32,
      "outputs": []
    },
    {
      "cell_type": "code",
      "source": [
        "print('+ = ', np.sum(pos_classes), ' - = ', len(pos_classes) - np.sum(pos_classes))"
      ],
      "metadata": {
        "colab": {
          "base_uri": "https://localhost:8080/"
        },
        "id": "XkcpcVd4ZIaQ",
        "outputId": "b3e85794-3255-4a46-e232-422f7e306ece"
      },
      "execution_count": 33,
      "outputs": [
        {
          "output_type": "stream",
          "name": "stdout",
          "text": [
            "+ =  3946  - =  3183\n"
          ]
        }
      ]
    },
    {
      "cell_type": "code",
      "source": [
        "neg_classes = np.argmax(ans[0], axis=1)"
      ],
      "metadata": {
        "id": "9xTgjeTVZzoy"
      },
      "execution_count": 34,
      "outputs": []
    },
    {
      "cell_type": "code",
      "source": [
        "print('+ = ', np.sum(neg_classes), ' - = ', len(neg_classes) - np.sum(neg_classes))"
      ],
      "metadata": {
        "colab": {
          "base_uri": "https://localhost:8080/"
        },
        "id": "A6e4q2b1aGUa",
        "outputId": "f79015e4-552c-4e9c-ac37-29ab90c73b5d"
      },
      "execution_count": 35,
      "outputs": [
        {
          "output_type": "stream",
          "name": "stdout",
          "text": [
            "+ =  239  - =  6821\n"
          ]
        }
      ]
    },
    {
      "cell_type": "markdown",
      "source": [
        "http://people.iiti.ac.in/~amitk/bsbe/ipdb/g4dna.php\n",
        "http://people.iiti.ac.in/~amitk/bsbe/ipdb/G4DIP1.php\n",
        "http://www.uniprot.org/uniprot/P19338.fasta"
      ],
      "metadata": {
        "id": "X_YFOlF7xQhR"
      }
    },
    {
      "cell_type": "code",
      "source": [
        "\n",
        "import requests \n",
        "  \n",
        "# get request \n",
        "url = \"http://people.iiti.ac.in/~amitk/bsbe/ipdb/g4dna.php\"\n",
        "r = requests.get(url) \n",
        "  \n",
        "# download data \n",
        "with open('G4IPDB.txt', 'wb') as f: \n",
        "    f.write(r.content)"
      ],
      "metadata": {
        "id": "6QmUcpIfaK46"
      },
      "execution_count": 1,
      "outputs": []
    },
    {
      "cell_type": "code",
      "source": [
        "!head /content/G4IPDB.csv"
      ],
      "metadata": {
        "colab": {
          "base_uri": "https://localhost:8080/"
        },
        "id": "_pDMgCCh5LOl",
        "outputId": "0932bef9-615f-4b3a-ec50-43397ee1afa4"
      },
      "execution_count": 4,
      "outputs": [
        {
          "output_type": "stream",
          "name": "stdout",
          "text": [
            "Interaction ID,DNA Target_Name,Target_DNA_Sequence,Interacting_Protein_Name,UniProt-ID,UniProt-Entry name,Reference:PMID\n",
            "G4DIP1,LTR-II,5'-[TTTTTGGGGACTTTCCAGGGAGGCGTGGCCTGGGCGGGTTTTT]-3',NCL(nucleolin),P19338,NUCL_HUMAN,26354862\n",
            "G4DIP2,LTR-III,5'-[TTTTTGGGAGGCGTGGCCTGGGCGGGACTGGGGTTTTT]-3',NCL(nucleolin),P19338,NUCL_HUMAN,26354862\n",
            "G4DIP3,LTR-IV,5'-[TTTTTGGGCGGGACTGGGGAGTGGTTTTT]-3',NCL(nucleolin),P19338,NUCL_HUMAN,26354862\n",
            "G4DIP4,LTR-III+IV,5'-[TTTTTGGGAGGCGTGGCCTGGGCGGGACTGGGGAGTGGTTTTT]-3',NCL(nucleolin),P19338,NUCL_HUMAN,26354862\n",
            "G4DIP5,LTR-II+III+IV,5'-[TTTTTGGGGACTTTCCAGGGAGGCGTGGCCTGTGCGGGACTGGGGAGTGGTTTTT]-3',NCL(nucleolin),P19338,NUCL_HUMAN,26354862\n"
          ]
        }
      ]
    },
    {
      "cell_type": "code",
      "source": [
        "!pip install Bio"
      ],
      "metadata": {
        "colab": {
          "base_uri": "https://localhost:8080/"
        },
        "id": "hLS5DBAG7rNp",
        "outputId": "805a0410-1a5e-423d-a4da-0e120b2afe54"
      },
      "execution_count": 7,
      "outputs": [
        {
          "output_type": "stream",
          "name": "stdout",
          "text": [
            "Looking in indexes: https://pypi.org/simple, https://us-python.pkg.dev/colab-wheels/public/simple/\n",
            "Collecting Bio\n",
            "  Downloading bio-1.5.9-py3-none-any.whl (276 kB)\n",
            "\u001b[2K     \u001b[90m━━━━━━━━━━━━━━━━━━━━━━━━━━━━━━━━━━━━━━━\u001b[0m \u001b[32m276.4/276.4 kB\u001b[0m \u001b[31m6.0 MB/s\u001b[0m eta \u001b[36m0:00:00\u001b[0m\n",
            "\u001b[?25hRequirement already satisfied: tqdm in /usr/local/lib/python3.10/dist-packages (from Bio) (4.65.0)\n",
            "Requirement already satisfied: requests in /usr/local/lib/python3.10/dist-packages (from Bio) (2.27.1)\n",
            "Collecting gprofiler-official\n",
            "  Downloading gprofiler_official-1.0.0-py3-none-any.whl (9.3 kB)\n",
            "Collecting mygene\n",
            "  Downloading mygene-3.2.2-py2.py3-none-any.whl (5.4 kB)\n",
            "Collecting biopython>=1.80\n",
            "  Downloading biopython-1.81-cp310-cp310-manylinux_2_17_x86_64.manylinux2014_x86_64.whl (3.1 MB)\n",
            "\u001b[2K     \u001b[90m━━━━━━━━━━━━━━━━━━━━━━━━━━━━━━━━━━━━━━━━\u001b[0m \u001b[32m3.1/3.1 MB\u001b[0m \u001b[31m49.5 MB/s\u001b[0m eta \u001b[36m0:00:00\u001b[0m\n",
            "\u001b[?25hRequirement already satisfied: pandas in /usr/local/lib/python3.10/dist-packages (from Bio) (1.5.3)\n",
            "Requirement already satisfied: pooch in /usr/local/lib/python3.10/dist-packages (from Bio) (1.6.0)\n",
            "Requirement already satisfied: numpy in /usr/local/lib/python3.10/dist-packages (from biopython>=1.80->Bio) (1.22.4)\n",
            "Collecting biothings-client>=0.2.6\n",
            "  Downloading biothings_client-0.3.0-py2.py3-none-any.whl (29 kB)\n",
            "Requirement already satisfied: python-dateutil>=2.8.1 in /usr/local/lib/python3.10/dist-packages (from pandas->Bio) (2.8.2)\n",
            "Requirement already satisfied: pytz>=2020.1 in /usr/local/lib/python3.10/dist-packages (from pandas->Bio) (2022.7.1)\n",
            "Requirement already satisfied: appdirs>=1.3.0 in /usr/local/lib/python3.10/dist-packages (from pooch->Bio) (1.4.4)\n",
            "Requirement already satisfied: packaging>=20.0 in /usr/local/lib/python3.10/dist-packages (from pooch->Bio) (23.1)\n",
            "Requirement already satisfied: idna<4,>=2.5 in /usr/local/lib/python3.10/dist-packages (from requests->Bio) (3.4)\n",
            "Requirement already satisfied: urllib3<1.27,>=1.21.1 in /usr/local/lib/python3.10/dist-packages (from requests->Bio) (1.26.15)\n",
            "Requirement already satisfied: certifi>=2017.4.17 in /usr/local/lib/python3.10/dist-packages (from requests->Bio) (2022.12.7)\n",
            "Requirement already satisfied: charset-normalizer~=2.0.0 in /usr/local/lib/python3.10/dist-packages (from requests->Bio) (2.0.12)\n",
            "Requirement already satisfied: six>=1.5 in /usr/local/lib/python3.10/dist-packages (from python-dateutil>=2.8.1->pandas->Bio) (1.16.0)\n",
            "Installing collected packages: biopython, gprofiler-official, biothings-client, mygene, Bio\n",
            "Successfully installed Bio-1.5.9 biopython-1.81 biothings-client-0.3.0 gprofiler-official-1.0.0 mygene-3.2.2\n"
          ]
        }
      ]
    },
    {
      "cell_type": "code",
      "source": [
        "import pandas as pd \n",
        "  \n",
        "# read the table from the website \n",
        "url = \"http://people.iiti.ac.in/~amitk/bsbe/ipdb/g4rna.php?start=3\"\n",
        "table = pd.read_html(url) \n",
        "  \n",
        "# download the table \n",
        "table[0]"
      ],
      "metadata": {
        "colab": {
          "base_uri": "https://localhost:8080/",
          "height": 464
        },
        "id": "ErdW2PHS5Odc",
        "outputId": "721bdfa8-cdfa-4edf-e2a4-1f58d0da06e4"
      },
      "execution_count": 65,
      "outputs": [
        {
          "output_type": "execute_result",
          "data": {
            "text/plain": [
              "  Interaction ID       RNA Target_Name  \\\n",
              "0        G4RIP17  G-quadruplexes, mRNA   \n",
              "1        G4RIP18  G-quadruplexes, mRNA   \n",
              "2        G4RIP19  G-quadruplexes, mRNA   \n",
              "3        G4RIP20  G-quadruplexes, mRNA   \n",
              "4        G4RIP21  G-quadruplexes, mRNA   \n",
              "\n",
              "                                 Target_RNA_Sequence  \\\n",
              "0  5'-[CUGCGAUGUGGAAGGAGUGGCUGGGUUGUGCAGC]-3',(G7...   \n",
              "1  5'-[CUGCGAUGUGGAAGGAGUGGCUGGGUUGUGCAGC]-3',(G7...   \n",
              "2  5'-[CUGCGAUGUGGAAGGAGUGGCUGGGUUGUGCAGC]-3',(G7...   \n",
              "3  5'-[CUGCGAUGUGGAAGGAGUGGCUGGGUUGUGCAGC]-3',(G7...   \n",
              "4  5'-[CUGCGAUGUGGAAGGAGUGGCUGGGUUGUGCAGC]-3',(G7...   \n",
              "\n",
              "        Interacting_Protein_Name  UniProt-ID  UniProt-Entry name  \\\n",
              "0  RGG motif of FMRP(CHIMPANZEE)         NaN                 NaN   \n",
              "1        RGG motif of FMRP(BULL)         NaN                 NaN   \n",
              "2         RGG motif of FMRP(PIG)         NaN                 NaN   \n",
              "3       RGG motif of FMRP(SHEEP)         NaN                 NaN   \n",
              "4         RGG motif of FMRP(DOG)         NaN                 NaN   \n",
              "\n",
              "   Reference:PMID  \n",
              "0        26374839  \n",
              "1        26374839  \n",
              "2        26374839  \n",
              "3        26374839  \n",
              "4        26374839  "
            ],
            "text/html": [
              "\n",
              "  <div id=\"df-c70fbeb6-f658-46e0-a409-5cd74d04a7b6\">\n",
              "    <div class=\"colab-df-container\">\n",
              "      <div>\n",
              "<style scoped>\n",
              "    .dataframe tbody tr th:only-of-type {\n",
              "        vertical-align: middle;\n",
              "    }\n",
              "\n",
              "    .dataframe tbody tr th {\n",
              "        vertical-align: top;\n",
              "    }\n",
              "\n",
              "    .dataframe thead th {\n",
              "        text-align: right;\n",
              "    }\n",
              "</style>\n",
              "<table border=\"1\" class=\"dataframe\">\n",
              "  <thead>\n",
              "    <tr style=\"text-align: right;\">\n",
              "      <th></th>\n",
              "      <th>Interaction ID</th>\n",
              "      <th>RNA Target_Name</th>\n",
              "      <th>Target_RNA_Sequence</th>\n",
              "      <th>Interacting_Protein_Name</th>\n",
              "      <th>UniProt-ID</th>\n",
              "      <th>UniProt-Entry name</th>\n",
              "      <th>Reference:PMID</th>\n",
              "    </tr>\n",
              "  </thead>\n",
              "  <tbody>\n",
              "    <tr>\n",
              "      <th>0</th>\n",
              "      <td>G4RIP17</td>\n",
              "      <td>G-quadruplexes, mRNA</td>\n",
              "      <td>5'-[CUGCGAUGUGGAAGGAGUGGCUGGGUUGUGCAGC]-3',(G7...</td>\n",
              "      <td>RGG motif of FMRP(CHIMPANZEE)</td>\n",
              "      <td>NaN</td>\n",
              "      <td>NaN</td>\n",
              "      <td>26374839</td>\n",
              "    </tr>\n",
              "    <tr>\n",
              "      <th>1</th>\n",
              "      <td>G4RIP18</td>\n",
              "      <td>G-quadruplexes, mRNA</td>\n",
              "      <td>5'-[CUGCGAUGUGGAAGGAGUGGCUGGGUUGUGCAGC]-3',(G7...</td>\n",
              "      <td>RGG motif of FMRP(BULL)</td>\n",
              "      <td>NaN</td>\n",
              "      <td>NaN</td>\n",
              "      <td>26374839</td>\n",
              "    </tr>\n",
              "    <tr>\n",
              "      <th>2</th>\n",
              "      <td>G4RIP19</td>\n",
              "      <td>G-quadruplexes, mRNA</td>\n",
              "      <td>5'-[CUGCGAUGUGGAAGGAGUGGCUGGGUUGUGCAGC]-3',(G7...</td>\n",
              "      <td>RGG motif of FMRP(PIG)</td>\n",
              "      <td>NaN</td>\n",
              "      <td>NaN</td>\n",
              "      <td>26374839</td>\n",
              "    </tr>\n",
              "    <tr>\n",
              "      <th>3</th>\n",
              "      <td>G4RIP20</td>\n",
              "      <td>G-quadruplexes, mRNA</td>\n",
              "      <td>5'-[CUGCGAUGUGGAAGGAGUGGCUGGGUUGUGCAGC]-3',(G7...</td>\n",
              "      <td>RGG motif of FMRP(SHEEP)</td>\n",
              "      <td>NaN</td>\n",
              "      <td>NaN</td>\n",
              "      <td>26374839</td>\n",
              "    </tr>\n",
              "    <tr>\n",
              "      <th>4</th>\n",
              "      <td>G4RIP21</td>\n",
              "      <td>G-quadruplexes, mRNA</td>\n",
              "      <td>5'-[CUGCGAUGUGGAAGGAGUGGCUGGGUUGUGCAGC]-3',(G7...</td>\n",
              "      <td>RGG motif of FMRP(DOG)</td>\n",
              "      <td>NaN</td>\n",
              "      <td>NaN</td>\n",
              "      <td>26374839</td>\n",
              "    </tr>\n",
              "  </tbody>\n",
              "</table>\n",
              "</div>\n",
              "      <button class=\"colab-df-convert\" onclick=\"convertToInteractive('df-c70fbeb6-f658-46e0-a409-5cd74d04a7b6')\"\n",
              "              title=\"Convert this dataframe to an interactive table.\"\n",
              "              style=\"display:none;\">\n",
              "        \n",
              "  <svg xmlns=\"http://www.w3.org/2000/svg\" height=\"24px\"viewBox=\"0 0 24 24\"\n",
              "       width=\"24px\">\n",
              "    <path d=\"M0 0h24v24H0V0z\" fill=\"none\"/>\n",
              "    <path d=\"M18.56 5.44l.94 2.06.94-2.06 2.06-.94-2.06-.94-.94-2.06-.94 2.06-2.06.94zm-11 1L8.5 8.5l.94-2.06 2.06-.94-2.06-.94L8.5 2.5l-.94 2.06-2.06.94zm10 10l.94 2.06.94-2.06 2.06-.94-2.06-.94-.94-2.06-.94 2.06-2.06.94z\"/><path d=\"M17.41 7.96l-1.37-1.37c-.4-.4-.92-.59-1.43-.59-.52 0-1.04.2-1.43.59L10.3 9.45l-7.72 7.72c-.78.78-.78 2.05 0 2.83L4 21.41c.39.39.9.59 1.41.59.51 0 1.02-.2 1.41-.59l7.78-7.78 2.81-2.81c.8-.78.8-2.07 0-2.86zM5.41 20L4 18.59l7.72-7.72 1.47 1.35L5.41 20z\"/>\n",
              "  </svg>\n",
              "      </button>\n",
              "      \n",
              "  <style>\n",
              "    .colab-df-container {\n",
              "      display:flex;\n",
              "      flex-wrap:wrap;\n",
              "      gap: 12px;\n",
              "    }\n",
              "\n",
              "    .colab-df-convert {\n",
              "      background-color: #E8F0FE;\n",
              "      border: none;\n",
              "      border-radius: 50%;\n",
              "      cursor: pointer;\n",
              "      display: none;\n",
              "      fill: #1967D2;\n",
              "      height: 32px;\n",
              "      padding: 0 0 0 0;\n",
              "      width: 32px;\n",
              "    }\n",
              "\n",
              "    .colab-df-convert:hover {\n",
              "      background-color: #E2EBFA;\n",
              "      box-shadow: 0px 1px 2px rgba(60, 64, 67, 0.3), 0px 1px 3px 1px rgba(60, 64, 67, 0.15);\n",
              "      fill: #174EA6;\n",
              "    }\n",
              "\n",
              "    [theme=dark] .colab-df-convert {\n",
              "      background-color: #3B4455;\n",
              "      fill: #D2E3FC;\n",
              "    }\n",
              "\n",
              "    [theme=dark] .colab-df-convert:hover {\n",
              "      background-color: #434B5C;\n",
              "      box-shadow: 0px 1px 3px 1px rgba(0, 0, 0, 0.15);\n",
              "      filter: drop-shadow(0px 1px 2px rgba(0, 0, 0, 0.3));\n",
              "      fill: #FFFFFF;\n",
              "    }\n",
              "  </style>\n",
              "\n",
              "      <script>\n",
              "        const buttonEl =\n",
              "          document.querySelector('#df-c70fbeb6-f658-46e0-a409-5cd74d04a7b6 button.colab-df-convert');\n",
              "        buttonEl.style.display =\n",
              "          google.colab.kernel.accessAllowed ? 'block' : 'none';\n",
              "\n",
              "        async function convertToInteractive(key) {\n",
              "          const element = document.querySelector('#df-c70fbeb6-f658-46e0-a409-5cd74d04a7b6');\n",
              "          const dataTable =\n",
              "            await google.colab.kernel.invokeFunction('convertToInteractive',\n",
              "                                                     [key], {});\n",
              "          if (!dataTable) return;\n",
              "\n",
              "          const docLinkHtml = 'Like what you see? Visit the ' +\n",
              "            '<a target=\"_blank\" href=https://colab.research.google.com/notebooks/data_table.ipynb>data table notebook</a>'\n",
              "            + ' to learn more about interactive tables.';\n",
              "          element.innerHTML = '';\n",
              "          dataTable['output_type'] = 'display_data';\n",
              "          await google.colab.output.renderOutput(dataTable, element);\n",
              "          const docLink = document.createElement('div');\n",
              "          docLink.innerHTML = docLinkHtml;\n",
              "          element.appendChild(docLink);\n",
              "        }\n",
              "      </script>\n",
              "    </div>\n",
              "  </div>\n",
              "  "
            ]
          },
          "metadata": {},
          "execution_count": 65
        }
      ]
    },
    {
      "cell_type": "code",
      "source": [
        "for i, j in zip(table[0]['Interaction ID'], table[0]['UniProt-ID']):\n",
        "  print(i, j)"
      ],
      "metadata": {
        "colab": {
          "base_uri": "https://localhost:8080/"
        },
        "id": "VVWfW-p27m8W",
        "outputId": "ee2201ec-4ef8-4a26-90b6-b45d9d920f84"
      },
      "execution_count": 43,
      "outputs": [
        {
          "output_type": "stream",
          "name": "stdout",
          "text": [
            "G4DIP1 P19338\n",
            "G4DIP2 P19338\n",
            "G4DIP3 P19338\n",
            "G4DIP4 P19338\n",
            "G4DIP5 P19338\n"
          ]
        }
      ]
    },
    {
      "cell_type": "code",
      "source": [
        "from Bio import SeqIO\n",
        "import pandas as pd\n",
        " \n",
        "# read the table from the website\n",
        "url = \"http://people.iiti.ac.in/~amitk/bsbe/ipdb/g4dna.php\"\n",
        "table = pd.read_html(url) \n",
        " \n",
        "# download the table\n",
        "table[0].to_csv(\"G4IPDB.csv\", index=False) \n",
        " \n",
        "# read the sequence data\n",
        "seq_records = list(SeqIO.parse(\"/path/to/sequence.fasta\", \"fasta\"))\n",
        " \n",
        "# create a dictionary of sequence data\n",
        "seq_dict = {record.id : record.seq for record in seq_records}\n",
        " \n",
        "# create a new column with the sequence\n",
        "table[0][\"Protein Sequence\"] = table[0][\"Interacting Protein Name\"].apply(\n",
        "    lambda protein: seq_dict[protein])\n",
        " \n",
        "# save the modified table\n",
        "with open(\"G4IPDB_with_fasta.csv\", \"w\") as f:\n",
        "    table.to_csv(f, index=False)"
      ],
      "metadata": {
        "colab": {
          "base_uri": "https://localhost:8080/",
          "height": 404
        },
        "id": "lHdo71Rd79ee",
        "outputId": "fd2566d8-24de-4c02-d87e-0a87dbb99528"
      },
      "execution_count": 9,
      "outputs": [
        {
          "output_type": "error",
          "ename": "FileNotFoundError",
          "evalue": "ignored",
          "traceback": [
            "\u001b[0;31m---------------------------------------------------------------------------\u001b[0m",
            "\u001b[0;31mFileNotFoundError\u001b[0m                         Traceback (most recent call last)",
            "\u001b[0;32m<ipython-input-9-40e3483fc338>\u001b[0m in \u001b[0;36m<cell line: 12>\u001b[0;34m()\u001b[0m\n\u001b[1;32m     10\u001b[0m \u001b[0;34m\u001b[0m\u001b[0m\n\u001b[1;32m     11\u001b[0m \u001b[0;31m# read the sequence data\u001b[0m\u001b[0;34m\u001b[0m\u001b[0;34m\u001b[0m\u001b[0m\n\u001b[0;32m---> 12\u001b[0;31m \u001b[0mseq_records\u001b[0m \u001b[0;34m=\u001b[0m \u001b[0mlist\u001b[0m\u001b[0;34m(\u001b[0m\u001b[0mSeqIO\u001b[0m\u001b[0;34m.\u001b[0m\u001b[0mparse\u001b[0m\u001b[0;34m(\u001b[0m\u001b[0;34m\"/path/to/sequence.fasta\"\u001b[0m\u001b[0;34m,\u001b[0m \u001b[0;34m\"fasta\"\u001b[0m\u001b[0;34m)\u001b[0m\u001b[0;34m)\u001b[0m\u001b[0;34m\u001b[0m\u001b[0;34m\u001b[0m\u001b[0m\n\u001b[0m\u001b[1;32m     13\u001b[0m \u001b[0;34m\u001b[0m\u001b[0m\n\u001b[1;32m     14\u001b[0m \u001b[0;31m# create a dictionary of sequence data\u001b[0m\u001b[0;34m\u001b[0m\u001b[0;34m\u001b[0m\u001b[0m\n",
            "\u001b[0;32m/usr/local/lib/python3.10/dist-packages/Bio/SeqIO/__init__.py\u001b[0m in \u001b[0;36mparse\u001b[0;34m(handle, format, alphabet)\u001b[0m\n\u001b[1;32m    603\u001b[0m     \u001b[0miterator_generator\u001b[0m \u001b[0;34m=\u001b[0m \u001b[0m_FormatToIterator\u001b[0m\u001b[0;34m.\u001b[0m\u001b[0mget\u001b[0m\u001b[0;34m(\u001b[0m\u001b[0mformat\u001b[0m\u001b[0;34m)\u001b[0m\u001b[0;34m\u001b[0m\u001b[0;34m\u001b[0m\u001b[0m\n\u001b[1;32m    604\u001b[0m     \u001b[0;32mif\u001b[0m \u001b[0miterator_generator\u001b[0m\u001b[0;34m:\u001b[0m\u001b[0;34m\u001b[0m\u001b[0;34m\u001b[0m\u001b[0m\n\u001b[0;32m--> 605\u001b[0;31m         \u001b[0;32mreturn\u001b[0m \u001b[0miterator_generator\u001b[0m\u001b[0;34m(\u001b[0m\u001b[0mhandle\u001b[0m\u001b[0;34m)\u001b[0m\u001b[0;34m\u001b[0m\u001b[0;34m\u001b[0m\u001b[0m\n\u001b[0m\u001b[1;32m    606\u001b[0m     \u001b[0;32mif\u001b[0m \u001b[0mformat\u001b[0m \u001b[0;32min\u001b[0m \u001b[0mAlignIO\u001b[0m\u001b[0;34m.\u001b[0m\u001b[0m_FormatToIterator\u001b[0m\u001b[0;34m:\u001b[0m\u001b[0;34m\u001b[0m\u001b[0;34m\u001b[0m\u001b[0m\n\u001b[1;32m    607\u001b[0m         \u001b[0;31m# Use Bio.AlignIO to read in the alignments\u001b[0m\u001b[0;34m\u001b[0m\u001b[0;34m\u001b[0m\u001b[0m\n",
            "\u001b[0;32m/usr/local/lib/python3.10/dist-packages/Bio/SeqIO/FastaIO.py\u001b[0m in \u001b[0;36m__init__\u001b[0;34m(self, source, alphabet, title2ids)\u001b[0m\n\u001b[1;32m    221\u001b[0m             )\n\u001b[1;32m    222\u001b[0m         \u001b[0mself\u001b[0m\u001b[0;34m.\u001b[0m\u001b[0mtitle2ids\u001b[0m \u001b[0;34m=\u001b[0m \u001b[0mtitle2ids\u001b[0m\u001b[0;34m\u001b[0m\u001b[0;34m\u001b[0m\u001b[0m\n\u001b[0;32m--> 223\u001b[0;31m         \u001b[0msuper\u001b[0m\u001b[0;34m(\u001b[0m\u001b[0;34m)\u001b[0m\u001b[0;34m.\u001b[0m\u001b[0m__init__\u001b[0m\u001b[0;34m(\u001b[0m\u001b[0msource\u001b[0m\u001b[0;34m,\u001b[0m \u001b[0mmode\u001b[0m\u001b[0;34m=\u001b[0m\u001b[0;34m\"t\"\u001b[0m\u001b[0;34m,\u001b[0m \u001b[0mfmt\u001b[0m\u001b[0;34m=\u001b[0m\u001b[0;34m\"Fasta\"\u001b[0m\u001b[0;34m)\u001b[0m\u001b[0;34m\u001b[0m\u001b[0;34m\u001b[0m\u001b[0m\n\u001b[0m\u001b[1;32m    224\u001b[0m \u001b[0;34m\u001b[0m\u001b[0m\n\u001b[1;32m    225\u001b[0m     \u001b[0;32mdef\u001b[0m \u001b[0mparse\u001b[0m\u001b[0;34m(\u001b[0m\u001b[0mself\u001b[0m\u001b[0;34m,\u001b[0m \u001b[0mhandle\u001b[0m\u001b[0;34m)\u001b[0m\u001b[0;34m:\u001b[0m\u001b[0;34m\u001b[0m\u001b[0;34m\u001b[0m\u001b[0m\n",
            "\u001b[0;32m/usr/local/lib/python3.10/dist-packages/Bio/SeqIO/Interfaces.py\u001b[0m in \u001b[0;36m__init__\u001b[0;34m(self, source, alphabet, mode, fmt)\u001b[0m\n\u001b[1;32m     43\u001b[0m             \u001b[0;32mraise\u001b[0m \u001b[0mValueError\u001b[0m\u001b[0;34m(\u001b[0m\u001b[0;34m\"The alphabet argument is no longer supported\"\u001b[0m\u001b[0;34m)\u001b[0m\u001b[0;34m\u001b[0m\u001b[0;34m\u001b[0m\u001b[0m\n\u001b[1;32m     44\u001b[0m         \u001b[0;32mtry\u001b[0m\u001b[0;34m:\u001b[0m\u001b[0;34m\u001b[0m\u001b[0;34m\u001b[0m\u001b[0m\n\u001b[0;32m---> 45\u001b[0;31m             \u001b[0mself\u001b[0m\u001b[0;34m.\u001b[0m\u001b[0mstream\u001b[0m \u001b[0;34m=\u001b[0m \u001b[0mopen\u001b[0m\u001b[0;34m(\u001b[0m\u001b[0msource\u001b[0m\u001b[0;34m,\u001b[0m \u001b[0;34m\"r\"\u001b[0m \u001b[0;34m+\u001b[0m \u001b[0mmode\u001b[0m\u001b[0;34m)\u001b[0m\u001b[0;34m\u001b[0m\u001b[0;34m\u001b[0m\u001b[0m\n\u001b[0m\u001b[1;32m     46\u001b[0m             \u001b[0mself\u001b[0m\u001b[0;34m.\u001b[0m\u001b[0mshould_close_stream\u001b[0m \u001b[0;34m=\u001b[0m \u001b[0;32mTrue\u001b[0m\u001b[0;34m\u001b[0m\u001b[0;34m\u001b[0m\u001b[0m\n\u001b[1;32m     47\u001b[0m         \u001b[0;32mexcept\u001b[0m \u001b[0mTypeError\u001b[0m\u001b[0;34m:\u001b[0m  \u001b[0;31m# not a path, assume we received a stream\u001b[0m\u001b[0;34m\u001b[0m\u001b[0;34m\u001b[0m\u001b[0m\n",
            "\u001b[0;31mFileNotFoundError\u001b[0m: [Errno 2] No such file or directory: '/path/to/sequence.fasta'"
          ]
        }
      ]
    },
    {
      "cell_type": "code",
      "source": [
        "!rm -r G4IPDB\n",
        "!mkdir G4IPDB\n",
        "!mkdir G4IPDB/DNA"
      ],
      "metadata": {
        "colab": {
          "base_uri": "https://localhost:8080/"
        },
        "id": "TG3k9Ru6DpWE",
        "outputId": "bbe85a92-831e-46b6-aa63-7dc423eca62e"
      },
      "execution_count": 58,
      "outputs": [
        {
          "output_type": "stream",
          "name": "stdout",
          "text": [
            "rm: cannot remove 'G4IPDB': No such file or directory\n"
          ]
        }
      ]
    },
    {
      "cell_type": "code",
      "source": [
        "import numpy as np\n",
        "\n",
        "nans = 0\n",
        "for i in range(0, 27):\n",
        "    url = 'http://people.iiti.ac.in/~amitk/bsbe/ipdb/g4dna.php?start=' + str(i)\n",
        "    table = pd.read_html(url)[0]\n",
        "    for id, prot_id in zip(table['Interaction ID'], table['UniProt-ID']):\n",
        "      print(id, prot_id)\n",
        "      if prot_id is not np.NaN:\n",
        "          url = \"https://rest.uniprot.org/uniprotkb/\" + prot_id + \".fasta\"\n",
        "          r = requests.get(url)\n",
        "          \n",
        "          with open('/content/G4IPDB/DNA/' +id +'_'+ prot_id + '.txt', 'wb') as f: \n",
        "            f.write(r.content)\n",
        "      else:\n",
        "        nans+=1\n",
        "\n",
        "print(\"There are \", nans, \"interactions without UniProt-ID\")\n",
        "\n"
      ],
      "metadata": {
        "colab": {
          "base_uri": "https://localhost:8080/"
        },
        "id": "galjiUVn-ojo",
        "outputId": "975c14eb-8bdf-4cd2-d049-3cc603c65740"
      },
      "execution_count": 59,
      "outputs": [
        {
          "output_type": "stream",
          "name": "stdout",
          "text": [
            "G4DIP1 P19338\n",
            "G4DIP2 P19338\n",
            "G4DIP3 P19338\n",
            "G4DIP4 P19338\n",
            "G4DIP5 P19338\n",
            "G4DIP6 Q9H2U1\n",
            "G4DIP7 Q9H2U2\n",
            "G4DIP8 P07271\n",
            "G4DIP10 P54132\n",
            "G4DIP11 O94761\n",
            "G4DIP12 O94761\n",
            "G4DIP13 O94761\n",
            "G4DIP14 O94761\n",
            "G4DIP15 P09616\n",
            "G4DIP16 P09616\n",
            "G4DIP17 P09616\n",
            "G4DIP18 P09616\n",
            "G4DIP19 P09651\n",
            "G4DIP20 P09651\n",
            "G4DIP21 P09874\n",
            "G4DIP22 P06748\n",
            "G4DIP23 nan\n",
            "G4DIP24 Q07864\n",
            "G4DIP25 Q9Y253\n",
            "G4DIP26 A0A0A7DIX5\n",
            "G4DIP27 A0A0A7DIX5\n",
            "G4DIP28 P54132\n",
            "G4DIP29 P55265\n",
            "G4DIP30 P56270\n",
            "G4DIP31 P56270\n",
            "G4DIP32 P08047\n",
            "G4DIP33 P08047\n",
            "G4DIP34 Q16236\n",
            "G4DIP35 P19447\n",
            "G4DIP36 P18074\n",
            "G4DIP37 nan\n",
            "G4DIP38 P54274\n",
            "G4DIP39 Q15554\n",
            "G4DIP40 Q9NUX5\n",
            "G4DIP41 Q9BSI4\n",
            "G4DIP42 Q9NUX5\n",
            "G4DIP43 Q96AP0\n",
            "G4DIP44 Q9UBP0\n",
            "G4DIP45 Q9UBP1\n",
            "G4DIP46 Q9UBP2\n",
            "G4DIP47 Q9UBP3\n",
            "G4DIP48 Q9UBP4\n",
            "G4DIP49 P49913\n",
            "G4DIP50 P0A7G6\n",
            "G4DIP51 nan\n",
            "G4DIP52 P54274\n",
            "G4DIP53 Q15554\n",
            "G4DIP54 Q9NUX5\n",
            "G4DIP55 Q96AP0\n",
            "G4DIP56 Q15554\n",
            "G4DIP57 Q9BSI4\n",
            "G4DIP58 P35637\n",
            "G4DIP59 P06748\n",
            "G4DIP60 P06748\n",
            "G4DIP61 P06748\n",
            "G4DIP62 P06748\n",
            "G4DIP63 P06748\n",
            "G4DIP64 Q27ZJ9\n",
            "G4DIP65 P22626\n",
            "G4DIP66 P07271\n",
            "G4DIP67 P15927\n",
            "G4DIP68 P27694\n",
            "G4DIP69 P19338\n",
            "G4DIP70 P09651\n",
            "G4DIP71 P09651\n",
            "G4DIP72 P01344\n",
            "G4DIP73 P01344\n",
            "G4DIP74 P01344\n",
            "G4DIP75 P19338\n",
            "G4DIP76 P09874\n",
            "G4DIP77 Q9QVN9\n",
            "G4DIP78 P09651\n",
            "G4DIP79 P09651\n",
            "G4DIP80 P09651\n",
            "G4DIP81 nan\n",
            "G4DIP82 nan\n",
            "G4DIP83 P27694\n",
            "G4DIP84 P27694\n",
            "G4DIP85 P22392\n",
            "G4DIP86 Q9H2U1\n",
            "G4DIP87 P15172\n",
            "G4DIP88 P13349\n",
            "G4DIP89 P23409\n",
            "G4DIP90 P15173\n",
            "G4DIP91 P09874\n",
            "G4DIP92 O14746\n",
            "G4DIP93 P09874\n",
            "G4DIP94 G3IJJ1\n",
            "G4DIP95 Q9QVN9\n",
            "G4DIP96 Q60449\n",
            "G4DIP97 P09651\n",
            "G4DIP98 Q9R152\n",
            "G4DIP99 G3IJJ1\n",
            "G4DIP100 Q9QVN9\n",
            "G4DIP101 Q60449\n",
            "G4DIP102 P09651\n",
            "G4DIP103 Q15554\n",
            "G4DIP104 P43489\n",
            "G4DIP105 P18146\n",
            "G4DIP106 P27694\n",
            "G4DIP107 F4ILR7\n",
            "G4DIP108 P04591\n",
            "G4DIP109 P04591\n",
            "G4DIP110 Q9NUX5\n",
            "G4DIP111 nan\n",
            "G4DIP112 P67809\n",
            "G4DIP113 Q7M032\n",
            "G4DIP114 Q9NYB0\n",
            "G4DIP115 nan\n",
            "G4DIP116 nan\n",
            "G4DIP117 Q9H2U1\n",
            "G4DIP118 Q96FI4\n",
            "G4DIP119 Q969S2\n",
            "G4DIP120 Q8TAT5\n",
            "G4DIP121 Q9NS56\n",
            "G4DIP122 Q9NS56\n",
            "G4DIP123 Q9NS56\n",
            "G4DIP124 Q15554\n",
            "G4DIP125 Q15554\n",
            "G4DIP126 Q15554\n",
            "G4DIP127 P46100\n",
            "G4DIP128 P26358\n",
            "G4DIP129 Q9Y6K1\n",
            "G4DIP130 Q9UBC3\n",
            "G4DIP131 P26358\n",
            "G4DIP132 Q9Y6K1\n",
            "G4DIP133 Q9UBC3\n",
            "G4DIP134 P26358\n",
            "G4DIP135 Q9Y6K1\n",
            "G4DIP136 Q9UBC3\n",
            "There are  8 interactions without UniProt-ID\n"
          ]
        }
      ]
    },
    {
      "cell_type": "code",
      "source": [
        "!rm -r G4IPDB/RNA\n",
        "!mkdir G4IPDB/RNA"
      ],
      "metadata": {
        "id": "e3kpRtbO-qDX"
      },
      "execution_count": 66,
      "outputs": []
    },
    {
      "cell_type": "code",
      "source": [
        "import numpy as np\n",
        "\n",
        "nans = 0\n",
        "for i in range(0, 27):\n",
        "    url = 'http://people.iiti.ac.in/~amitk/bsbe/ipdb/g4rna.php?start=' + str(i)\n",
        "    table = pd.read_html(url)[0].dropna(subset=['UniProt-ID'])\n",
        "    \n",
        "    for id, prot_id in zip(table['Interaction ID'], table['UniProt-ID']):\n",
        "      print(id, prot_id)\n",
        "      if prot_id and prot_id != 'nan' and prot_id is not np.NaN:\n",
        "          url = \"https://rest.uniprot.org/uniprotkb/\" + prot_id + \".fasta\"\n",
        "          r = requests.get(url)\n",
        "          \n",
        "          with open('/content/G4IPDB/RNA/' +id +'_'+ prot_id + '.txt', 'wb') as f: \n",
        "            f.write(r.content)\n",
        "      else:\n",
        "        nans+=1\n",
        "\n",
        "print(\"There are \", nans, \"RNA interactions without UniProt-ID\")\n"
      ],
      "metadata": {
        "colab": {
          "base_uri": "https://localhost:8080/"
        },
        "id": "oXCeavv5LMi4",
        "outputId": "9ba5c26f-c2d2-462a-c184-65ea8530acd8"
      },
      "execution_count": 67,
      "outputs": [
        {
          "output_type": "stream",
          "name": "stdout",
          "text": [
            "G4RIP1 Q13158\n",
            "G4RIP2 P52719\n",
            "G4RIP3 O14746\n",
            "G4RIP4 Q06787\n",
            "G4RIP5 Q06787\n",
            "G4RIP7 Q15554\n",
            "G4RIP8 Q15554\n",
            "G4RIP9 Q15554\n",
            "G4RIP10 Q15554\n",
            "G4RIP11 Q06787\n",
            "G4RIP12 Q06787\n",
            "G4RIP13 Q06787\n",
            "G4RIP14 Q06787\n",
            "G4RIP15 Q06787\n",
            "G4RIP16 Q06787\n",
            "G4RIP26 P35922\n",
            "G4RIP27 Q80WE1\n",
            "G4RIP32 O14672\n",
            "G4RIP33 Q06787\n",
            "G4RIP34 Q06787\n",
            "G4RIP35 P19338\n",
            "G4RIP36 A0A024QZ77\n",
            "G4RIP37 Q07955\n",
            "G4RIP38 P26368\n",
            "G4RIP39 P19338\n",
            "G4RIP40 Q96C19\n",
            "G4RIP41 Q07955\n",
            "G4RIP42 P26368\n",
            "G4RIP43 Q9H2U1\n",
            "G4RIP44 Q8NC60\n",
            "G4RIP45 P35637\n",
            "G4RIP46 P52597\n",
            "G4RIP47 P52598\n",
            "G4RIP48 P52599\n",
            "G4RIP49 Q9H2U1\n",
            "G4RIP50 Q9H2U1\n",
            "G4RIP51 Q6IB29\n",
            "G4RIP52 Q6IB29\n",
            "G4RIP53 Q9H2U1\n",
            "G4RIP54 Q06787\n",
            "G4RIP56 Q9H2U1\n",
            "G4RIP57 Q15554\n",
            "G4RIP58 Q9H2U1\n",
            "G4RIP59 Q9H2U1\n",
            "G4RIP60 P09874\n",
            "G4RIP61 P51991\n",
            "G4RIP62 P23246\n",
            "G4RIP63 Q15393\n",
            "G4RIP64 Q15717\n",
            "G4RIP65 Q12906\n",
            "G4RIP66 Q15233\n",
            "G4RIP67 O43390\n",
            "G4RIP68 P14866\n",
            "G4RIP69 Q15424\n",
            "G4RIP70 Q9NZI8\n",
            "G4RIP71 Q14151\n",
            "G4RIP72 P09651\n",
            "G4RIP73 P55265\n",
            "G4RIP74 DHX15\n",
            "G4RIP75 Q12905\n",
            "G4RIP76 Q7L2E3\n",
            "G4RIP77 P61978\n",
            "G4RIP78 Q9NR30\n",
            "G4RIP79 P35637\n",
            "G4RIP80 Q13148\n",
            "There are  0 RNA interactions without UniProt-ID\n"
          ]
        }
      ]
    },
    {
      "cell_type": "code",
      "source": [
        "!cat /content/G4IPDB/DNA/G4DIP100_Q9QVN9.txt"
      ],
      "metadata": {
        "colab": {
          "base_uri": "https://localhost:8080/"
        },
        "id": "1RjBRNHxORFz",
        "outputId": "5b8dcc21-fb80-42f3-9ede-422185d7c3fa"
      },
      "execution_count": 68,
      "outputs": [
        {
          "output_type": "stream",
          "name": "stdout",
          "text": [
            ">tr|Q9QVN9|Q9QVN9_CRIGR KU70=DNA-dependent protein kinase 70 kDa DNA-binding subunit/DNA-PK Ku70 subunit OS=Cricetulus griseus OX=10029 PE=3 SV=1\n",
            "MSGWESYYKTEGEEEEEEEESPDPGGEYKYSGRDSLIFLVDASRAMFDSQGEDEITPFDM\n",
            "SIQCIQSVYTSKIISSNRDLLGVVFYGTEKDKNSVNFKNIYVLQELDNPGAKRVLELDQF\n",
            "KGQQGKKHFQDTIGHGSDYSLSEVLWVCANLFSDVQVKMSHKRIMLFTNEDDPHGNDSAK\n",
            "ASRARTKANDLRDTGIFLDLMHLKRRGGFDISLFYRDIMSIAEDEDLGVHFEESSKLEDL\n",
            "LRKVRAKETKKRVLSRLRFKLGKDVALMVGIYNLIQKANKPFPVRLYRETNEPVKTKTRT\n",
            "FNVNTGSLLLPSDTKRSQTYGSRQIVLEKEETEELKRFDEPGLILMGFKALVMLKKHHYL\n",
            "RPSLFVYPEESLVNGSSTLFSALLTKCLEKEVMAVCRYTSRKNVPPYFVALVPQEEELDD\n",
            "QNIQVTPAGFQLVFLPYADDKRKVPFTEKVMANPEQIDKMKAIVHNVRFTYRSDSFENPV\n",
            "LQQHFRNLEALALDMMESEQVVDLTLPKAEAIKKRLGSLADEFKELVYPPGYNPEGKATK\n",
            "RKQDDEGSASKKPKEELSEEELKAHFAKGTLGKLTVPTLKEVCKAYGLKSGPKKQELLDA\n",
            "LTRHFQKN\n"
          ]
        }
      ]
    },
    {
      "cell_type": "code",
      "source": [],
      "metadata": {
        "id": "1PCoCW39OUCF"
      },
      "execution_count": null,
      "outputs": []
    }
  ]
}